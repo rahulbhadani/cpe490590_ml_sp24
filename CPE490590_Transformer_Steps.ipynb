{
 "cells": [
  {
   "cell_type": "markdown",
   "metadata": {},
   "source": [
    "# Explaining Transformers in Machine Learning\n",
    "## CPE 490 590 Spring 2024\n",
    "### Author: Rahul Bhadani\n",
    "#### Based on work by Hunter J Philips"
   ]
  },
  {
   "cell_type": "markdown",
   "metadata": {},
   "source": [
    "# 1. Tokens"
   ]
  },
  {
   "cell_type": "code",
   "execution_count": 1,
   "metadata": {},
   "outputs": [
    {
     "data": {
      "text/plain": [
       "['winter',\n",
       " 'is',\n",
       " 'coming',\n",
       " 'the',\n",
       " 'air',\n",
       " 'grows',\n",
       " 'super',\n",
       " 'crisp',\n",
       " 'and',\n",
       " 'the',\n",
       " 'world',\n",
       " 'dons',\n",
       " 'its',\n",
       " 'icy',\n",
       " 'cloak',\n",
       " 'frost-kissed',\n",
       " 'mornings',\n",
       " 'paint',\n",
       " 'the',\n",
       " 'beautiful',\n",
       " 'landscape',\n",
       " 'in',\n",
       " 'delicate',\n",
       " 'hues',\n",
       " 'of',\n",
       " 'silver',\n",
       " 'and',\n",
       " 'blue']"
      ]
     },
     "execution_count": 1,
     "metadata": {},
     "output_type": "execute_result"
    }
   ],
   "source": [
    "# importing required libraries\n",
    "import math\n",
    "import copy\n",
    "import numpy as np\n",
    "\n",
    "# torch packages\n",
    "import torch\n",
    "import torch.nn as nn\n",
    "import torch.nn.functional as F\n",
    "from torch import Tensor\n",
    "\n",
    "# visualization packages\n",
    "from mpl_toolkits import mplot3d\n",
    "import matplotlib.pyplot as plt\n",
    "\n",
    "example = \"Winter is coming! The air grows super crisp, and the world dons its icy cloak. Frost-kissed mornings paint the beautiful landscape in delicate hues of silver and blue.\"\n",
    "\n",
    "def tokenize(sequence):\n",
    "    # Split the sequence on spaces\n",
    "    tokens = sequence.split(\" \")\n",
    "\n",
    "    # Remove punctuation from each token\n",
    "    cleaned_tokens = []\n",
    "    for token in tokens:\n",
    "        # Remove trailing punctuation (if any)\n",
    "        cleaned_token = token.rstrip(\".,!?\")\n",
    "        cleaned_tokens.append(cleaned_token.lower())\n",
    "\n",
    "    return cleaned_tokens\n",
    "\n",
    "# Example usage:\n",
    "tokenize(example)"
   ]
  },
  {
   "cell_type": "markdown",
   "metadata": {},
   "source": [
    "## Building Vocabulary"
   ]
  },
  {
   "cell_type": "code",
   "execution_count": 2,
   "metadata": {},
   "outputs": [
    {
     "data": {
      "text/plain": [
       "{'air': 0,\n",
       " 'and': 1,\n",
       " 'beautiful': 2,\n",
       " 'blue': 3,\n",
       " 'cloak': 4,\n",
       " 'coming': 5,\n",
       " 'crisp': 6,\n",
       " 'delicate': 7,\n",
       " 'dons': 8,\n",
       " 'frost-kissed': 9,\n",
       " 'grows': 10,\n",
       " 'hues': 11,\n",
       " 'icy': 12,\n",
       " 'in': 13,\n",
       " 'is': 14,\n",
       " 'its': 15,\n",
       " 'landscape': 16,\n",
       " 'mornings': 17,\n",
       " 'of': 18,\n",
       " 'paint': 19,\n",
       " 'silver': 20,\n",
       " 'super': 21,\n",
       " 'the': 22,\n",
       " 'winter': 23,\n",
       " 'world': 24}"
      ]
     },
     "execution_count": 2,
     "metadata": {},
     "output_type": "execute_result"
    }
   ],
   "source": [
    "def build_vocab(data):\n",
    "  # tokenize the data and remove duplicates\n",
    "  vocab = list(set(tokenize(data)))\n",
    "\n",
    "  # sort the vocabulary\n",
    "  vocab.sort()\n",
    "\n",
    "  # assign an integer to each word\n",
    "  stoi = {word:i for i, word in enumerate(vocab)}\n",
    "\n",
    "  return stoi\n",
    "\n",
    "# build the vocab\n",
    "stoi = build_vocab(example)\n",
    "\n",
    "stoi "
   ]
  },
  {
   "cell_type": "markdown",
   "metadata": {},
   "source": [
    "## Construct a new sequence"
   ]
  },
  {
   "cell_type": "code",
   "execution_count": 3,
   "metadata": {},
   "outputs": [
    {
     "data": {
      "text/plain": [
       "[19, 22, 24, 6, 1, 3]"
      ]
     },
     "execution_count": 3,
     "metadata": {},
     "output_type": "execute_result"
    }
   ],
   "source": [
    "sequence = [stoi[word] for word in tokenize(\"paint the world crisp and blue\")]\n",
    "sequence"
   ]
  },
  {
   "cell_type": "code",
   "execution_count": 4,
   "metadata": {},
   "outputs": [],
   "source": [
    "# def tokenize_and_map(sequence, stoi):\n",
    "#     # Tokenize the input sequence\n",
    "#     tokens = tokenize(sequence)\n",
    "\n",
    "#     # Map each token to its index in the stoi dictionary\n",
    "#     mapped_sequence = [stoi.get(word, -1) for word in tokens]\n",
    "\n",
    "#     return mapped_sequence\n",
    "\n",
    "# # Example usage:\n",
    "# example = \"Winter is coming! The air grows crisp, and the world dons its icy cloak. Frost-kissed mornings paint the landscape in delicate hues of silver and blue.\"\n",
    "# sequence = tokenize_and_map(\"paint the world crisp and blue\", stoi)\n",
    "# print(sequence)"
   ]
  },
  {
   "cell_type": "markdown",
   "metadata": {},
   "source": [
    "# Create Embedding Layer"
   ]
  },
  {
   "cell_type": "code",
   "execution_count": 5,
   "metadata": {},
   "outputs": [
    {
     "name": "stdout",
     "output_type": "stream",
     "text": [
      "tensor([[0.3082, 0.0941, 0.2584],\n",
      "        [0.5125, 0.0838, 0.0045],\n",
      "        [0.2893, 0.4415, 0.4182],\n",
      "        [0.1422, 0.8611, 0.8751],\n",
      "        [0.3595, 0.8565, 0.0923],\n",
      "        [0.1761, 0.1137, 0.5044],\n",
      "        [0.3144, 0.0329, 0.5322],\n",
      "        [0.2519, 0.8380, 0.6386],\n",
      "        [0.4033, 0.0327, 0.7095],\n",
      "        [0.0861, 0.7767, 0.1223],\n",
      "        [0.1637, 0.7145, 0.4327],\n",
      "        [0.6187, 0.7120, 0.7199],\n",
      "        [0.1002, 0.4377, 0.6614],\n",
      "        [0.4756, 0.2184, 0.9050],\n",
      "        [0.2490, 0.0658, 0.9485],\n",
      "        [0.1059, 0.2857, 0.4634],\n",
      "        [0.2733, 0.1901, 0.9077],\n",
      "        [0.1809, 0.4807, 0.7635],\n",
      "        [0.4627, 0.7441, 0.0051],\n",
      "        [0.1206, 0.9963, 0.8866],\n",
      "        [0.3974, 0.5588, 0.8527],\n",
      "        [0.8696, 0.9656, 0.6817],\n",
      "        [0.2395, 0.8954, 0.6842],\n",
      "        [0.3806, 0.5063, 0.1574],\n",
      "        [0.6601, 0.1264, 0.2595]])\n"
     ]
    }
   ],
   "source": [
    "# vocab size\n",
    "vocab_size = len(stoi)\n",
    "\n",
    "# embedding dimensions\n",
    "d_model = 3\n",
    "\n",
    "# generate the embedding layer\n",
    "embeddings = torch.rand(vocab_size, d_model) # matrix of size (24, 3)\n",
    "print(embeddings)"
   ]
  },
  {
   "cell_type": "markdown",
   "metadata": {},
   "source": [
    "## With the embeddings created, the indexed sequence can be used to select the appropriate embedding for each token."
   ]
  },
  {
   "cell_type": "code",
   "execution_count": 6,
   "metadata": {},
   "outputs": [
    {
     "data": {
      "text/plain": [
       "tensor([[0.1206, 0.9963, 0.8866],\n",
       "        [0.2395, 0.8954, 0.6842],\n",
       "        [0.6601, 0.1264, 0.2595],\n",
       "        [0.3144, 0.0329, 0.5322],\n",
       "        [0.5125, 0.0838, 0.0045],\n",
       "        [0.1422, 0.8611, 0.8751]])"
      ]
     },
     "execution_count": 6,
     "metadata": {},
     "output_type": "execute_result"
    }
   ],
   "source": [
    "# embed the sequence\n",
    "embedded_sequence = embeddings[sequence]\n",
    "\n",
    "embedded_sequence"
   ]
  },
  {
   "cell_type": "code",
   "execution_count": 7,
   "metadata": {},
   "outputs": [
    {
     "data": {
      "text/plain": [
       "<mpl_toolkits.mplot3d.art3d.Path3DCollection at 0x7eff3169f280>"
      ]
     },
     "execution_count": 7,
     "metadata": {},
     "output_type": "execute_result"
    },
    {
     "data": {
      "image/png": "[encoded data removed]",
      "text/plain": [
       "<Figure size 640x480 with 1 Axes>"
      ]
     },
     "metadata": {},
     "output_type": "display_data"
    }
   ],
   "source": [
    "# visualize the embeddings in 3 dimensions\n",
    "x, y, z = embedded_sequence[:, 0], embedded_sequence[:, 1], embedded_sequence[:, 2] \n",
    "ax = plt.axes(projection='3d')\n",
    "ax.scatter3D(x, y, z) "
   ]
  },
  {
   "cell_type": "markdown",
   "metadata": {},
   "source": [
    "## Embeddings Using the PyTorch Module\n",
    "\n"
   ]
  },
  {
   "cell_type": "code",
   "execution_count": 8,
   "metadata": {},
   "outputs": [
    {
     "data": {
      "text/plain": [
       "tensor([[ 9.4900e-01, -3.3737e-01,  2.5209e-01, -2.8580e-01],\n",
       "        [-1.0575e+00,  1.6105e+00,  2.0476e+00, -9.3805e-01],\n",
       "        [ 1.1577e+00, -3.2667e+00,  1.0217e+00, -6.6671e-01],\n",
       "        [-2.4142e-01,  4.3843e-01,  1.4466e-01, -1.5016e+00],\n",
       "        [-3.6087e-01,  5.6677e-01, -7.3604e-01,  7.8010e-01],\n",
       "        [ 8.4311e-01, -8.9779e-01, -1.8664e-01,  1.3147e+00],\n",
       "        [-3.5963e-01,  6.2844e-01,  5.3665e-01, -1.0837e+00],\n",
       "        [-2.8043e-01,  8.7426e-01,  6.7185e-01,  2.3054e-01],\n",
       "        [ 6.7681e-01, -1.8100e-01,  1.0005e+00,  1.9081e-01],\n",
       "        [-8.9003e-02, -3.6998e-01, -8.9275e-01, -9.2206e-01],\n",
       "        [-4.6559e-01, -3.7633e-02,  1.6081e+00, -5.1749e-01],\n",
       "        [-7.4027e-02,  2.3521e+00, -4.6346e-01, -8.2612e-01],\n",
       "        [-8.1356e-02,  4.3065e-01,  1.2345e-01, -3.3652e-02],\n",
       "        [-2.5102e-01,  4.8565e-02, -1.7783e+00, -7.6499e-02],\n",
       "        [ 1.5191e+00, -3.2277e-01,  1.0981e+00,  4.6788e-01],\n",
       "        [-6.9628e-01,  3.7461e-01, -9.8974e-01, -7.9351e-01],\n",
       "        [ 2.0334e+00,  1.0505e-01, -1.1004e+00, -9.8974e-01],\n",
       "        [ 1.3197e+00, -2.0678e+00,  1.7982e+00,  2.2491e-01],\n",
       "        [ 7.2935e-01, -1.0902e+00, -9.6896e-01,  2.1099e-01],\n",
       "        [-1.8582e+00, -3.0174e-03, -1.4738e+00,  8.9648e-01],\n",
       "        [ 7.5826e-01, -9.1513e-01, -2.5249e+00,  8.9778e-01],\n",
       "        [ 6.0179e-01,  3.0527e-01,  6.5403e-02, -2.4042e-01],\n",
       "        [-1.8987e-01,  2.9730e-01,  7.9158e-01, -9.6543e-01],\n",
       "        [ 3.2654e-01, -1.1340e+00,  1.0299e+00,  1.3671e+00],\n",
       "        [ 1.7666e+00, -1.5659e+00, -1.3401e-01,  1.4952e+00]])"
      ]
     },
     "execution_count": 8,
     "metadata": {},
     "output_type": "execute_result"
    }
   ],
   "source": [
    "# vocab size\n",
    "vocab_size = len(stoi)\n",
    "\n",
    "# embedding dimensions\n",
    "d_model = 4\n",
    "\n",
    "# create the embeddings\n",
    "lut = nn.Embedding(vocab_size, d_model) # look-up table (lut)\n",
    "\n",
    "# view the embeddings\n",
    "lut.state_dict()['weight']"
   ]
  },
  {
   "cell_type": "code",
   "execution_count": 9,
   "metadata": {},
   "outputs": [
    {
     "data": {
      "text/plain": [
       "tensor([19, 22, 24,  6,  1,  3])"
      ]
     },
     "execution_count": 9,
     "metadata": {},
     "output_type": "execute_result"
    }
   ],
   "source": [
    "indices = torch.Tensor(sequence).long()\n",
    "\n",
    "indices"
   ]
  },
  {
   "cell_type": "markdown",
   "metadata": {},
   "source": [
    "## More than one sentences"
   ]
  },
  {
   "cell_type": "code",
   "execution_count": 10,
   "metadata": {},
   "outputs": [
    {
     "data": {
      "text/plain": [
       "[['the', 'air', 'grows', 'super', 'crisp'],\n",
       " ['and', 'the', 'world', 'dons', 'its'],\n",
       " ['mornings', 'paint', 'the', 'beautiful', 'landscape']]"
      ]
     },
     "execution_count": 10,
     "metadata": {},
     "output_type": "execute_result"
    }
   ],
   "source": [
    "# list of sequences (3, )\n",
    "L = 5\n",
    "sequences = [\"The air grows super crisp\",\n",
    "             \"and the world dons its.\",\n",
    "             \"mornings paint the beautiful landscape\"]\n",
    "\n",
    "# tokenize the sequences\n",
    "tokenized_sequences = [tokenize(seq) for seq in sequences]\n",
    "tokenized_sequences"
   ]
  },
  {
   "cell_type": "code",
   "execution_count": 11,
   "metadata": {},
   "outputs": [
    {
     "data": {
      "text/plain": [
       "[[22, 0, 10, 21, 6], [1, 22, 24, 8, 15], [17, 19, 22, 2, 16]]"
      ]
     },
     "execution_count": 11,
     "metadata": {},
     "output_type": "execute_result"
    }
   ],
   "source": [
    "# index the sequences \n",
    "stoi = build_vocab(example)\n",
    "\n",
    "indexed_sequences = [[stoi[word] for word in seq] for seq in tokenized_sequences]\n",
    "\n",
    "indexed_sequences"
   ]
  },
  {
   "cell_type": "code",
   "execution_count": 12,
   "metadata": {},
   "outputs": [
    {
     "name": "stdout",
     "output_type": "stream",
     "text": [
      "torch.Size([3, 5, 4])\n"
     ]
    },
    {
     "data": {
      "text/plain": [
       "tensor([[[-1.8987e-01,  2.9730e-01,  7.9158e-01, -9.6543e-01],\n",
       "         [ 9.4900e-01, -3.3737e-01,  2.5209e-01, -2.8580e-01],\n",
       "         [-4.6559e-01, -3.7633e-02,  1.6081e+00, -5.1749e-01],\n",
       "         [ 6.0179e-01,  3.0527e-01,  6.5403e-02, -2.4042e-01],\n",
       "         [-3.5963e-01,  6.2844e-01,  5.3665e-01, -1.0837e+00]],\n",
       "\n",
       "        [[-1.0575e+00,  1.6105e+00,  2.0476e+00, -9.3805e-01],\n",
       "         [-1.8987e-01,  2.9730e-01,  7.9158e-01, -9.6543e-01],\n",
       "         [ 1.7666e+00, -1.5659e+00, -1.3401e-01,  1.4952e+00],\n",
       "         [ 6.7681e-01, -1.8100e-01,  1.0005e+00,  1.9081e-01],\n",
       "         [-6.9628e-01,  3.7461e-01, -9.8974e-01, -7.9351e-01]],\n",
       "\n",
       "        [[ 1.3197e+00, -2.0678e+00,  1.7982e+00,  2.2491e-01],\n",
       "         [-1.8582e+00, -3.0174e-03, -1.4738e+00,  8.9648e-01],\n",
       "         [-1.8987e-01,  2.9730e-01,  7.9158e-01, -9.6543e-01],\n",
       "         [ 1.1577e+00, -3.2667e+00,  1.0217e+00, -6.6671e-01],\n",
       "         [ 2.0334e+00,  1.0505e-01, -1.1004e+00, -9.8974e-01]]],\n",
       "       grad_fn=<EmbeddingBackward0>)"
      ]
     },
     "execution_count": 12,
     "metadata": {},
     "output_type": "execute_result"
    }
   ],
   "source": [
    "# convert the sequences to a tensor\n",
    "tensor_sequences = torch.tensor(indexed_sequences).long()\n",
    "\n",
    "embedding_sequences = lut(tensor_sequences)\n",
    "print(embedding_sequences.shape)\n",
    "embedding_sequences\n"
   ]
  },
  {
   "cell_type": "code",
   "execution_count": 13,
   "metadata": {},
   "outputs": [
    {
     "data": {
      "text/plain": [
       "torch.Size([3, 5, 4])"
      ]
     },
     "execution_count": 13,
     "metadata": {},
     "output_type": "execute_result"
    }
   ],
   "source": [
    "embedding_sequences.shape"
   ]
  },
  {
   "cell_type": "markdown",
   "metadata": {},
   "source": [
    "## The output will be a (3, 5, 4) matrix, which correlates to (batch_size, seq_length, d_model)."
   ]
  },
  {
   "cell_type": "markdown",
   "metadata": {},
   "source": [
    "# Now you can create a new layer in PyTorch for Embedding"
   ]
  },
  {
   "cell_type": "code",
   "execution_count": 14,
   "metadata": {},
   "outputs": [
    {
     "name": "stdout",
     "output_type": "stream",
     "text": [
      "tensor([[ 0.1227, -0.6478, -0.2666, -0.6430],\n",
      "        [-2.0183,  0.9418,  0.2368,  1.5434],\n",
      "        [ 0.6513, -1.2490, -1.4104,  2.6194],\n",
      "        [ 2.9200,  0.4257,  3.2847,  0.4764],\n",
      "        [ 0.6979,  0.7306,  0.6418,  1.8422],\n",
      "        [-2.2606,  4.7066,  2.7464,  1.4683]], grad_fn=<MulBackward0>)\n",
      "[['the', 'air', 'grows', 'crisp'], ['and', 'the', 'world', 'dons'], ['mornings', 'paint', 'the', 'landscape']]\n",
      "[[22, 0, 10, 6], [1, 22, 24, 8], [17, 19, 22, 16]]\n",
      "torch.Size([3, 4, 4])\n",
      "tensor([[[-2.0183,  0.9418,  0.2368,  1.5434],\n",
      "         [-4.2355,  0.4561,  2.0146,  0.0145],\n",
      "         [ 0.2239,  0.3794, -0.7963, -1.1748],\n",
      "         [ 2.9200,  0.4257,  3.2847,  0.4764]],\n",
      "\n",
      "        [[ 0.6979,  0.7306,  0.6418,  1.8422],\n",
      "         [-2.0183,  0.9418,  0.2368,  1.5434],\n",
      "         [ 0.6513, -1.2490, -1.4104,  2.6194],\n",
      "         [-0.1647,  0.9421, -0.3210, -1.1161]],\n",
      "\n",
      "        [[ 3.4896, -0.1044, -0.4003,  0.8868],\n",
      "         [ 0.1227, -0.6478, -0.2666, -0.6430],\n",
      "         [-2.0183,  0.9418,  0.2368,  1.5434],\n",
      "         [ 0.5169,  0.6937,  0.0455,  1.1614]]], grad_fn=<MulBackward0>)\n"
     ]
    }
   ],
   "source": [
    "class Embeddings(nn.Module):\n",
    "  def __init__(self, vocab_size: int, d_model: int):\n",
    "    \"\"\"\n",
    "    Args:\n",
    "      vocab_size:     size of vocabulary\n",
    "      d_model:        dimension of embeddings\n",
    "    \"\"\"\n",
    "    # inherit from nn.Module\n",
    "    super().__init__()   \n",
    "     \n",
    "    # embedding look-up table (lut)                          \n",
    "    self.lut = nn.Embedding(vocab_size, d_model)   \n",
    "\n",
    "    # dimension of embeddings \n",
    "    self.d_model = d_model                          \n",
    "\n",
    "  def forward(self, x: Tensor):\n",
    "    \"\"\"\n",
    "    Args:\n",
    "      x:              input Tensor (batch_size, seq_length)\n",
    "      \n",
    "    Returns:\n",
    "                      embedding vector\n",
    "    \"\"\"\n",
    "    # embeddings by constant sqrt(d_model)\n",
    "    return self.lut(x) * math.sqrt(self.d_model)\n",
    "  \n",
    "\n",
    "# embedding dimensions\n",
    "d_model = 4\n",
    "\n",
    "lut = Embeddings(vocab_size, d_model)\n",
    "\n",
    "print(lut(indices))\n",
    "\n",
    "sequences = [\"The air grows crisp\",\n",
    "             \"and the world dons.\",\n",
    "             \"mornings paint the landscape\"]\n",
    "\n",
    "tokenized_sequences = [tokenize(seq) for seq in sequences]\n",
    "print(tokenized_sequences)\n",
    "\n",
    "indexed_sequences = [[stoi[word] for word in seq] for seq in tokenized_sequences]\n",
    "print(indexed_sequences)\n",
    "\n",
    "# convert the sequences to a tensor\n",
    "tensor_sequences = torch.tensor(indexed_sequences).long()\n",
    "\n",
    "embedding_sequences = lut(tensor_sequences)\n",
    "print(embedding_sequences.shape)\n",
    "print(embedding_sequences)"
   ]
  },
  {
   "cell_type": "markdown",
   "metadata": {},
   "source": [
    "# Positional Encoding"
   ]
  },
  {
   "cell_type": "markdown",
   "metadata": {},
   "source": [
    "The output below embeds four sequences with a `d_model` of 4."
   ]
  },
  {
   "cell_type": "code",
   "execution_count": 15,
   "metadata": {},
   "outputs": [
    {
     "data": {
      "text/plain": [
       "tensor([[[-0.34, -0.21, -0.94, -0.54],\n",
       "         [ 1.41,  1.02, -0.14, -1.56],\n",
       "         [-0.18, -0.23,  0.26,  0.40],\n",
       "         [ 0.31, -0.39, -0.40, -0.94]],\n",
       "\n",
       "        [[ 1.76,  2.11,  0.86,  0.35],\n",
       "         [-0.34, -0.21, -0.94, -0.54],\n",
       "         [ 0.78,  1.01,  0.30, -0.61],\n",
       "         [ 0.05, -0.87,  1.17,  0.58]],\n",
       "\n",
       "        [[-0.25,  1.42, -0.69, -0.37],\n",
       "         [-1.07,  0.27,  1.11,  0.27],\n",
       "         [-0.34, -0.21, -0.94, -0.54],\n",
       "         [-1.34,  0.93, -1.03, -0.49]]], grad_fn=<EmbeddingBackward0>)"
      ]
     },
     "execution_count": 15,
     "metadata": {},
     "output_type": "execute_result"
    }
   ],
   "source": [
    "# set the output to 2 decimal places without scientific notation\n",
    "torch.set_printoptions(precision=2, sci_mode=False)\n",
    "\n",
    "# tokenize the sequences\n",
    "tokenized_sequences = [tokenize(seq) for seq in sequences]\n",
    "\n",
    "# index the sequences \n",
    "indexed_sequences = [[stoi[word] for word in seq] for seq in tokenized_sequences]\n",
    "\n",
    "# convert the sequences to a tensor\n",
    "tensor_sequences = torch.tensor(indexed_sequences).long()\n",
    "\n",
    "# vocab size\n",
    "vocab_size = len(stoi)\n",
    "\n",
    "# embedding dimensions\n",
    "d_model = 4\n",
    "\n",
    "# create the embeddings\n",
    "lut = nn.Embedding(vocab_size, d_model) # look-up table (lut)\n",
    "\n",
    "# embed the sequence\n",
    "embeddings = lut(tensor_sequences)\n",
    "\n",
    "embeddings"
   ]
  },
  {
   "cell_type": "code",
   "execution_count": 16,
   "metadata": {},
   "outputs": [
    {
     "name": "stdout",
     "output_type": "stream",
     "text": [
      "(5, 4)\n"
     ]
    },
    {
     "data": {
      "text/plain": [
       "array([[ 0.        ,  1.        ,  0.        ,  1.        ],\n",
       "       [ 0.84147098,  0.54030231,  0.09983342,  0.99500417],\n",
       "       [ 0.90929743, -0.41614684,  0.19866933,  0.98006658],\n",
       "       [ 0.14112001, -0.9899925 ,  0.29552021,  0.95533649],\n",
       "       [-0.7568025 , -0.65364362,  0.38941834,  0.92106099]])"
      ]
     },
     "execution_count": 16,
     "metadata": {},
     "output_type": "execute_result"
    }
   ],
   "source": [
    "# maximum sequence length\n",
    "L = 5\n",
    "n = 100\n",
    "\n",
    "def gen_pe(max_length, d_model, n):\n",
    "\n",
    "  # generate an empty matrix for the positional encodings (pe)\n",
    "  pe = np.zeros(max_length*d_model).reshape(max_length, d_model) \n",
    "\n",
    "  # for each position\n",
    "  for k in np.arange(max_length):\n",
    "\n",
    "    # for each dimension\n",
    "    for i in np.arange(d_model//2):\n",
    "\n",
    "      # calculate the internal value for sin and cos\n",
    "      theta = k / (n ** ((2*i)/d_model))       \n",
    "\n",
    "      # even dims: sin   \n",
    "      pe[k, 2*i] = math.sin(theta) \n",
    "\n",
    "      # odd dims: cos               \n",
    "      pe[k, 2*i+1] = math.cos(theta)\n",
    "\n",
    "  return pe\n",
    "\n",
    "\n",
    "\n",
    "encodings = gen_pe(L, d_model, n)\n",
    "print(encodings.shape)\n",
    "encodings"
   ]
  },
  {
   "cell_type": "code",
   "execution_count": 17,
   "metadata": {},
   "outputs": [
    {
     "name": "stdout",
     "output_type": "stream",
     "text": [
      "4\n"
     ]
    },
    {
     "data": {
      "text/plain": [
       "array([[ 0.        ,  1.        ,  0.        ,  1.        ],\n",
       "       [ 0.84147098,  0.54030231,  0.09983342,  0.99500417],\n",
       "       [ 0.90929743, -0.41614684,  0.19866933,  0.98006658],\n",
       "       [ 0.14112001, -0.9899925 ,  0.29552021,  0.95533649]])"
      ]
     },
     "execution_count": 17,
     "metadata": {},
     "output_type": "execute_result"
    }
   ],
   "source": [
    "# select the first six tokens\n",
    "seq_length = embeddings.shape[1]\n",
    "print(seq_length)\n",
    "encodings[:seq_length]"
   ]
  },
  {
   "cell_type": "code",
   "execution_count": 18,
   "metadata": {},
   "outputs": [
    {
     "name": "stdout",
     "output_type": "stream",
     "text": [
      "(3, 4, 4)\n"
     ]
    },
    {
     "data": {
      "text/plain": [
       "array([[[-2.01828671,  1.94182545,  0.23680034,  2.54340839],\n",
       "        [-3.39405605,  0.99635258,  2.11443989,  1.00952852],\n",
       "        [ 1.13316003, -0.03679102, -0.59763555, -0.19470044],\n",
       "        [ 3.06116944, -0.56430909,  3.58022346,  1.43172649]],\n",
       "\n",
       "       [[ 0.69792652,  1.73059303,  0.6418305 ,  2.84218454],\n",
       "        [-1.17681572,  1.48212776,  0.33663376,  2.53841256],\n",
       "        [ 1.560609  , -1.66510352, -1.2117245 ,  3.5994244 ],\n",
       "        [-0.02359355, -0.04784393, -0.02544636, -0.16080364]],\n",
       "\n",
       "       [[ 3.48958731,  0.89555874, -0.40029725,  1.88684362],\n",
       "        [ 0.96417565, -0.10747746, -0.16681222,  0.35199224],\n",
       "        [-1.10898928,  0.52567861,  0.43546967,  2.52347497],\n",
       "        [ 0.65801852, -0.29632461,  0.34099757,  2.11669485]]])"
      ]
     },
     "execution_count": 18,
     "metadata": {},
     "output_type": "execute_result"
    }
   ],
   "source": [
    "positional_encoding = embedding_sequences.detach().numpy() + encodings[:seq_length]\n",
    "print(positional_encoding.shape)\n",
    "positional_encoding"
   ]
  },
  {
   "cell_type": "markdown",
   "metadata": {},
   "source": [
    "## Visualize the position encoding\n"
   ]
  },
  {
   "cell_type": "code",
   "execution_count": 19,
   "metadata": {},
   "outputs": [
    {
     "data": {
      "image/png": "[encoded data removed]",
      "text/plain": [
       "<Figure size 640x480 with 2 Axes>"
      ]
     },
     "metadata": {},
     "output_type": "display_data"
    }
   ],
   "source": [
    "def visualize_pe(max_length, d_model, n):\n",
    "  plt.imshow(gen_pe(max_length, d_model, n), aspect=\"auto\")\n",
    "  plt.title(\"Positional Encoding\")\n",
    "  plt.xlabel(\"Encoding Dimension\")\n",
    "  plt.ylabel(\"Position Index\")\n",
    "\n",
    "  # set the tick marks for the axes\n",
    "  if d_model < 10:\n",
    "    plt.xticks(torch.arange(0, d_model))\n",
    "  if max_length < 20:\n",
    "    plt.yticks(torch.arange(max_length-1, -1, -1))\n",
    "    \n",
    "  plt.colorbar()\n",
    "  plt.show()\n",
    "\n",
    "# plot the encodings\n",
    "max_length = 5\n",
    "d_model = 4\n",
    "n = 100\n",
    "\n",
    "visualize_pe(max_length, d_model, n)"
   ]
  },
  {
   "cell_type": "code",
   "execution_count": 20,
   "metadata": {},
   "outputs": [
    {
     "data": {
      "image/png": "[encoded data removed]",
      "text/plain": [
       "<Figure size 640x480 with 2 Axes>"
      ]
     },
     "metadata": {},
     "output_type": "display_data"
    }
   ],
   "source": [
    "# plot the encodings\n",
    "max_length = 1000\n",
    "d_model = 512\n",
    "n = 10000\n",
    "\n",
    "visualize_pe(max_length, d_model, n)"
   ]
  },
  {
   "cell_type": "markdown",
   "metadata": {},
   "source": [
    "# Now we can put together them to create a custom Layer for PositionalEncoding"
   ]
  },
  {
   "cell_type": "code",
   "execution_count": 21,
   "metadata": {},
   "outputs": [
    {
     "name": "stdout",
     "output_type": "stream",
     "text": [
      "tensor([[[-0.34, -0.21, -0.94, -0.54],\n",
      "         [ 1.41,  1.02, -0.14, -1.56],\n",
      "         [-0.18, -0.23,  0.26,  0.40],\n",
      "         [ 0.31, -0.39, -0.40, -0.94]],\n",
      "\n",
      "        [[ 1.76,  2.11,  0.86,  0.35],\n",
      "         [-0.34, -0.21, -0.94, -0.54],\n",
      "         [ 0.78,  1.01,  0.30, -0.61],\n",
      "         [ 0.05, -0.87,  1.17,  0.58]],\n",
      "\n",
      "        [[-0.25,  1.42, -0.69, -0.37],\n",
      "         [-1.07,  0.27,  1.11,  0.27],\n",
      "         [-0.34, -0.21, -0.94, -0.54],\n",
      "         [-1.34,  0.93, -1.03, -0.49]]], grad_fn=<EmbeddingBackward0>)\n",
      "OrderedDict([('pe', tensor([[[ 0.00,  1.00,  0.00,  1.00],\n",
      "         [ 0.84,  0.54,  0.01,  1.00],\n",
      "         [ 0.91, -0.42,  0.02,  1.00],\n",
      "         [ 0.14, -0.99,  0.03,  1.00],\n",
      "         [-0.76, -0.65,  0.04,  1.00]]]))])\n",
      "tensor([[[-0.34,  0.79, -0.94,  0.46],\n",
      "         [ 2.25,  1.56, -0.13, -0.56],\n",
      "         [ 0.73, -0.65,  0.28,  1.39],\n",
      "         [ 0.45, -1.38, -0.37,  0.06]],\n",
      "\n",
      "        [[ 1.76,  3.11,  0.86,  1.35],\n",
      "         [ 0.50,  0.33, -0.93,  0.46],\n",
      "         [ 1.69,  0.60,  0.32,  0.39],\n",
      "         [ 0.20, -1.86,  1.20,  1.58]],\n",
      "\n",
      "        [[-0.25,  2.42, -0.69,  0.63],\n",
      "         [-0.23,  0.81,  1.12,  1.27],\n",
      "         [ 0.57, -0.63, -0.92,  0.46],\n",
      "         [-1.20, -0.06, -1.00,  0.51]]], grad_fn=<AddBackward0>)\n"
     ]
    }
   ],
   "source": [
    "# class PositionalEncoding(nn.Module):\n",
    "#   def __init__(self, d_model: int, dropout: float = 0.1, max_length: int = 5000):\n",
    "#     \"\"\"\n",
    "#     Args:\n",
    "#       d_model:      dimension of embeddings\n",
    "#       dropout:      randomly zeroes-out some of the input\n",
    "#       max_length:   max sequence length\n",
    "#     \"\"\"\n",
    "#     # inherit from Module\n",
    "#     super().__init__()     \n",
    "\n",
    "#     # initialize dropout                  \n",
    "#     self.dropout = nn.Dropout(p=dropout)      \n",
    "\n",
    "#     # create tensor of 0s\n",
    "#     pe = torch.zeros(max_length, d_model)\n",
    "\n",
    "#     # for each position\n",
    "#     for k in np.arange(max_length):\n",
    "\n",
    "#       # for each dimension\n",
    "#       for i in np.arange(d_model//2):\n",
    "\n",
    "#         # calculate the internal value for sin and cos\n",
    "#         theta = k / (n ** ((2*i)/d_model))       \n",
    "\n",
    "#         # even dims: sin   \n",
    "#         pe[k, 2*i] = math.sin(theta) \n",
    "\n",
    "#         # odd dims: cos               \n",
    "#         pe[k, 2*i+1] = math.cos(theta)\n",
    "\n",
    "#         # buffers are saved in state_dict but not trained by the optimizer                        \n",
    "#     self.register_buffer(\"pe\", pe)                        \n",
    "\n",
    "#   def forward(self, x: Tensor):\n",
    "#     \"\"\"\n",
    "#     Args:\n",
    "#       x:        embeddings (batch_size, seq_length, d_model)\n",
    "    \n",
    "#     Returns:\n",
    "#                 embeddings + positional encodings (batch_size, seq_length, d_model)\n",
    "#     \"\"\"\n",
    "#     # add positional encoding to the embeddings\n",
    "#     x = x + self.pe[:, : x.size(1)].requires_grad_(False) \n",
    "\n",
    "#     # perform dropout\n",
    "#     return self.dropout(x)\n",
    "  \n",
    "\n",
    "print(embeddings)\n",
    "\n",
    "d_model = 4\n",
    "max_length = 5\n",
    "dropout = 0.0\n",
    "\n",
    "class PositionalEncoding(nn.Module):\n",
    "  def __init__(self, d_model: int, dropout: float = 0.1, max_length: int = 5000):\n",
    "    \"\"\"\n",
    "    Args:\n",
    "      d_model:      dimension of embeddings\n",
    "      dropout:      randomly zeroes-out some of the input\n",
    "      max_length:   max sequence length\n",
    "    \"\"\"\n",
    "    # inherit from Module\n",
    "    super().__init__()     \n",
    "\n",
    "    # initialize dropout                  \n",
    "    self.dropout = nn.Dropout(p=dropout)      \n",
    "\n",
    "    # create tensor of 0s\n",
    "    pe = torch.zeros(max_length, d_model)    \n",
    "\n",
    "    # create position column   \n",
    "    k = torch.arange(0, max_length).unsqueeze(1)  \n",
    "\n",
    "    # calc divisor for positional encoding \n",
    "    div_term = torch.exp(                                 \n",
    "            torch.arange(0, d_model, 2) * -(math.log(10000.0) / d_model)\n",
    "    )\n",
    "\n",
    "    # calc sine on even indices\n",
    "    pe[:, 0::2] = torch.sin(k * div_term)    \n",
    "\n",
    "    # calc cosine on odd indices   \n",
    "    pe[:, 1::2] = torch.cos(k * div_term)  \n",
    "\n",
    "    # add dimension     \n",
    "    pe = pe.unsqueeze(0)          \n",
    "\n",
    "    # buffers are saved in state_dict but not trained by the optimizer                        \n",
    "    self.register_buffer(\"pe\", pe)                        \n",
    "\n",
    "  def forward(self, x: Tensor):\n",
    "    \"\"\"\n",
    "    Args:\n",
    "      x:        embeddings (batch_size, seq_length, d_model)\n",
    "    \n",
    "    Returns:\n",
    "                embeddings + positional encodings (batch_size, seq_length, d_model)\n",
    "    \"\"\"\n",
    "    # add positional encoding to the embeddings\n",
    "    x = x + self.pe[:, : x.size(1)].requires_grad_(False) \n",
    "\n",
    "    # perform dropout\n",
    "    return self.dropout(x)\n",
    "\n",
    "\n",
    "# create the positional encoding matrix\n",
    "pe = PositionalEncoding(d_model, dropout, max_length)\n",
    "\n",
    "# preview the values\n",
    "\n",
    "print(pe.state_dict())\n",
    "\n",
    "print(pe(embeddings))"
   ]
  },
  {
   "cell_type": "markdown",
   "metadata": {},
   "source": [
    "# Multi-head Attention"
   ]
  },
  {
   "cell_type": "code",
   "execution_count": 22,
   "metadata": {},
   "outputs": [
    {
     "name": "stdout",
     "output_type": "stream",
     "text": [
      "tensor([[[-1.80, -0.00, -0.87, -0.00],\n",
      "         [-2.52,  1.38,  1.51,  0.43],\n",
      "         [-0.00,  0.26, -2.30,  4.01],\n",
      "         [-0.00, -3.70, -2.67,  0.00]],\n",
      "\n",
      "        [[-1.10,  0.00, -1.61, -0.89],\n",
      "         [-0.86, -0.71, -0.86, -0.65],\n",
      "         [ 0.81, -2.06,  0.12,  2.99],\n",
      "         [ 0.15,  0.79, -0.00,  0.31]],\n",
      "\n",
      "        [[ 2.83, -0.70,  2.02, -0.84],\n",
      "         [ 0.17,  4.38, -4.62,  1.32],\n",
      "         [-0.79, -1.78, -0.85, -0.65],\n",
      "         [ 0.26,  2.08, -1.86,  2.30]]], grad_fn=<MulBackward0>)\n",
      "torch.Size([3, 4, 4])\n"
     ]
    }
   ],
   "source": [
    "lut = Embeddings(vocab_size=len(stoi), d_model=4)\n",
    "pe = PositionalEncoding(d_model=4, dropout=0.1, max_length=L)\n",
    "embeddings = lut(tensor_sequences)\n",
    "X = pe(embeddings)\n",
    "print(X)\n",
    "print(X.shape)"
   ]
  },
  {
   "cell_type": "markdown",
   "metadata": {},
   "source": [
    "## Let's create linear layer specifying Weights for Query, Key and Values"
   ]
  },
  {
   "cell_type": "code",
   "execution_count": 23,
   "metadata": {},
   "outputs": [
    {
     "data": {
      "text/plain": [
       "tensor([[ 0.24,  0.32, -0.39, -0.47],\n",
       "        [-0.31, -0.46, -0.33,  0.46],\n",
       "        [-0.08,  0.03,  0.11,  0.21],\n",
       "        [-0.09,  0.38, -0.27, -0.34]])"
      ]
     },
     "execution_count": 23,
     "metadata": {},
     "output_type": "execute_result"
    }
   ],
   "source": [
    "Wq = nn.Linear(d_model, d_model)          # query weights (4,4)\n",
    "Wk = nn.Linear(d_model, d_model)          # key weights   (4,4)\n",
    "Wv = nn.Linear(d_model, d_model)          # value weights (4,4)\n",
    "\n",
    "Wq.state_dict()['weight']"
   ]
  },
  {
   "cell_type": "code",
   "execution_count": 24,
   "metadata": {},
   "outputs": [
    {
     "name": "stdout",
     "output_type": "stream",
     "text": [
      "torch.Size([3, 4, 4])\n",
      "tensor([[[-0.27,  0.81, -0.20,  0.15],\n",
      "         [-1.13, -0.20,  0.25, -0.06],\n",
      "         [-1.08,  2.46,  0.36, -0.87],\n",
      "         [-0.31,  2.57, -0.63, -0.92]],\n",
      "\n",
      "        [[ 0.61,  0.42, -0.52,  0.59],\n",
      "         [ 0.03,  0.55, -0.43,  0.01],\n",
      "         [-2.08,  2.00,  0.28, -2.14],\n",
      "         [-0.03, -0.32, -0.18, -0.07]],\n",
      "\n",
      "        [[-0.12, -1.67, -0.46, -1.05],\n",
      "         [ 2.44,  0.02, -0.37,  2.22],\n",
      "         [-0.29,  1.01, -0.46, -0.40],\n",
      "         [ 0.20,  0.59,  0.07,  0.25]]], grad_fn=<ViewBackward0>)\n"
     ]
    }
   ],
   "source": [
    "Q = Wq(X) # (3,4,4)x(broadcast 4,4) = (3,4,4)\n",
    "K = Wk(X) # (3,4,4)x(broadcast 4,4) = (3,4,4)\n",
    "V = Wv(X) # (3,4,4)x(broadcast 4,4) = (3,4,4)\n",
    "\n",
    "print(Q.shape)\n",
    "print(Q)"
   ]
  },
  {
   "cell_type": "markdown",
   "metadata": {},
   "source": [
    "With the Q, K, and V tensors created, they can now be split into their respective heads by changing the view of d_model to (n_heads, d_key). n_heads can be an arbitrary number, but it is common to do 8, 10, or 12 when working with larger embeddings. Remember that d_key = (d_model / n_heads)."
   ]
  },
  {
   "cell_type": "markdown",
   "metadata": {},
   "source": [
    "The shape of each tensor becomes:\n",
    "\n",
    "(batch_size, seq_length, d_model) → (batch_size, seq_length, n_heads, d_key)"
   ]
  },
  {
   "cell_type": "markdown",
   "metadata": {},
   "source": [
    "We will just keep n_heads = 2"
   ]
  },
  {
   "cell_type": "code",
   "execution_count": 25,
   "metadata": {},
   "outputs": [
    {
     "name": "stdout",
     "output_type": "stream",
     "text": [
      "tensor([[[[-0.27,  0.81],\n",
      "          [-0.20,  0.15]],\n",
      "\n",
      "         [[-1.13, -0.20],\n",
      "          [ 0.25, -0.06]],\n",
      "\n",
      "         [[-1.08,  2.46],\n",
      "          [ 0.36, -0.87]],\n",
      "\n",
      "         [[-0.31,  2.57],\n",
      "          [-0.63, -0.92]]],\n",
      "\n",
      "\n",
      "        [[[ 0.61,  0.42],\n",
      "          [-0.52,  0.59]],\n",
      "\n",
      "         [[ 0.03,  0.55],\n",
      "          [-0.43,  0.01]],\n",
      "\n",
      "         [[-2.08,  2.00],\n",
      "          [ 0.28, -2.14]],\n",
      "\n",
      "         [[-0.03, -0.32],\n",
      "          [-0.18, -0.07]]],\n",
      "\n",
      "\n",
      "        [[[-0.12, -1.67],\n",
      "          [-0.46, -1.05]],\n",
      "\n",
      "         [[ 2.44,  0.02],\n",
      "          [-0.37,  2.22]],\n",
      "\n",
      "         [[-0.29,  1.01],\n",
      "          [-0.46, -0.40]],\n",
      "\n",
      "         [[ 0.20,  0.59],\n",
      "          [ 0.07,  0.25]]]], grad_fn=<ViewBackward0>)\n",
      "torch.Size([3, 4, 2, 2])\n"
     ]
    }
   ],
   "source": [
    "batch_size = Q.size(0)   \n",
    "n_heads = 2\n",
    "d_key = d_model//n_heads # 4/2 = 2\n",
    "\n",
    "\n",
    "Q = Q.view(batch_size, -1, n_heads, d_key)\n",
    "\n",
    "K = K.view(batch_size, -1, n_heads, d_key)\n",
    "\n",
    "V = V.view(batch_size, -1, n_heads, d_key)                   \n",
    "\n",
    "print(Q)\n",
    "print(Q.shape)"
   ]
  },
  {
   "cell_type": "markdown",
   "metadata": {},
   "source": [
    "To proceed, it would be best to transpose seq_length and n_heads, the second and third dimensions, to have the following shape:\n",
    "\n",
    "(batch_size, seq_length, n_heads, d_key) → (batch_size, n_heads, seq_length, d_key)\n",
    "Now, each sequence is split across n_heads, with each head receiving seq_length tokens with d_key elements in each token instead of d_model. This achieves the researchers’ goal to “attend to information from different representation subspaces at different positions.”"
   ]
  },
  {
   "cell_type": "markdown",
   "metadata": {},
   "source": [
    "To return to the previous example, the Q tensor would be transposed from  (3, 4, 2, 2) to (3, 2, 4, 2)"
   ]
  },
  {
   "cell_type": "code",
   "execution_count": 26,
   "metadata": {},
   "outputs": [
    {
     "name": "stdout",
     "output_type": "stream",
     "text": [
      "torch.Size([3, 4, 2, 2])\n",
      "tensor([[[[-0.27,  0.81],\n",
      "          [-1.13, -0.20],\n",
      "          [-1.08,  2.46],\n",
      "          [-0.31,  2.57]],\n",
      "\n",
      "         [[-0.20,  0.15],\n",
      "          [ 0.25, -0.06],\n",
      "          [ 0.36, -0.87],\n",
      "          [-0.63, -0.92]]],\n",
      "\n",
      "\n",
      "        [[[ 0.61,  0.42],\n",
      "          [ 0.03,  0.55],\n",
      "          [-2.08,  2.00],\n",
      "          [-0.03, -0.32]],\n",
      "\n",
      "         [[-0.52,  0.59],\n",
      "          [-0.43,  0.01],\n",
      "          [ 0.28, -2.14],\n",
      "          [-0.18, -0.07]]],\n",
      "\n",
      "\n",
      "        [[[-0.12, -1.67],\n",
      "          [ 2.44,  0.02],\n",
      "          [-0.29,  1.01],\n",
      "          [ 0.20,  0.59]],\n",
      "\n",
      "         [[-0.46, -1.05],\n",
      "          [-0.37,  2.22],\n",
      "          [-0.46, -0.40],\n",
      "          [ 0.07,  0.25]]]], grad_fn=<PermuteBackward0>)\n",
      "torch.Size([3, 2, 4, 2])\n"
     ]
    }
   ],
   "source": [
    "# query tensor | (3, 4, 2, 2) to (3, 2, 4, 2)\n",
    "print(Q.shape)\n",
    "Q = Q.permute(0, 2, 1, 3)\n",
    "# key tensor | (3, 4, 2, 2) to (3, 2, 4, 2)\n",
    "K = K.permute(0, 2, 1, 3)\n",
    "# value tensor | (3, 4, 2, 2) to (3, 2, 4, 2)\n",
    "V = V.permute(0, 2, 1, 3)\n",
    "print(Q)\n",
    "print(Q.shape)"
   ]
  },
  {
   "cell_type": "code",
   "execution_count": 27,
   "metadata": {},
   "outputs": [
    {
     "data": {
      "text/plain": [
       "tensor([[[-0.27,  0.81],\n",
       "         [-1.13, -0.20],\n",
       "         [-1.08,  2.46],\n",
       "         [-0.31,  2.57]],\n",
       "\n",
       "        [[-0.20,  0.15],\n",
       "         [ 0.25, -0.06],\n",
       "         [ 0.36, -0.87],\n",
       "         [-0.63, -0.92]]], grad_fn=<SelectBackward0>)"
      ]
     },
     "execution_count": 27,
     "metadata": {},
     "output_type": "execute_result"
    }
   ],
   "source": [
    "Q[0]"
   ]
  },
  {
   "cell_type": "code",
   "execution_count": 28,
   "metadata": {},
   "outputs": [],
   "source": [
    "# calculate scaled dot product\n",
    "scaled_dot_prod = torch.matmul(Q, K.permute(0, 1, 3, 2)) / math.sqrt(d_key) # (batch_size, n_heads, Q_length, K_length)"
   ]
  },
  {
   "cell_type": "code",
   "execution_count": 29,
   "metadata": {},
   "outputs": [],
   "source": [
    "# apply softmax to get context for each token and others\n",
    "attn_probs = torch.softmax(scaled_dot_prod, dim=-1) # (batch_size, n_heads, Q_length, K_length)"
   ]
  },
  {
   "cell_type": "code",
   "execution_count": 30,
   "metadata": {},
   "outputs": [],
   "source": [
    "# def display_attention(sentence: list, translation: list, attention: Tensor, \n",
    "#                       n_heads: int = 8, n_rows: int = 4, n_cols: int = 2):\n",
    "#   \"\"\"\n",
    "#     Display the attention matrix for each head of a sequence.\n",
    "\n",
    "#     Args:\n",
    "#         sentence:     German sentence to be translated to English; list\n",
    "#         translation:  English sentence predicted by the model\n",
    "#         attention:    attention scores for the heads\n",
    "#         n_heads:      number of heads\n",
    "#         n_rows:       number of rows\n",
    "#         n_cols:       number of columns\n",
    "#   \"\"\"\n",
    "#   # ensure the number of rows and columns are equal to the number of heads\n",
    "#   assert n_rows * n_cols == n_heads\n",
    "    \n",
    "#   # figure size\n",
    "#   fig = plt.figure(figsize=(15,20))\n",
    "    \n",
    "#   # visualize each head\n",
    "#   for i in range(n_heads):\n",
    "        \n",
    "#     # create a plot\n",
    "#     ax = fig.add_subplot(n_rows, n_cols, i+1)\n",
    "        \n",
    "#     # select the respective head and make it a numpy array for plotting\n",
    "#     _attention = attention.squeeze(0)[i,:,:].cpu().detach().numpy()\n",
    "\n",
    "#     # plot the matrix\n",
    "#     cax = ax.matshow(_attention, cmap='bone')\n",
    "\n",
    "#     # set the size of the labels\n",
    "#     ax.tick_params(labelsize=12)\n",
    "\n",
    "#     # set the indices for the tick marks\n",
    "#     ax.set_xticks(range(len(sentence)))\n",
    "#     ax.set_yticks(range(len(translation)))\n",
    "\n",
    "#     ax.set_xticklabels(sentence)\n",
    "#     ax.set_yticklabels(translation)\n",
    "\n",
    "#   plt.show()"
   ]
  },
  {
   "cell_type": "code",
   "execution_count": 31,
   "metadata": {},
   "outputs": [],
   "source": [
    "# # sequence 0\n",
    "# display_attention([\"The\", \"air\", \"grows\", \"crisp\"], \n",
    "#                  [\"The\", \"air\", \"grows\", \"crisp\"], \n",
    "#                   attn_probs[0], 1, 1, 1)"
   ]
  },
  {
   "cell_type": "code",
   "execution_count": 32,
   "metadata": {},
   "outputs": [],
   "source": [
    "# multiply attention and values to get reweighted values\n",
    "A = torch.matmul(attn_probs, V) # (batch_size, n_heads, Q_length, d_key)\n"
   ]
  },
  {
   "cell_type": "code",
   "execution_count": 33,
   "metadata": {},
   "outputs": [
    {
     "name": "stdout",
     "output_type": "stream",
     "text": [
      "torch.Size([3, 2, 4, 2])\n",
      "tensor([[[[ 0.02,  0.33],\n",
      "          [ 0.57,  0.76],\n",
      "          [ 0.51,  0.72],\n",
      "          [ 0.11,  0.37]],\n",
      "\n",
      "         [[-0.36, -0.78],\n",
      "          [-0.30, -0.87],\n",
      "          [-0.11, -1.22],\n",
      "          [-0.08, -1.29]]],\n",
      "\n",
      "\n",
      "        [[[-0.18, -0.52],\n",
      "          [-0.08, -0.16],\n",
      "          [ 0.08,  0.36],\n",
      "          [-0.12, -0.33]],\n",
      "\n",
      "         [[-0.12, -0.78],\n",
      "          [-0.20, -0.74],\n",
      "          [-0.74, -0.42],\n",
      "          [-0.26, -0.71]]],\n",
      "\n",
      "\n",
      "        [[[-0.39, -0.50],\n",
      "          [-2.29,  1.84],\n",
      "          [-1.02,  0.34],\n",
      "          [-1.32,  0.70]],\n",
      "\n",
      "         [[-0.22, -0.64],\n",
      "          [-0.10,  1.37],\n",
      "          [-0.30, -0.14],\n",
      "          [-0.35,  0.55]]]], grad_fn=<UnsafeViewBackward0>)\n"
     ]
    }
   ],
   "source": [
    "print(A.shape)\n",
    "print(A)"
   ]
  },
  {
   "cell_type": "markdown",
   "metadata": {},
   "source": [
    "## Passing It Through the Output Layer"
   ]
  },
  {
   "cell_type": "markdown",
   "metadata": {},
   "source": [
    "At this point, the heads can be concatenated back together before they are passed through the final linear layer, Wo in the multi-head attention mechanism.\n",
    "\n",
    "The concatenation reverses the split that was performed originally. The first step is to transpose n_heads and Q_length. The second step is to concatenate n_heads and d_key back together to get d_model.\n",
    "\n",
    "Once this is complete, A will have a shape of (batch_size, Q_length, d_model).\n",
    "\n"
   ]
  },
  {
   "cell_type": "code",
   "execution_count": 34,
   "metadata": {},
   "outputs": [
    {
     "name": "stdout",
     "output_type": "stream",
     "text": [
      "torch.Size([3, 4, 4])\n",
      "tensor([[[ 0.02,  0.33, -0.36, -0.78],\n",
      "         [ 0.57,  0.76, -0.30, -0.87],\n",
      "         [ 0.51,  0.72, -0.11, -1.22],\n",
      "         [ 0.11,  0.37, -0.08, -1.29]],\n",
      "\n",
      "        [[-0.18, -0.52, -0.12, -0.78],\n",
      "         [-0.08, -0.16, -0.20, -0.74],\n",
      "         [ 0.08,  0.36, -0.74, -0.42],\n",
      "         [-0.12, -0.33, -0.26, -0.71]],\n",
      "\n",
      "        [[-0.39, -0.50, -0.22, -0.64],\n",
      "         [-2.29,  1.84, -0.10,  1.37],\n",
      "         [-1.02,  0.34, -0.30, -0.14],\n",
      "         [-1.32,  0.70, -0.35,  0.55]]], grad_fn=<ViewBackward0>)\n"
     ]
    }
   ],
   "source": [
    "A = A.permute(0, 2, 1, 3).contiguous()\n",
    "\n",
    "\n",
    "# reshape from (3, 4, 2, 2) -> (3, 4, 4) = (batch_size, Q_length, d_model)\n",
    "A = A.view(batch_size, -1, n_heads*d_key)\n",
    "\n",
    "print(A.shape)\n",
    "print(A)"
   ]
  },
  {
   "cell_type": "markdown",
   "metadata": {},
   "source": [
    "The final step is to pass A through Wo, which has a shape of (d_model, d_model)."
   ]
  },
  {
   "cell_type": "code",
   "execution_count": 35,
   "metadata": {},
   "outputs": [
    {
     "name": "stdout",
     "output_type": "stream",
     "text": [
      "tensor([[[-0.06, -0.72, -0.12,  0.96],\n",
      "         [ 0.26, -0.69, -0.06,  0.98],\n",
      "         [ 0.39, -0.81,  0.07,  1.08],\n",
      "         [ 0.21, -0.85,  0.06,  1.09]],\n",
      "\n",
      "        [[-0.15, -0.42, -0.29,  0.65],\n",
      "         [-0.11, -0.52, -0.23,  0.76],\n",
      "         [-0.25, -0.65, -0.28,  0.91],\n",
      "         [-0.17, -0.47, -0.29,  0.70]],\n",
      "\n",
      "        [[-0.32, -0.47, -0.30,  0.68],\n",
      "         [-1.57, -1.05,  0.19,  1.25],\n",
      "         [-0.71, -0.79, -0.09,  0.99],\n",
      "         [-1.05, -0.73, -0.13,  0.95]]], grad_fn=<ViewBackward0>)\n"
     ]
    }
   ],
   "source": [
    "Wo = nn.Linear(d_model, d_model)\n",
    "\n",
    "# (3, 4, 3) x (broadcast 3, 3) = (3, 4, 3)\n",
    "output = Wo(A)  \n",
    "print(output)"
   ]
  },
  {
   "cell_type": "markdown",
   "metadata": {},
   "source": [
    "## Now we can create a layer to implement everything we discussed about a Multi-head Attention"
   ]
  },
  {
   "cell_type": "code",
   "execution_count": 36,
   "metadata": {},
   "outputs": [],
   "source": [
    "class MultiHeadAttention(nn.Module):\n",
    "  def __init__(self, d_model: int = 512, n_heads: int = 8, dropout: float = 0.1):\n",
    "    \"\"\"\n",
    "    Args:\n",
    "        d_model:      dimension of embeddings\n",
    "        n_heads:      number of self attention heads\n",
    "        dropout:      probability of dropout occurring\n",
    "    \"\"\"\n",
    "    super().__init__()\n",
    "    assert d_model % n_heads == 0            # ensure an even num of heads\n",
    "    self.d_model = d_model                   # 512 dim\n",
    "    self.n_heads = n_heads                   # 8 heads\n",
    "    self.d_key = d_model // n_heads          # assume d_value equals d_key | 512/8=64\n",
    "\n",
    "    self.Wq = nn.Linear(d_model, d_model)    # query weights\n",
    "    self.Wk = nn.Linear(d_model, d_model)    # key weights\n",
    "    self.Wv = nn.Linear(d_model, d_model)    # value weights\n",
    "    self.Wo = nn.Linear(d_model, d_model)    # output weights\n",
    "\n",
    "    self.dropout = nn.Dropout(p=dropout)     # initialize dropout layer  \n",
    "\n",
    "  def forward(self, query: Tensor, key: Tensor, value: Tensor, mask: Tensor = None):\n",
    "    \"\"\"\n",
    "    Args:\n",
    "       query:         query vector         (batch_size, q_length, d_model)\n",
    "       key:           key vector           (batch_size, k_length, d_model)\n",
    "       value:         value vector         (batch_size, s_length, d_model)\n",
    "       mask:          mask for decoder     \n",
    "\n",
    "    Returns:\n",
    "       output:        attention values     (batch_size, q_length, d_model)\n",
    "       attn_probs:    softmax scores       (batch_size, n_heads, q_length, k_length)\n",
    "    \"\"\"\n",
    "    batch_size = key.size(0)                  \n",
    "        \n",
    "    # calculate query, key, and value tensors\n",
    "    Q = self.Wq(query)                       # (32, 10, 512) x (512, 512) = (32, 10, 512)\n",
    "    K = self.Wk(key)                         # (32, 10, 512) x (512, 512) = (32, 10, 512)\n",
    "    V = self.Wv(value)                       # (32, 10, 512) x (512, 512) = (32, 10, 512)\n",
    "\n",
    "    # split each tensor into n-heads to compute attention\n",
    "\n",
    "    # query tensor\n",
    "    Q = Q.view(batch_size,                   # (32, 10, 512) -> (32, 10, 8, 64) \n",
    "               -1,                           # -1 = q_length\n",
    "               self.n_heads,              \n",
    "               self.d_key\n",
    "               ).permute(0, 2, 1, 3)         # (32, 10, 8, 64) -> (32, 8, 10, 64) = (batch_size, n_heads, q_length, d_key)\n",
    "    # key tensor\n",
    "    K = K.view(batch_size,                   # (32, 10, 512) -> (32, 10, 8, 64) \n",
    "               -1,                           # -1 = k_length\n",
    "               self.n_heads,              \n",
    "               self.d_key\n",
    "               ).permute(0, 2, 1, 3)         # (32, 10, 8, 64) -> (32, 8, 10, 64) = (batch_size, n_heads, k_length, d_key)\n",
    "    # value tensor\n",
    "    V = V.view(batch_size,                   # (32, 10, 512) -> (32, 10, 8, 64) \n",
    "               -1,                           # -1 = v_length\n",
    "               self.n_heads, \n",
    "               self.d_key\n",
    "               ).permute(0, 2, 1, 3)         # (32, 10, 8, 64) -> (32, 8, 10, 64) = (batch_size, n_heads, v_length, d_key)\n",
    "       \n",
    "    # computes attention\n",
    "    # scaled dot product -> QK^{T}\n",
    "    scaled_dot_prod = torch.matmul(Q,        # (32, 8, 10, 64) x (32, 8, 64, 10) -> (32, 8, 10, 10) = (batch_size, n_heads, q_length, k_length)\n",
    "                                   K.permute(0, 1, 3, 2)\n",
    "                                   ) / math.sqrt(self.d_key)      # sqrt(64)\n",
    "        \n",
    "    # fill those positions of product as (-1e10) where mask positions are 0\n",
    "    if mask is not None:\n",
    "      scaled_dot_prod = scaled_dot_prod.masked_fill(mask == 0, -1e10)\n",
    "\n",
    "    # apply softmax \n",
    "    attn_probs = torch.softmax(scaled_dot_prod, dim=-1)\n",
    "        \n",
    "    # multiply by values to get attention\n",
    "    A = torch.matmul(self.dropout(attn_probs), V)       # (32, 8, 10, 10) x (32, 8, 10, 64) -> (32, 8, 10, 64)\n",
    "                                                        # (batch_size, n_heads, q_length, k_length) x (batch_size, n_heads, v_length, d_key) -> (batch_size, n_heads, q_length, d_key)\n",
    "\n",
    "    # reshape attention back to (32, 10, 512)\n",
    "    A = A.permute(0, 2, 1, 3).contiguous()              # (32, 8, 10, 64) -> (32, 10, 8, 64)\n",
    "    A = A.view(batch_size, -1, self.n_heads*self.d_key) # (32, 10, 8, 64) -> (32, 10, 8*64) -> (32, 10, 512) = (batch_size, q_length, d_model)\n",
    "        \n",
    "    # push through the final weight layer\n",
    "    output = self.Wo(A)                                 # (32, 10, 512) x (512, 512) = (32, 10, 512) \n",
    "\n",
    "    return output, attn_probs                           # return attn_probs for visualization of the scores"
   ]
  },
  {
   "cell_type": "code",
   "execution_count": 37,
   "metadata": {},
   "outputs": [
    {
     "data": {
      "text/plain": [
       "tensor([[[    -0.50,      0.79,      1.13,     -0.28],\n",
       "         [    -0.00,      1.07,      1.06,     -0.40],\n",
       "         [    -0.60,      0.49,      0.95,     -0.10],\n",
       "         [    -0.13,      0.83,      1.08,     -0.32]],\n",
       "\n",
       "        [[    -0.48,      1.52,      1.07,      0.23],\n",
       "         [    -0.78,      1.36,      1.02,      0.49],\n",
       "         [    -0.65,      0.86,      1.18,      0.14],\n",
       "         [     0.02,      0.53,     -0.11,      0.58]],\n",
       "\n",
       "        [[    -0.12,      1.25,      1.07,      0.03],\n",
       "         [     0.77,      2.05,      0.27,      0.18],\n",
       "         [    -0.32,      0.38,      0.70,      0.26],\n",
       "         [     0.74,      1.71,      0.31,     -0.02]]],\n",
       "       grad_fn=<ViewBackward0>)"
      ]
     },
     "execution_count": 37,
     "metadata": {},
     "output_type": "execute_result"
    }
   ],
   "source": [
    "torch.set_printoptions(precision=2, sci_mode=False)\n",
    "\n",
    "\n",
    "# embedding dimensions\n",
    "d_model = 4\n",
    "\n",
    "# create the embeddings\n",
    "lut = Embeddings(vocab_size, d_model) # look-up table (lut)\n",
    "\n",
    "# create the positional encodings\n",
    "pe = PositionalEncoding(d_model=d_model, dropout=0.1, max_length=L)\n",
    "\n",
    "# embed the sequence\n",
    "embeddings = lut(tensor_sequences)\n",
    "\n",
    "# positionally encode the sequences\n",
    "X = pe(embeddings)\n",
    "\n",
    "# set the n_heads\n",
    "n_heads = 2\n",
    "\n",
    "# create the attention layer\n",
    "attention = MultiHeadAttention(d_model, n_heads, dropout=0.1)\n",
    "\n",
    "# pass X through the attention layer three times to create Q, K, and V\n",
    "output, attn_probs = attention(X, X, X, mask=None)\n",
    "\n",
    "output"
   ]
  },
  {
   "cell_type": "markdown",
   "metadata": {},
   "source": [
    "# Position-wise Feed-forward Network"
   ]
  },
  {
   "cell_type": "markdown",
   "metadata": {},
   "source": [
    "The Position-Wise Feed-Forward Network (FFN) consists of two fully connected dense layers, or a multi-layer perceptron (MLP). The hidden layer, which is known as d_ffn, is generally set to a value about four times that of d_model. This is why it is sometimes known as an expand-and-contract network.\n",
    "\n",
    "According to d2l, it is known as a “position-wise” network because it “transforms the representation at all the sequence positions using the same MLP.”\n",
    "\n",
    "The ReLU activiation function, max(0, X), is used between the layers. Any values greater than 0 remain the same, and any values less than or equal to 0 become 0. It introduces non-linearity and helps prevent vanishing gradients."
   ]
  },
  {
   "cell_type": "code",
   "execution_count": 38,
   "metadata": {},
   "outputs": [
    {
     "name": "stdout",
     "output_type": "stream",
     "text": [
      "torch.Size([3, 4, 16])\n",
      "tensor([[[0.66, 0.49, 0.00, 1.17, 0.00, 0.13, 0.56, 0.06, 0.07, 0.26, 0.25,\n",
      "          0.00, 0.00, 0.28, 0.49, 0.00],\n",
      "         [0.63, 0.51, 0.00, 1.32, 0.00, 0.40, 0.88, 0.00, 0.02, 0.25, 0.33,\n",
      "          0.00, 0.00, 0.09, 0.79, 0.00],\n",
      "         [0.67, 0.50, 0.00, 0.92, 0.00, 0.00, 0.36, 0.05, 0.07, 0.13, 0.20,\n",
      "          0.04, 0.00, 0.35, 0.28, 0.00],\n",
      "         [0.65, 0.53, 0.00, 1.21, 0.00, 0.28, 0.73, 0.00, 0.06, 0.19, 0.26,\n",
      "          0.00, 0.00, 0.15, 0.66, 0.00]],\n",
      "\n",
      "        [[0.97, 0.53, 0.00, 1.17, 0.15, 0.41, 1.06, 0.00, 0.03, 0.70, 0.62,\n",
      "          0.00, 0.00, 0.05, 0.77, 0.00],\n",
      "         [1.06, 0.54, 0.00, 0.97, 0.11, 0.25, 0.89, 0.00, 0.05, 0.72, 0.62,\n",
      "          0.00, 0.00, 0.13, 0.56, 0.00],\n",
      "         [0.87, 0.56, 0.00, 1.03, 0.00, 0.16, 0.67, 0.04, 0.12, 0.43, 0.36,\n",
      "          0.00, 0.00, 0.22, 0.49, 0.00],\n",
      "         [0.80, 0.56, 0.00, 0.22, 0.00, 0.03, 0.51, 0.00, 0.00, 0.00, 0.43,\n",
      "          0.00, 0.03, 0.12, 0.18, 0.00]],\n",
      "\n",
      "        [[0.86, 0.57, 0.00, 1.19, 0.09, 0.46, 1.04, 0.00, 0.05, 0.45, 0.48,\n",
      "          0.00, 0.00, 0.00, 0.82, 0.00],\n",
      "         [0.87, 0.53, 0.00, 1.11, 0.59, 0.87, 1.61, 0.00, 0.00, 0.46, 0.86,\n",
      "          0.00, 0.36, 0.00, 1.20, 0.01],\n",
      "         [0.79, 0.59, 0.00, 0.64, 0.00, 0.03, 0.47, 0.00, 0.07, 0.03, 0.25,\n",
      "          0.00, 0.00, 0.22, 0.28, 0.00],\n",
      "         [0.75, 0.52, 0.00, 1.10, 0.38, 0.74, 1.39, 0.00, 0.00, 0.28, 0.69,\n",
      "          0.00, 0.24, 0.00, 1.08, 0.00]]], grad_fn=<ReluBackward0>)\n"
     ]
    }
   ],
   "source": [
    "d_ffn = d_model * 4  # 4\n",
    "\n",
    "w_1 = nn.Linear(d_model, d_ffn)  # (1, 4)\n",
    "w_2 = nn.Linear(d_ffn, d_model)  # (4, 1)\n",
    "\n",
    "ffn_1 = w_1(output).relu()\n",
    "print(ffn_1.shape)\n",
    "print(ffn_1)"
   ]
  },
  {
   "cell_type": "markdown",
   "metadata": {},
   "source": [
    "Then, the tensor can be passed through the second dense layer to return to its normal size"
   ]
  },
  {
   "cell_type": "code",
   "execution_count": 39,
   "metadata": {},
   "outputs": [
    {
     "name": "stdout",
     "output_type": "stream",
     "text": [
      "torch.Size([3, 4, 4])\n",
      "tensor([[[     0.00,     -0.46,      0.31,     -0.55],\n",
      "         [    -0.02,     -0.68,      0.38,     -0.71],\n",
      "         [    -0.01,     -0.30,      0.24,     -0.40],\n",
      "         [    -0.01,     -0.58,      0.35,     -0.61]],\n",
      "\n",
      "        [[    -0.09,     -0.64,      0.32,     -0.92],\n",
      "         [    -0.10,     -0.50,      0.27,     -0.85],\n",
      "         [    -0.04,     -0.46,      0.29,     -0.66],\n",
      "         [    -0.16,     -0.19,      0.13,     -0.40]],\n",
      "\n",
      "        [[    -0.07,     -0.68,      0.35,     -0.84],\n",
      "         [    -0.14,     -0.73,      0.27,     -0.95],\n",
      "         [    -0.06,     -0.29,      0.20,     -0.41],\n",
      "         [    -0.12,     -0.69,      0.31,     -0.85]]],\n",
      "       grad_fn=<ViewBackward0>)\n"
     ]
    }
   ],
   "source": [
    "ffn_2 = w_2(ffn_1)\n",
    "print(ffn_2.shape)\n",
    "print(ffn_2)"
   ]
  },
  {
   "cell_type": "markdown",
   "metadata": {},
   "source": [
    "## We can create a new layer combining everything in the position-wise feed-forward layer"
   ]
  },
  {
   "cell_type": "code",
   "execution_count": 40,
   "metadata": {},
   "outputs": [],
   "source": [
    "class PositionwiseFeedForward(nn.Module):\n",
    "  def __init__(self, d_model: int, d_ffn: int, dropout: float = 0.1):\n",
    "    \"\"\"\n",
    "    Args:\n",
    "        d_model:      dimension of embeddings\n",
    "        d_ffn:        dimension of feed-forward network\n",
    "        dropout:      probability of dropout occurring\n",
    "    \"\"\"\n",
    "    super().__init__()\n",
    "\n",
    "    self.w_1 = nn.Linear(d_model, d_ffn)\n",
    "    self.w_2 = nn.Linear(d_ffn, d_model)\n",
    "    self.dropout = nn.Dropout(dropout)\n",
    "\n",
    "  def forward(self, x):\n",
    "    \"\"\"\n",
    "    Args:\n",
    "        x:            output from attention (batch_size, seq_length, d_model)\n",
    "       \n",
    "    Returns:\n",
    "        expanded-and-contracted representation (batch_size, seq_length, d_model)\n",
    "    \"\"\"\n",
    "    # w_1(x).relu(): (batch_size, seq_length, d_model) x (d_model,d_ffn) -> (batch_size, seq_length, d_ffn)\n",
    "    # w_2(w_1(x).relu()): (batch_size, seq_length, d_ffn) x (d_ffn, d_model) -> (batch_size, seq_length, d_model) \n",
    "    return self.w_2(self.dropout(self.w_1(x).relu()))"
   ]
  },
  {
   "cell_type": "code",
   "execution_count": 41,
   "metadata": {},
   "outputs": [
    {
     "data": {
      "text/plain": [
       "tensor([[[ 0.20,  0.31, -0.02, -0.18],\n",
       "         [ 0.23,  0.39,  0.05, -0.20],\n",
       "         [ 0.29,  0.13,  0.02, -0.06],\n",
       "         [ 0.22,  0.37,  0.03, -0.17]],\n",
       "\n",
       "        [[ 0.34,  0.47,  0.21,  0.06],\n",
       "         [ 0.36,  0.46,  0.23,  0.17],\n",
       "         [ 0.25,  0.35,  0.08,  0.05],\n",
       "         [ 0.55,  0.28,  0.27,  0.26]],\n",
       "\n",
       "        [[ 0.14,  0.41, -0.09, -0.22],\n",
       "         [ 0.76,  0.17,  0.56, -0.31],\n",
       "         [ 0.05,  0.43,  0.03, -0.04],\n",
       "         [ 0.59,  0.63,  0.38, -0.22]]], grad_fn=<ViewBackward0>)"
      ]
     },
     "execution_count": 41,
     "metadata": {},
     "output_type": "execute_result"
    }
   ],
   "source": [
    "# pass the tensor through the position-wise feed-forward network\n",
    "ffn = PositionwiseFeedForward(d_model, d_ffn, dropout=0.1)\n",
    "\n",
    "ffn(output)\n"
   ]
  },
  {
   "cell_type": "markdown",
   "metadata": {},
   "source": [
    "# Layer-Normalization"
   ]
  },
  {
   "cell_type": "code",
   "execution_count": 42,
   "metadata": {},
   "outputs": [],
   "source": [
    "class LayerNorm(nn.Module):\n",
    "\n",
    "  def __init__(self, features, eps=1e-5):\n",
    "    super().__init__()\n",
    "    # initialize gamma to be all ones\n",
    "    self.gamma = nn.Parameter(torch.ones(features)) \n",
    "    # initialize beta to be all zeros\n",
    "    self.beta = nn.Parameter(torch.zeros(features)) \n",
    "    # initialize epsilon\n",
    "    self.eps = eps\n",
    "\n",
    "  def forward(self, src):\n",
    "    # mean of the token embeddings\n",
    "    mean = src.mean(-1, keepdim=True)        \n",
    "    # variance of the token embeddings         \n",
    "    var = src.var(-1, keepdim=True,unbiased=False)  \n",
    "    # return the normalized value  \n",
    "    return self.gamma * (src - mean) / torch.sqrt(var + self.eps) + self.beta \n"
   ]
  },
  {
   "cell_type": "markdown",
   "metadata": {},
   "source": [
    "# Encode Layer"
   ]
  },
  {
   "cell_type": "markdown",
   "metadata": {},
   "source": [
    "## Taking everything from above, we can create an encoder super-layer"
   ]
  },
  {
   "cell_type": "code",
   "execution_count": 43,
   "metadata": {},
   "outputs": [],
   "source": [
    "class EncoderLayer(nn.Module):  \n",
    "  def __init__(self, d_model: int, n_heads: int, d_ffn: int, dropout: float):\n",
    "    \"\"\"\n",
    "    Args:\n",
    "        d_model:      dimension of embeddings\n",
    "        n_heads:      number of heads\n",
    "        d_ffn:        dimension of feed-forward network\n",
    "        dropout:      probability of dropout occurring\n",
    "    \"\"\"\n",
    "    super().__init__()\n",
    "    # multi-head attention sublayer\n",
    "    self.attention = MultiHeadAttention(d_model, n_heads, dropout)\n",
    "    # layer norm for multi-head attention\n",
    "    self.attn_layer_norm = nn.LayerNorm(d_model)\n",
    "\n",
    "    # position-wise feed-forward network\n",
    "    self.positionwise_ffn = PositionwiseFeedForward(d_model, d_ffn, dropout)\n",
    "    # layer norm for position-wise ffn\n",
    "    self.ffn_layer_norm = nn.LayerNorm(d_model)\n",
    "\n",
    "    self.dropout = nn.Dropout(dropout)\n",
    "\n",
    "  def forward(self, src: Tensor, src_mask: Tensor):\n",
    "    \"\"\"\n",
    "    Args:\n",
    "        src:          positionally embedded sequences   (batch_size, seq_length, d_model)\n",
    "        src_mask:     mask for the sequences            (batch_size, 1, 1, seq_length)\n",
    "    Returns:\n",
    "        src:          sequences after self-attention    (batch_size, seq_length, d_model)\n",
    "    \"\"\"\n",
    "    # pass embeddings through multi-head attention\n",
    "    _src, attn_probs = self.attention(src, src, src, src_mask)\n",
    "\n",
    "    # residual add and norm\n",
    "    src = self.attn_layer_norm(src + self.dropout(_src))\n",
    "    \n",
    "    # position-wise feed-forward network\n",
    "    _src = self.positionwise_ffn(src)\n",
    "\n",
    "    # residual add and norm\n",
    "    src = self.ffn_layer_norm(src + self.dropout(_src)) \n",
    "\n",
    "    return src, attn_probs"
   ]
  },
  {
   "cell_type": "markdown",
   "metadata": {},
   "source": [
    "# Encoder Stack: Multiple EncoderLayer Stacked Together"
   ]
  },
  {
   "cell_type": "code",
   "execution_count": 44,
   "metadata": {},
   "outputs": [],
   "source": [
    "class Encoder(nn.Module):\n",
    "  def __init__(self, d_model: int, n_layers: int, \n",
    "               n_heads: int, d_ffn: int, dropout: float = 0.1):\n",
    "    \"\"\"\n",
    "    Args:\n",
    "        d_model:      dimension of embeddings\n",
    "        n_layers:     number of encoder layers\n",
    "        n_heads:      number of heads\n",
    "        d_ffn:        dimension of feed-forward network\n",
    "        dropout:      probability of dropout occurring\n",
    "    \"\"\"\n",
    "    super().__init__()\n",
    "    \n",
    "    # create n_layers encoders \n",
    "    self.layers = nn.ModuleList([EncoderLayer(d_model, n_heads, d_ffn, dropout)\n",
    "                                 for layer in range(n_layers)])\n",
    "\n",
    "    self.dropout = nn.Dropout(dropout)\n",
    "    \n",
    "  def forward(self, src: Tensor, src_mask: Tensor):\n",
    "    \"\"\"\n",
    "    Args:\n",
    "        src:          embedded sequences                (batch_size, seq_length, d_model)\n",
    "        src_mask:     mask for the sequences            (batch_size, 1, 1, seq_length)\n",
    "\n",
    "    Returns:\n",
    "        src:          sequences after self-attention    (batch_size, seq_length, d_model)\n",
    "    \"\"\"\n",
    "\n",
    "    # pass the sequences through each encoder\n",
    "    for layer in self.layers:\n",
    "      src, attn_probs = layer(src, src_mask)\n",
    "\n",
    "    self.attn_probs = attn_probs\n",
    "\n",
    "    return src\n"
   ]
  },
  {
   "cell_type": "code",
   "execution_count": 45,
   "metadata": {},
   "outputs": [
    {
     "name": "stdout",
     "output_type": "stream",
     "text": [
      "torch.Size([3, 4, 4])\n",
      "tensor([[[ 0.53, -0.65,  1.34, -1.23],\n",
      "         [-0.39, -0.19,  1.64, -1.06],\n",
      "         [-0.16,  0.41, -1.50,  1.25],\n",
      "         [ 1.22, -0.81,  0.74, -1.15]],\n",
      "\n",
      "        [[ 1.57, -0.57,  0.09, -1.09],\n",
      "         [ 0.77, -0.83,  1.19, -1.14],\n",
      "         [ 1.67, -0.81, -0.15, -0.72],\n",
      "         [ 0.41, -0.30,  1.31, -1.42]],\n",
      "\n",
      "        [[-0.92,  1.64, -0.04, -0.67],\n",
      "         [-0.25,  1.68, -0.53, -0.90],\n",
      "         [ 0.86, -1.22,  1.11, -0.74],\n",
      "         [-0.84,  1.65, -0.04, -0.76]]], grad_fn=<NativeLayerNormBackward0>)\n",
      "tensor([[[0.26, 0.20, 0.25, 0.29],\n",
      "         [0.23, 0.19, 0.28, 0.29],\n",
      "         [0.26, 0.39, 0.19, 0.16],\n",
      "         [0.26, 0.21, 0.25, 0.28]]], grad_fn=<SelectBackward0>)\n"
     ]
    }
   ],
   "source": [
    "# parameters\n",
    "vocab_size = len(stoi)\n",
    "d_model = 4\n",
    "d_ffn = d_model*4 \n",
    "n_heads = 1\n",
    "n_layers = 4\n",
    "dropout = 0.1\n",
    "\n",
    "# create the embeddings\n",
    "lut = Embeddings(vocab_size, d_model) # look-up table (lut)\n",
    "\n",
    "# create the positional encodings\n",
    "pe = PositionalEncoding(d_model=d_model, dropout=0.1, max_length=L)\n",
    "\n",
    "# embed the sequence\n",
    "embeddings = lut(tensor_sequences)\n",
    "\n",
    "# positionally encode the sequences\n",
    "X = pe(embeddings)\n",
    "\n",
    "# initialize encoder\n",
    "encoder = Encoder(d_model, n_layers, n_heads,\n",
    "                  d_ffn, dropout)\n",
    "\n",
    "# pass through encoder\n",
    "enc = encoder(src=X, src_mask=None)\n",
    "print(enc.shape)\n",
    "print(enc)\n",
    "# probabilities for sequence 0\n",
    "print(encoder.attn_probs[0])"
   ]
  },
  {
   "cell_type": "markdown",
   "metadata": {},
   "source": [
    "In the example above, the src_mask is set to None. As mentioned in the third article, an optional mask can be passed through the multi-head attention layer. For the encoder, this mask is often created based on the padding of the sequences. The three sequences used in this article are all of length 6. However, it is more likely that sequences of varying lengths will be in a batch. Padding is added to sequences to ensure all the sequences in a batch have the same length. When this occurs, the model does not need to pay attention to padding tokens. A mask vector is created for each sequence to reflect the values that should be attended to."
   ]
  },
  {
   "cell_type": "markdown",
   "metadata": {},
   "source": [
    "For example, the three sequences below have different lengths:\n",
    "\n",
    "- ”What will come next?” → [21, 22, 5, 15]\n",
    "- ”This is a basic paragraph.” → [20, 13, 0, 3, 17]\n",
    "- ”A basic split will come next!” → [0, 3, 18, 22, 5, 15]\n",
    "\n",
    "To be used in a tensor, they must be the same length, so padding must be added. This can be done using a simple function with pad from torch.nn.functional.\n",
    "\n",
    "It allows every input to be padded to the same length. It requires:\n",
    "\n",
    "\n",
    "- `seq`: a sequence\n",
    "- `(0, pad_to_add)`: a tuple indicating the dimension to pad and by how much\n",
    "- `value=pad_idx`: a value to use for the padding, which is normally an integer"
   ]
  },
  {
   "cell_type": "markdown",
   "metadata": {},
   "source": [
    "This function can be used in a for-loop to pad a batch of sequences to the same length, which can be seen below. These padded sequences can be used as input to the encoder."
   ]
  },
  {
   "cell_type": "code",
   "execution_count": 46,
   "metadata": {},
   "outputs": [],
   "source": [
    "from torch.nn.functional import pad\n",
    "\n",
    "def make_src_mask(src: Tensor, pad_idx: int = 0):\n",
    "  \"\"\"\n",
    "  Args:\n",
    "      src:          raw sequences with padding        (batch_size, seq_length)              \n",
    "    \n",
    "  Returns:\n",
    "      src_mask:     mask for each sequence            (batch_size, 1, 1, seq_length)\n",
    "  \"\"\"\n",
    "  # assign 1 to tokens that need attended to and 0 to padding tokens, then add 2 dimensions\n",
    "  src_mask = (src != pad_idx).unsqueeze(1).unsqueeze(2)\n",
    "\n",
    "  return src_mask\n",
    "\n",
    "def pad_seq(seq: Tensor, max_length: int = 10, pad_idx: int = 0):\n",
    "  \"\"\"\n",
    "  Args:\n",
    "      seq:          raw sequence (batch_size, seq_length)\n",
    "      max_length:   maximum length of a sequence\n",
    "      pad_idx:      index for padding tokens           \n",
    "    \n",
    "  Returns:\n",
    "      padded seq:   padded sequence (batch_size, max_length)\n",
    "  \"\"\"\n",
    "  pad_to_add = max_length - len(seq) # amount of padding to add\n",
    "  \n",
    "  return pad(seq,(0, pad_to_add), value=pad_idx,)\n",
    "\n",
    "\n",
    "# This function is used to create a target mask for a padded sequence. The target mask allows a token to only attend to itself and any token before it.\n",
    "\n",
    "def make_trg_mask(trg: Tensor, pad_idx: int = 0):\n",
    "  \"\"\"\n",
    "  Args:\n",
    "      trg:          raw sequences with padding        (batch_size, seq_length)              \n",
    "    \n",
    "  Returns:\n",
    "      trg_mask:     mask for each sequence            (batch_size, 1, seq_length, seq_length)\n",
    "  \"\"\"\n",
    "\n",
    "  seq_length = trg.shape[1]\n",
    "\n",
    "  # assign True to tokens that need attended to and False to padding tokens, then add 2 dimensions\n",
    "  trg_mask = (trg != pad_idx).unsqueeze(1).unsqueeze(2) # (batch_size, 1, 1, seq_length)\n",
    "\n",
    "  # generate subsequent mask\n",
    "  trg_sub_mask = torch.tril(torch.ones((seq_length, seq_length))).bool() # (batch_size, 1, seq_length, seq_length)\n",
    "\n",
    "  # bitwise \"and\" operator | 0 & 0 = 0, 1 & 1 = 1, 1 & 0 = 0\n",
    "  trg_mask = trg_mask & trg_sub_mask\n",
    "\n",
    "  return trg_mask"
   ]
  },
  {
   "cell_type": "code",
   "execution_count": 47,
   "metadata": {},
   "outputs": [
    {
     "name": "stdout",
     "output_type": "stream",
     "text": [
      "tensor([[22,  0, 10,  6, 25, 25, 25, 25],\n",
      "        [ 1, 22, 24,  8, 25, 25, 25, 25],\n",
      "        [17, 19, 22, 16, 25, 25, 25, 25]])\n",
      "[tensor([22.,  0., 10.,  6., 25., 25., 25., 25.]), tensor([ 1., 22., 24.,  8., 25., 25., 25., 25.]), tensor([17., 19., 22., 16., 25., 25., 25., 25.])]\n"
     ]
    }
   ],
   "source": [
    "max_length = 8\n",
    "pad_idx = len(stoi)\n",
    "\n",
    "padded_seqs = []\n",
    "\n",
    "for seq in indexed_sequences:\n",
    "  # pad each sequence\n",
    "  padded_seqs.append(pad_seq(torch.Tensor(seq), max_length, pad_idx))\n",
    "\n",
    "# create a tensor from the padded sequences\n",
    "tensor_sequences = torch.stack(padded_seqs).long()\n",
    "\n",
    "print(tensor_sequences)\n",
    "\n",
    "# create the source masks for the sequences\n",
    "src_mask = make_src_mask(tensor_sequences, pad_idx)\n",
    "\n",
    "print(padded_seqs)\n"
   ]
  },
  {
   "cell_type": "code",
   "execution_count": 48,
   "metadata": {},
   "outputs": [],
   "source": [
    "# parameters\n",
    "vocab_size = len(stoi) + 1 # add one for the padding token\n",
    "d_model = 8\n",
    "d_ffn = d_model*4 # 32\n",
    "n_heads = 4\n",
    "n_layers = 4\n",
    "dropout = 0.1"
   ]
  },
  {
   "cell_type": "code",
   "execution_count": 49,
   "metadata": {},
   "outputs": [
    {
     "data": {
      "text/plain": [
       "tensor([[[ 0.13,  1.38, -0.79, -2.14,  0.44,  0.01,  0.17,  0.81],\n",
       "         [-0.57,  0.25, -1.70,  1.19, -1.28,  1.01,  0.70,  0.41],\n",
       "         [-0.67,  0.50, -1.75,  0.34, -0.36, -0.24,  1.98,  0.20],\n",
       "         [ 0.36, -1.30, -0.85,  1.32,  1.58, -0.99, -0.40,  0.29],\n",
       "         [-0.17, -0.39, -1.89, -0.14,  0.41,  2.01,  0.18, -0.01],\n",
       "         [-0.50,  0.47, -1.84, -0.77,  0.03,  1.61,  0.98,  0.02],\n",
       "         [-0.13, -0.05, -2.20,  0.11,  0.49,  1.65,  0.32, -0.19],\n",
       "         [ 0.24,  0.13, -2.11, -0.24,  0.49,  1.76,  0.01, -0.30]],\n",
       "\n",
       "        [[ 0.41, -0.66, -0.45,  2.44, -0.32, -1.04, -0.24, -0.13],\n",
       "         [-0.27,  0.84,  0.75, -1.96, -0.11, -1.08,  0.92,  0.90],\n",
       "         [ 1.38,  0.12, -1.61, -0.91,  1.16,  0.89, -0.44, -0.59],\n",
       "         [-0.74,  1.37,  0.45, -0.41, -1.10, -0.77, -0.56,  1.76],\n",
       "         [-0.44, -0.60, -1.15, -0.40,  0.39,  2.41, -0.11, -0.10],\n",
       "         [-0.37,  1.01, -1.73, -0.71, -0.53,  1.68,  0.21,  0.44],\n",
       "         [-0.34,  0.41, -1.02, -1.08, -0.45,  2.23,  0.51, -0.26],\n",
       "         [ 1.55,  0.04, -1.99, -0.81, -0.06,  0.70, -0.10,  0.67]],\n",
       "\n",
       "        [[-0.09,  1.54, -1.47,  0.57, -0.85,  1.01, -1.11,  0.40],\n",
       "         [ 0.10, -0.78, -2.25,  1.25,  0.37,  0.32,  0.53,  0.46],\n",
       "         [ 1.21, -0.50,  0.86, -1.51,  0.96, -1.49,  0.08,  0.39],\n",
       "         [ 0.14, -0.06, -1.88, -0.19,  1.67,  0.65,  0.57, -0.91],\n",
       "         [-0.57, -0.35, -1.41, -0.46,  0.68,  2.15,  0.34, -0.38],\n",
       "         [-1.05, -0.29, -1.30,  0.00,  0.55,  2.15,  0.30, -0.36],\n",
       "         [-0.45, -0.19, -1.86, -0.24,  0.46,  2.00,  0.15,  0.13],\n",
       "         [-0.28, -0.57, -1.15, -0.68,  0.26,  2.39,  0.08, -0.04]]],\n",
       "       grad_fn=<NativeLayerNormBackward0>)"
      ]
     },
     "execution_count": 49,
     "metadata": {},
     "output_type": "execute_result"
    }
   ],
   "source": [
    "# create the embeddings\n",
    "lut = Embeddings(vocab_size, d_model) # look-up table (lut)\n",
    "\n",
    "# create the positional encodings\n",
    "pe = PositionalEncoding(d_model=d_model, dropout=0.1, max_length=8)\n",
    "\n",
    "# embed the sequence\n",
    "embeddings = lut(tensor_sequences)\n",
    "\n",
    "# positionally encode the sequences\n",
    "X = pe(embeddings)\n",
    "\n",
    "# initialize encoder\n",
    "encoder = Encoder(d_model, n_layers, n_heads,\n",
    "                  d_ffn, dropout)\n",
    "\n",
    "# pass through encoder\n",
    "encoder(src=X, src_mask=src_mask)"
   ]
  },
  {
   "cell_type": "markdown",
   "metadata": {},
   "source": [
    "# Decoder Layer"
   ]
  },
  {
   "cell_type": "markdown",
   "metadata": {},
   "source": [
    "The decoder layer is nothing more than a wrapper for the sublayers. It implements two multi-head attention sublayers and a position-wise feed-forward network, each followed by layer normalization and residual addition."
   ]
  },
  {
   "cell_type": "code",
   "execution_count": 50,
   "metadata": {},
   "outputs": [],
   "source": [
    "class DecoderLayer(nn.Module):\n",
    "\n",
    "  def __init__(self, d_model: int, n_heads: int, d_ffn: int, dropout: float):\n",
    "    \"\"\"\n",
    "    Args:\n",
    "        d_model:      dimension of embeddings\n",
    "        n_heads:      number of heads\n",
    "        d_ffn:        dimension of feed-forward network\n",
    "        dropout:      probability of dropout occurring\n",
    "    \"\"\"\n",
    "    super().__init__()\n",
    "    # masked multi-head attention sublayer\n",
    "    self.masked_attention = MultiHeadAttention(d_model, n_heads, dropout)\n",
    "    # layer norm for masked multi-head attention\n",
    "    self.masked_attn_layer_norm = nn.LayerNorm(d_model)\n",
    "\n",
    "    # multi-head attention sublayer\n",
    "    self.attention = MultiHeadAttention(d_model, n_heads, dropout)\n",
    "    # layer norm for multi-head attention\n",
    "    self.attn_layer_norm = nn.LayerNorm(d_model)\n",
    "    \n",
    "    # position-wise feed-forward network\n",
    "    self.positionwise_ffn = PositionwiseFeedForward(d_model, d_ffn, dropout)\n",
    "    # layer norm for position-wise ffn\n",
    "    self.ffn_layer_norm = nn.LayerNorm(d_model)\n",
    "\n",
    "    self.dropout = nn.Dropout(dropout)\n",
    "\n",
    "  def forward(self, trg: Tensor, src: Tensor, trg_mask: Tensor, src_mask: Tensor):\n",
    "    \"\"\"\n",
    "    Args:\n",
    "        trg:          embedded sequences                (batch_size, trg_seq_length, d_model)\n",
    "        src:          embedded sequences                (batch_size, src_seq_length, d_model)\n",
    "        trg_mask:     mask for the sequences            (batch_size, 1, trg_seq_length, trg_seq_length)\n",
    "        src_mask:     mask for the sequences            (batch_size, 1, 1, src_seq_length)\n",
    "\n",
    "    Returns:\n",
    "        trg:          sequences after self-attention    (batch_size, trg_seq_length, d_model)\n",
    "        attn_probs:   attention softmax scores\n",
    "    \"\"\"\n",
    "    # pass trg embeddings through masked multi-head attention\n",
    "    _trg, masked_attn_probs = self.masked_attention(trg, trg, trg, trg_mask)\n",
    "\n",
    "    # residual add and norm\n",
    "    trg = self.masked_attn_layer_norm(trg + self.dropout(_trg))\n",
    "    \n",
    "    # pass trg and src embeddings through multi-head attention\n",
    "    _trg, attn_probs = self.attention(trg, src, src, src_mask)\n",
    "\n",
    "    # residual add and norm\n",
    "    trg = self.attn_layer_norm(trg + self.dropout(_trg))\n",
    "\n",
    "    # position-wise feed-forward network\n",
    "    _trg = self.positionwise_ffn(trg)\n",
    "\n",
    "    # residual add and norm\n",
    "    trg = self.ffn_layer_norm(trg + self.dropout(_trg)) \n",
    "\n",
    "    return trg, masked_attn_probs, attn_probs"
   ]
  },
  {
   "cell_type": "markdown",
   "metadata": {},
   "source": [
    "# Decode as stack of Decoder Layers"
   ]
  },
  {
   "cell_type": "code",
   "execution_count": 51,
   "metadata": {},
   "outputs": [],
   "source": [
    "class Decoder(nn.Module):\n",
    "  def __init__(self, vocab_size: int, d_model: int, n_layers: int, \n",
    "               n_heads: int, d_ffn: int, dropout: float = 0.1):\n",
    "    \"\"\"\n",
    "    Args:\n",
    "        vocab_size:   size of the vocabulary\n",
    "        d_model:      dimension of embeddings\n",
    "        n_layers:     number of encoder layers\n",
    "        n_heads:      number of heads\n",
    "        d_ffn:        dimension of feed-forward network\n",
    "        dropout:      probability of dropout occurring\n",
    "    \"\"\"\n",
    "    super().__init__()\n",
    "\n",
    "    # create n_layers encoders \n",
    "    self.layers = nn.ModuleList([DecoderLayer(d_model, n_heads, d_ffn, dropout)\n",
    "                                 for layer in range(n_layers)])\n",
    "    \n",
    "    self.dropout = nn.Dropout(dropout)\n",
    "\n",
    "    # set output layer\n",
    "    self.Wo = nn.Linear(d_model, vocab_size)\n",
    "    \n",
    "  def forward(self, trg: Tensor, src: Tensor, trg_mask: Tensor, src_mask: Tensor):\n",
    "    \"\"\"\n",
    "    Args:\n",
    "        trg:          embedded sequences                (batch_size, trg_seq_length, d_model)\n",
    "        src:          encoded sequences from encoder    (batch_size, src_seq_length, d_model)\n",
    "        trg_mask:     mask for the sequences            (batch_size, 1, trg_seq_length, trg_seq_length)\n",
    "        src_mask:     mask for the sequences            (batch_size, 1, 1, src_seq_length)\n",
    "\n",
    "    Returns:\n",
    "        output:             sequences after decoder           (batch_size, trg_seq_length, vocab_size)\n",
    "        attn_probs:         attention softmax scores          (batch_size, n_heads, trg_seq_length, src_seq_length)\n",
    "        masked_attn_probs:  masked attention softmax scores   (batch_size, n_heads, trg_seq_length, trg_seq_length)\n",
    "    \"\"\"\n",
    "\n",
    "    # pass the sequences through each decoder\n",
    "    for layer in self.layers:\n",
    "      trg, masked_attn_probs, attn_probs = layer(trg, src, trg_mask, src_mask)\n",
    "\n",
    "    self.masked_attn_probs = masked_attn_probs\n",
    "    self.attn_probs = attn_probs\n",
    "\n",
    "    return self.Wo(trg)"
   ]
  },
  {
   "cell_type": "markdown",
   "metadata": {},
   "source": [
    "## Target Mask"
   ]
  },
  {
   "cell_type": "markdown",
   "metadata": {},
   "source": [
    "To understand the need for a target mask, it would be best to look at an example of the input and output of the decoder. The goal of the decoder is to predict the next token in the sequence given the encoded source sequence and part of the target sequence. For this to work, there must be a “start” token to prompt the model to predict the next token in the sequence. This is the use of the “\\<bos\\>” token in the above image. It’s also important to note that the size of the input and output to the decoder must be the same.\n",
    "\n",
    "If the goal is to have the model translate “Wie heißt du?” to “What is your name?”, the encoder would encode the meaning of the source sequence and pass it to the decoder. Given the “\\<bos\\>” token and the encoded source, the decoder should predict “What”. Then, “What” is appended to  “\\<bos\\>” to create the new input, which is  “\\<bos\\>What”. This is why the inputs to the decoder are considered to be “shifted right.” This can be passed to the decoder to predict `What is`. This token is appended to the previous input to create the new input,  “\\<bos\\> What is”. This is passed to the decoder to predict “What is your”. This process repeats itself until the model predicts the “\\<eos\\>” token.\n",
    "\n"
   ]
  },
  {
   "cell_type": "markdown",
   "metadata": {},
   "source": [
    "Given a target sequence of “\\<bos\\> What is your name? \\<eos\\>”, the model can learn each iteration simultaneously by using the target mask:\n",
    "\n",
    "```\n",
    "<bos> -----------------------\n",
    "<bos> what ------------------ \n",
    "<bos> what is --------------- \n",
    "<bos> what is your ---------- \n",
    "<bos> what is your name ----- \n",
    "```"
   ]
  },
  {
   "cell_type": "markdown",
   "metadata": {},
   "source": [
    "And the following would be the expected output for each sequence during inference:\n",
    "\n",
    "\n",
    "```\n",
    "what ------------------\n",
    "what is ---------------\n",
    "what is your ----------\n",
    "what is your name -----\n",
    "what is your name <eos>\n",
    "```"
   ]
  },
  {
   "cell_type": "markdown",
   "metadata": {},
   "source": [
    "Remember, the decoder’s input and output must be the same length. Hence, each target sequence needs its last token removed before being passed to the decoder. If the target sequences are stored in trg, the input to the decoder would be trg[:, :-1] to select everything except the last token, which can be seen in the target input above. The expected output would be trg[:, 1:], which is everything except the first token, which is the expected output seen above."
   ]
  },
  {
   "cell_type": "markdown",
   "metadata": {},
   "source": [
    "To summarize, like the encoder layer, the decoder requires its inputs to be masked. While padding masks are necessary for the input, a look-ahead, or subsequent, mask is also necessary for the target sequences. At inference, the model will only be provided with a start token and must predict the next token based on it. Then, given two tokens, it must predict the third token. This process is repeated until the end-of-sequence token is predicted. This is the autoregressive behavior of the transformer. In other words, future tokens are predicted based only on past tokens and the embeddings from the encoder.\n",
    "\n",
    "To mimic this behavior, the model learns all of these iterations simultaneously using the subsequent mask."
   ]
  },
  {
   "cell_type": "markdown",
   "metadata": {},
   "source": [
    "PyTorch’s `torch.tril` can be used to create the subsequent mask. It will have the shape of `(trg_seq_length, trg_seq_length)`."
   ]
  },
  {
   "cell_type": "code",
   "execution_count": 52,
   "metadata": {},
   "outputs": [
    {
     "name": "stdout",
     "output_type": "stream",
     "text": [
      "tensor([[1, 0, 0, 0, 0, 0, 0, 0, 0, 0],\n",
      "        [1, 1, 0, 0, 0, 0, 0, 0, 0, 0],\n",
      "        [1, 1, 1, 0, 0, 0, 0, 0, 0, 0],\n",
      "        [1, 1, 1, 1, 0, 0, 0, 0, 0, 0],\n",
      "        [1, 1, 1, 1, 1, 0, 0, 0, 0, 0],\n",
      "        [1, 1, 1, 1, 1, 1, 0, 0, 0, 0],\n",
      "        [1, 1, 1, 1, 1, 1, 1, 0, 0, 0],\n",
      "        [1, 1, 1, 1, 1, 1, 1, 1, 0, 0],\n",
      "        [1, 1, 1, 1, 1, 1, 1, 1, 1, 0],\n",
      "        [1, 1, 1, 1, 1, 1, 1, 1, 1, 1]], dtype=torch.int32)\n"
     ]
    }
   ],
   "source": [
    "trg_seq_length = 10\n",
    "\n",
    "subsequent_mask = torch.tril(torch.ones((trg_seq_length, trg_seq_length))).int()\n",
    "print(subsequent_mask)"
   ]
  },
  {
   "cell_type": "markdown",
   "metadata": {},
   "source": [
    "For each token in the sequence, the probability distribution will only be able to consider the previous tokens. However, since the target sequences must also be padded, the padding mask and subsequent mask have to be combined."
   ]
  },
  {
   "cell_type": "code",
   "execution_count": 53,
   "metadata": {},
   "outputs": [
    {
     "name": "stdout",
     "output_type": "stream",
     "text": [
      "tensor([[[[1, 1, 1, 1, 1, 1, 1, 0, 0, 0]]]], dtype=torch.int32)\n"
     ]
    }
   ],
   "source": [
    "pad_mask = torch.Tensor([[1,1,1,1,1,1,1,0,0,0]]).unsqueeze(1).unsqueeze(2).int()\n",
    "print(pad_mask)"
   ]
  },
  {
   "cell_type": "code",
   "execution_count": 54,
   "metadata": {},
   "outputs": [
    {
     "data": {
      "text/plain": [
       "tensor([[[[1, 0, 0, 0, 0, 0, 0, 0, 0, 0],\n",
       "          [1, 1, 0, 0, 0, 0, 0, 0, 0, 0],\n",
       "          [1, 1, 1, 0, 0, 0, 0, 0, 0, 0],\n",
       "          [1, 1, 1, 1, 0, 0, 0, 0, 0, 0],\n",
       "          [1, 1, 1, 1, 1, 0, 0, 0, 0, 0],\n",
       "          [1, 1, 1, 1, 1, 1, 0, 0, 0, 0],\n",
       "          [1, 1, 1, 1, 1, 1, 1, 0, 0, 0],\n",
       "          [1, 1, 1, 1, 1, 1, 1, 0, 0, 0],\n",
       "          [1, 1, 1, 1, 1, 1, 1, 0, 0, 0],\n",
       "          [1, 1, 1, 1, 1, 1, 1, 0, 0, 0]]]], dtype=torch.int32)"
      ]
     },
     "execution_count": 54,
     "metadata": {},
     "output_type": "execute_result"
    }
   ],
   "source": [
    "subsequent_mask & pad_mask\n"
   ]
  },
  {
   "cell_type": "markdown",
   "metadata": {},
   "source": [
    "This final target mask has to be created for every sequence in a batch, which means it will take of a shape of `(batch_size, 1, trg_seq_length, trg_seq_length)`. This mask will be broadcast across each head."
   ]
  },
  {
   "cell_type": "markdown",
   "metadata": {},
   "source": [
    "Since there are two multi-head attention mechanisms used in the decoder, the target mask will be used in the first one, and the source mask will be used in the second when the encoder’s embeddings are provided to the decoder"
   ]
  },
  {
   "cell_type": "markdown",
   "metadata": {},
   "source": [
    "In the first mechanism, the target sequences are multiplied against each other. As mentioned, the probability distributions for each token will only consider the previous tokens. This reflects the model’s behavior during inference."
   ]
  },
  {
   "cell_type": "markdown",
   "metadata": {},
   "source": [
    "In the second mechanism, the target sequences are the queries, and the sources are the keys. This creates a probability distribution between each target token and source token. During inference, this helps the model identify which target tokens are the best fit for the given source tokens."
   ]
  },
  {
   "cell_type": "markdown",
   "metadata": {},
   "source": [
    "# Training a Simple Model\n"
   ]
  },
  {
   "cell_type": "code",
   "execution_count": 55,
   "metadata": {},
   "outputs": [],
   "source": [
    "def tokenize(sequence, special_toks=True):\n",
    "  # remove punctuation\n",
    "  for punc in [\"!\", \".\", \"?\", \",\"]:\n",
    "    sequence = sequence.replace(punc, \"\")\n",
    "  \n",
    "  # split the sequence on spaces and lowercase each token\n",
    "  sequence = [token.lower() for token in sequence.split(\" \")]\n",
    "\n",
    "  # add beginning and end tokens\n",
    "  if special_toks:\n",
    "    sequence = ['<bos>'] + sequence + ['<eos>']\n",
    "\n",
    "  return sequence\n",
    "\n",
    "def build_vocab(data):\n",
    "  # tokenize the data and remove duplicates\n",
    "  vocab = list(set(tokenize(data, special_toks=False)))\n",
    "\n",
    "  # sort the vocabulary\n",
    "  vocab.sort()\n",
    "\n",
    "  # add special tokens\n",
    "  vocab = ['<pad>', '<bos>', '<eos>'] + vocab \n",
    "\n",
    "  # assign an integer to each word\n",
    "  stoi = {word:i for i, word in enumerate(vocab)}\n",
    "\n",
    "  return stoi"
   ]
  },
  {
   "cell_type": "code",
   "execution_count": 56,
   "metadata": {},
   "outputs": [
    {
     "name": "stdout",
     "output_type": "stream",
     "text": [
      "{'<pad>': 0, '<bos>': 1, '<eos>': 2, 'absatz': 3, 'als': 4, 'aufgeteilt': 5, 'beispiel': 6, 'der': 7, 'dies': 8, 'ein': 9, 'einen': 10, 'frage': 11, 'für': 12, 'grundkomponenten': 13, 'hallo': 14, 'ich': 15, 'ideen': 16, 'in': 17, 'irgendwelche': 18, 'ist': 19, 'kommt': 20, 'mich': 21, 'nächstes': 22, 'seine': 23, 'was': 24, 'wurde': 25}\n"
     ]
    }
   ],
   "source": [
    "de_example = \"Hallo! Dies ist ein Beispiel für einen Absatz, der in seine Grundkomponenten aufgeteilt wurde. Ich frage mich, was als nächstes kommt! Irgendwelche Ideen?\"\n",
    "en_example = \"Hello! This is an example of a paragraph that has been split into its basic components. I wonder what will come next! Any guesses?\"\n",
    "\n",
    "# build the vocab\n",
    "de_stoi = build_vocab(de_example)\n",
    "en_stoi = build_vocab(en_example)\n",
    "\n",
    "print(de_stoi)\n",
    "# build integer-to-string decoder for the vocab\n",
    "de_itos = {v:k for k,v in de_stoi.items()}\n",
    "en_itos = {v:k for k,v in en_stoi.items()}"
   ]
  },
  {
   "cell_type": "code",
   "execution_count": 57,
   "metadata": {},
   "outputs": [
    {
     "name": "stdout",
     "output_type": "stream",
     "text": [
      "tensor([[ 1, 15, 11, 21, 24,  4, 22, 20,  2],\n",
      "        [ 1,  8, 19,  9,  6, 12, 10,  3,  2],\n",
      "        [ 1, 14, 24, 19,  9, 13,  2,  0,  0]])\n",
      "tensor([[ 1, 14, 26, 24, 25,  8, 18,  2,  0],\n",
      "        [ 1, 23, 16,  3,  6, 10, 20,  2,  0],\n",
      "        [ 1, 13, 24, 16,  3,  6, 21,  2,  0]])\n"
     ]
    }
   ],
   "source": [
    "de_sequences = [\"Ich frage mich, was als nächstes kommt!\",\n",
    "                \"Dies ist ein Beispiel für einen Absatz.\",\n",
    "                \"Hallo, was ist ein Grundkomponenten?\"]\n",
    "\n",
    "en_sequences = [\"I wonder what will come next!\",\n",
    "                \"This is a basic example paragraph.\",\n",
    "                \"Hello, what is a basic split?\"]\n",
    "\n",
    "\n",
    "\n",
    "de_tokenized_sequences = [tokenize(seq) for seq in de_sequences]\n",
    "en_tokenized_sequences = [tokenize(seq) for seq in en_sequences]\n",
    "\n",
    "de_indexed_sequences = [[de_stoi[word] for word in seq] for seq in de_tokenized_sequences]\n",
    "en_indexed_sequences = [[en_stoi[word] for word in seq] for seq in en_tokenized_sequences]\n",
    "\n",
    "indexed_sequences\n",
    "\n",
    "\n",
    "# pad the sequences\n",
    "max_length = 9\n",
    "pad_idx = de_stoi['<pad>']\n",
    "\n",
    "de_padded_seqs = []\n",
    "en_padded_seqs = []\n",
    "\n",
    "# pad each sequence\n",
    "for de_seq, en_seq in zip(de_indexed_sequences, en_indexed_sequences):\n",
    "  de_padded_seqs.append(pad_seq(torch.Tensor(de_seq), max_length, pad_idx))\n",
    "  en_padded_seqs.append(pad_seq(torch.Tensor(en_seq), max_length, pad_idx))\n",
    "\n",
    "# create a tensor from the padded sequences\n",
    "de_tensor_sequences = torch.stack(de_padded_seqs).long()\n",
    "en_tensor_sequences = torch.stack(en_padded_seqs).long()\n",
    "\n",
    "\n",
    "print(de_tensor_sequences)\n",
    "print(en_tensor_sequences)"
   ]
  },
  {
   "cell_type": "code",
   "execution_count": 58,
   "metadata": {},
   "outputs": [],
   "source": [
    "# remove last token\n",
    "trg = en_tensor_sequences[:,:-1] \n",
    "\n",
    "# remove the first token\n",
    "expected_output = en_tensor_sequences[:,1:]\n",
    "\n",
    "# generate masks\n",
    "src_mask = make_src_mask(de_tensor_sequences, pad_idx)\n",
    "trg_mask = make_trg_mask(trg, pad_idx)"
   ]
  },
  {
   "cell_type": "code",
   "execution_count": 59,
   "metadata": {},
   "outputs": [],
   "source": [
    "# parameters\n",
    "de_vocab_size = len(de_stoi)\n",
    "en_vocab_size = len(en_stoi)\n",
    "d_model = 32\n",
    "d_ffn = d_model*4 # 32\n",
    "n_heads = 4\n",
    "n_layers = 3\n",
    "dropout = 0.1\n",
    "max_pe_length = 10\n",
    "\n",
    "# create the embeddings\n",
    "de_lut = Embeddings(de_vocab_size, d_model) # look-up table (lut)\n",
    "en_lut = Embeddings(en_vocab_size, d_model)\n",
    "\n",
    "# create the positional encodings\n",
    "pe = PositionalEncoding(d_model=d_model, dropout=0.1, max_length=max_pe_length)\n",
    "\n",
    "# embed and encode\n",
    "de_embed = nn.Sequential(de_lut, pe)\n",
    "en_embed = nn.Sequential(en_lut, pe)\n",
    "\n",
    "# initialize encoder\n",
    "encoder = Encoder(d_model, n_layers, n_heads, d_ffn, dropout)\n",
    "\n",
    "# initialize the decoder\n",
    "decoder = Decoder(en_vocab_size, d_model, n_layers, n_heads, d_ffn, dropout)\n"
   ]
  },
  {
   "cell_type": "code",
   "execution_count": 60,
   "metadata": {},
   "outputs": [],
   "source": [
    "# initialize the model\n",
    "model = nn.ModuleList([de_embed, en_embed, encoder, decoder])\n",
    "\n",
    "# normalize the weights\n",
    "for p in model.parameters():\n",
    "  if p.dim() > 1:\n",
    "    nn.init.xavier_uniform_(p)"
   ]
  },
  {
   "cell_type": "code",
   "execution_count": 61,
   "metadata": {},
   "outputs": [
    {
     "name": "stdout",
     "output_type": "stream",
     "text": [
      "The model has 91,675 trainable parameters.\n"
     ]
    }
   ],
   "source": [
    "def count_parameters(model):\n",
    "    return sum(p.numel() for p in model.parameters() if p.requires_grad)\n",
    "\n",
    "print(f'The model has {count_parameters(model):,} trainable parameters.')"
   ]
  },
  {
   "cell_type": "markdown",
   "metadata": {},
   "source": [
    "### Now, a simple forward pass can be completed on the model, and the predictions can be previewed by taking the argmax of the logits.\n",
    "\n"
   ]
  },
  {
   "cell_type": "code",
   "execution_count": 62,
   "metadata": {},
   "outputs": [
    {
     "name": "stdout",
     "output_type": "stream",
     "text": [
      "[['hello', 'of', 'next', 'guesses', 'split', 'next', 'next', 'of'], ['split', 'come', 'an', 'a', 'an', 'split', 'what', 'an'], ['split', 'come', 'split', 'that', 'of', 'of', 'of', 'an']]\n"
     ]
    }
   ],
   "source": [
    "# pass through encoder\n",
    "encoded_embeddings = encoder(src=de_embed(de_tensor_sequences), \n",
    "                               src_mask=src_mask)\n",
    "\n",
    "# logits for each output\n",
    "logits = decoder(trg=en_embed(trg), src=encoded_embeddings, \n",
    "                   trg_mask=trg_mask, \n",
    "                   src_mask=src_mask)\n",
    "\n",
    "predictions = [[en_itos[tok] for tok in seq] for seq in logits.argmax(-1).tolist()]\n",
    "print(predictions)"
   ]
  },
  {
   "cell_type": "code",
   "execution_count": 63,
   "metadata": {},
   "outputs": [],
   "source": [
    "# hyperparameters\n",
    "LEARNING_RATE = 0.005\n",
    "EPOCHS = 50\n",
    "\n",
    "# adam optimizer\n",
    "optimizer = torch.optim.Adam(model.parameters(), lr = LEARNING_RATE)\n",
    "\n",
    "# loss function\n",
    "criterion = nn.CrossEntropyLoss(ignore_index = en_stoi[\"<pad>\"])"
   ]
  },
  {
   "cell_type": "code",
   "execution_count": 64,
   "metadata": {},
   "outputs": [
    {
     "name": "stdout",
     "output_type": "stream",
     "text": [
      "=========================\n",
      "epoch: 0\n",
      "loss: 3.6640238761901855\n",
      "predictions: [['of', 'split', 'a', 'split', 'split', 'next', 'this', 'of'], ['split', 'hello', 'of', 'an', 'that', 'split', 'split', 'of'], ['hello', 'next', 'an', 'next', 'of', 'next', 'hello', 'of']]\n",
      "=========================\n",
      "epoch: 7\n",
      "loss: 2.3304784297943115\n",
      "predictions: [['what', 'what', 'what', 'what', 'what', 'what', 'what', 'what'], ['basic', 'basic', 'basic', 'basic', 'basic', 'basic', 'basic', 'basic'], ['what', 'what', 'what', 'i', 'a', 'split', 'is', 'is']]\n",
      "=========================\n",
      "epoch: 14\n",
      "loss: 1.6582746505737305\n",
      "predictions: [['wonder', '<eos>', 'what', 'wonder', 'next', '<eos>', '<eos>', '<eos>'], ['this', '<eos>', 'is', 'a', 'split', '<eos>', '<eos>', '<eos>'], ['hello', '<eos>', '<eos>', 'a', 'a', '<eos>', '<eos>', 'basic']]\n",
      "=========================\n",
      "epoch: 21\n",
      "loss: 1.0119550228118896\n",
      "predictions: [['i', 'wonder', '<eos>', '<eos>', '<eos>', '<eos>', '<eos>', '<eos>'], ['this', 'is', 'a', 'basic', 'paragraph', 'paragraph', '<eos>', '<eos>'], ['hello', 'what', 'is', 'a', 'basic', 'split', '<eos>', '<eos>']]\n",
      "=========================\n",
      "epoch: 28\n",
      "loss: 0.5601091384887695\n",
      "predictions: [['i', 'wonder', 'what', 'next', '<eos>', 'next', '<eos>', '<eos>'], ['this', 'is', 'a', 'basic', 'example', 'paragraph', '<eos>', '<eos>'], ['hello', 'what', 'is', 'a', 'basic', 'split', '<eos>', 'what']]\n",
      "=========================\n",
      "epoch: 35\n",
      "loss: 0.36987560987472534\n",
      "predictions: [['i', 'wonder', 'what', 'will', 'come', 'next', '<eos>', '<eos>'], ['a', 'is', 'a', 'basic', 'example', 'paragraph', '<eos>', '<eos>'], ['hello', 'what', 'is', 'a', 'basic', 'split', '<eos>', '<eos>']]\n",
      "=========================\n",
      "epoch: 42\n",
      "loss: 0.20284974575042725\n",
      "predictions: [['i', 'wonder', 'what', 'will', 'come', 'next', '<eos>', '<eos>'], ['this', 'is', 'a', 'basic', 'example', 'paragraph', '<eos>', '<eos>'], ['hello', 'what', 'is', 'a', 'basic', 'split', '<eos>', '<eos>']]\n",
      "=========================\n",
      "epoch: 49\n",
      "loss: 0.2605020999908447\n",
      "predictions: [['i', 'wonder', 'what', 'will', 'come', 'next', '<eos>', '<eos>'], ['this', 'is', 'a', 'basic', 'example', 'paragraph', '<eos>', '<eos>'], ['hello', 'what', 'is', 'a', 'basic', 'split', '<eos>', '<eos>']]\n"
     ]
    }
   ],
   "source": [
    "# set the model to training mode\n",
    "model.train()\n",
    "\n",
    "# loop through each epoch\n",
    "for i in range(EPOCHS):\n",
    "  epoch_loss = 0\n",
    "\n",
    "  # zero the gradients\n",
    "  optimizer.zero_grad()\n",
    "\n",
    "  # pass through encoder\n",
    "  encoded_embeddings = encoder(src=de_embed(de_tensor_sequences), \n",
    "                               src_mask=src_mask)\n",
    "\n",
    "  # logits for each output\n",
    "  logits = decoder(trg=en_embed(trg), src=encoded_embeddings, \n",
    "                   trg_mask=trg_mask, \n",
    "                   src_mask=src_mask)\n",
    "  \n",
    "  # calculate the loss\n",
    "  loss = criterion(logits.contiguous().view(-1, logits.shape[-1]), \n",
    "                   expected_output.contiguous().view(-1))\n",
    "  \n",
    "  # backpropagation\n",
    "  loss.backward()\n",
    "\n",
    "  # clip the weights\n",
    "  torch.nn.utils.clip_grad_norm_(model.parameters(), 1)\n",
    "        \n",
    "  # update the weights\n",
    "  optimizer.step()\n",
    "  \n",
    "  # preview the predictions\n",
    "  predictions = [[en_itos[tok] for tok in seq] for seq in logits.argmax(-1).tolist()]\n",
    "\n",
    "  if i % 7 == 0:\n",
    "    print(\"=\"*25)\n",
    "    print(f\"epoch: {i}\")\n",
    "    print(f\"loss: {loss.item()}\")\n",
    "    print(f\"predictions: {predictions}\")\n"
   ]
  },
  {
   "cell_type": "markdown",
   "metadata": {},
   "source": [
    "# Putting everything together"
   ]
  },
  {
   "cell_type": "code",
   "execution_count": 65,
   "metadata": {},
   "outputs": [],
   "source": [
    "class Transformer(nn.Module):\n",
    "  def __init__(self, encoder: Encoder, decoder: Decoder,\n",
    "               src_embed: Embeddings, trg_embed: Embeddings,\n",
    "               src_pad_idx: int, trg_pad_idx: int, device):\n",
    "    \"\"\"\n",
    "    Args:\n",
    "        encoder:      encoder stack                    \n",
    "        decoder:      decoder stack\n",
    "        src_embed:    source embeddings and encodings\n",
    "        trg_embed:    target embeddings and encodings\n",
    "        src_pad_idx:  padding index          \n",
    "        trg_pad_idx:  padding index\n",
    "        device:       cuda or cpu\n",
    "    \n",
    "    Returns:\n",
    "        output:       sequences after decoder           (batch_size, trg_seq_length, vocab_size)\n",
    "    \"\"\"\n",
    "    super().__init__()\n",
    "\n",
    "    self.encoder = encoder\n",
    "    self.decoder = decoder\n",
    "    self.src_embed = src_embed\n",
    "    self.trg_embed = trg_embed\n",
    "    self.device = device\n",
    "    self.src_pad_idx = src_pad_idx\n",
    "    self.trg_pad_idx = trg_pad_idx\n",
    "    \n",
    "  def make_src_mask(self, src: Tensor):\n",
    "    \"\"\"\n",
    "    Args:\n",
    "        src:          raw sequences with padding        (batch_size, seq_length)              \n",
    "    \n",
    "    Returns:\n",
    "        src_mask:     mask for each sequence            (batch_size, 1, 1, seq_length)\n",
    "    \"\"\"\n",
    "    # assign 1 to tokens that need attended to and 0 to padding tokens, then add 2 dimensions\n",
    "    src_mask = (src != self.src_pad_idx).unsqueeze(1).unsqueeze(2)\n",
    "\n",
    "    return src_mask\n",
    "\n",
    "  def make_trg_mask(self, trg: Tensor):\n",
    "    \"\"\"\n",
    "    Args:\n",
    "        trg:          raw sequences with padding        (batch_size, seq_length)              \n",
    "    \n",
    "    Returns:\n",
    "        trg_mask:     mask for each sequence            (batch_size, 1, seq_length, seq_length)\n",
    "    \"\"\"\n",
    "\n",
    "    seq_length = trg.shape[1]\n",
    "\n",
    "    # assign True to tokens that need attended to and False to padding tokens, then add 2 dimensions\n",
    "    trg_mask = (trg != self.trg_pad_idx).unsqueeze(1).unsqueeze(2) # (batch_size, 1, 1, seq_length)\n",
    "\n",
    "    # generate subsequent mask\n",
    "    trg_sub_mask = torch.tril(torch.ones((seq_length, seq_length), device=self.device)).bool() # (batch_size, 1, seq_length, seq_length)\n",
    "\n",
    "    # bitwise \"and\" operator | 0 & 0 = 0, 1 & 1 = 1, 1 & 0 = 0\n",
    "    trg_mask = trg_mask & trg_sub_mask\n",
    "\n",
    "    return trg_mask\n",
    "\n",
    "  def forward(self, src: Tensor, trg: Tensor):\n",
    "    \"\"\"\n",
    "    Args:\n",
    "        trg:          raw target sequences              (batch_size, trg_seq_length)\n",
    "        src:          raw src sequences                 (batch_size, src_seq_length)\n",
    "    \n",
    "    Returns:\n",
    "        output:       sequences after decoder           (batch_size, trg_seq_length, output_dim)\n",
    "    \"\"\"\n",
    "\n",
    "    # create source and target masks     \n",
    "    src_mask = self.make_src_mask(src) # (batch_size, 1, 1, src_seq_length)\n",
    "    trg_mask = self.make_trg_mask(trg) # (batch_size, 1, trg_seq_length, trg_seq_length)\n",
    "\n",
    "    # push the src through the encoder layers\n",
    "    src = self.encoder(self.src_embed(src), src_mask)  # (batch_size, src_seq_length, d_model)\n",
    "\n",
    "    # decoder output and attention probabilities\n",
    "    output = self.decoder(self.trg_embed(trg), src, trg_mask, src_mask)\n",
    "\n",
    "    return output\n"
   ]
  },
  {
   "cell_type": "code",
   "execution_count": 66,
   "metadata": {},
   "outputs": [],
   "source": [
    "def make_model(device, src_vocab, trg_vocab, n_layers: int = 3, d_model: int = 512, \n",
    "               d_ffn: int = 2048, n_heads: int = 8, dropout: float = 0.1, \n",
    "               max_length: int = 5000):\n",
    "  \"\"\"\n",
    "    Construct a model when provided parameters.\n",
    "\n",
    "    Args:\n",
    "        src_vocab:    source vocabulary\n",
    "        trg_vocab:    target vocabulary\n",
    "        n_layers:     Number of Encoder and Decoders \n",
    "        d_model:      dimension of embeddings\n",
    "        d_ffn:        dimension of feed-forward network\n",
    "        n_heads:      number of heads\n",
    "        dropout:      probability of dropout occurring\n",
    "        max_length:   maximum sequence length for positional encodings\n",
    "\n",
    "    Returns:\n",
    "        Transformer model based on hyperparameters\n",
    "    \"\"\"\n",
    "  \n",
    "  # create the encoder\n",
    "  encoder = Encoder(d_model, n_layers, n_heads, d_ffn, dropout)\n",
    "\n",
    "  # create the decoder\n",
    "  decoder = Decoder(len(trg_vocab), d_model, n_layers, n_heads, d_ffn, dropout)\n",
    "    \n",
    "  # create source embedding matrix\n",
    "  src_embed = Embeddings(len(src_vocab), d_model)\n",
    "  \n",
    "  # create target embedding matrix\n",
    "  trg_embed = Embeddings(len(trg_vocab), d_model)\n",
    "  \n",
    "  # create a positional encoding matrix\n",
    "  pos_enc = PositionalEncoding(d_model, dropout, max_length)\n",
    "\n",
    "  # create the Transformer model\n",
    "  model = Transformer(encoder, decoder, nn.Sequential(src_embed, pos_enc), \n",
    "                      nn.Sequential(trg_embed, pos_enc),\n",
    "                      src_pad_idx=src_vocab.get_stoi()[\"<pad>\"], \n",
    "                      trg_pad_idx=trg_vocab.get_stoi()[\"<pad>\"],\n",
    "                      device=device)\n",
    "\n",
    "  # initialize parameters with Xavier/Glorot\n",
    "  for p in model.parameters():\n",
    "    if p.dim() > 1:\n",
    "      nn.init.xavier_uniform_(p)\n",
    "\n",
    "  return model\n"
   ]
  },
  {
   "cell_type": "code",
   "execution_count": 67,
   "metadata": {},
   "outputs": [],
   "source": [
    "# ! pip install -U spacy\n",
    "# ! python -m spacy download en_core_web_sm"
   ]
  },
  {
   "cell_type": "code",
   "execution_count": 68,
   "metadata": {},
   "outputs": [],
   "source": [
    "# !pip install -q portalocker"
   ]
  },
  {
   "cell_type": "code",
   "execution_count": 69,
   "metadata": {},
   "outputs": [],
   "source": [
    "# !pip install torchtext"
   ]
  },
  {
   "cell_type": "code",
   "execution_count": 70,
   "metadata": {},
   "outputs": [],
   "source": [
    "# !pip install torchdata"
   ]
  },
  {
   "cell_type": "code",
   "execution_count": 71,
   "metadata": {},
   "outputs": [
    {
     "name": "stderr",
     "output_type": "stream",
     "text": [
      "/home/infinitive/anaconda3/envs/stream/lib/python3.10/site-packages/torch/cuda/__init__.py:628: UserWarning: Can't initialize NVML\n",
      "  warnings.warn(\"Can't initialize NVML\")\n"
     ]
    }
   ],
   "source": [
    "import math\n",
    "import copy\n",
    "import time\n",
    "import random\n",
    "import spacy\n",
    "import numpy as np\n",
    "import os \n",
    "\n",
    "# torch packages\n",
    "import torch\n",
    "import torch.nn as nn\n",
    "import torch.nn.functional as F\n",
    "from torch import Tensor\n",
    "import torch.optim as optim\n",
    "\n",
    "# load and build datasets\n",
    "import torchtext\n",
    "from torchtext.data.functional import to_map_style_dataset\n",
    "from torch.nn.functional import pad\n",
    "from torch.utils.data import DataLoader\n",
    "from torchtext.vocab import build_vocab_from_iterator\n",
    "import torchtext.datasets as datasets\n",
    "import portalocker\n",
    "\n",
    "# visualization packages\n",
    "from mpl_toolkits import mplot3d\n",
    "import matplotlib.pyplot as plt\n",
    "import matplotlib.ticker as ticker"
   ]
  },
  {
   "cell_type": "code",
   "execution_count": 72,
   "metadata": {},
   "outputs": [],
   "source": [
    "def load_tokenizers():\n",
    "  \"\"\"\n",
    "    Load the German and English tokenizers provided by spaCy.\n",
    "\n",
    "    Returns:\n",
    "        spacy_de:     German tokenizer\n",
    "        spacy_en:     English tokenizer\n",
    "  \"\"\"\n",
    "  try:\n",
    "    spacy_de = spacy.load(\"de_core_news_sm\")\n",
    "  except OSError:\n",
    "    os.system(\"python -m spacy download de_core_news_sm\")\n",
    "    spacy_de = spacy.load(\"de_core_news_sm\")\n",
    "\n",
    "  try:\n",
    "    spacy_en = spacy.load(\"en_core_web_sm\")\n",
    "  except OSError:\n",
    "    os.system(\"python -m spacy download en_core_web_sm\")\n",
    "    spacy_en = spacy.load(\"en_core_web_sm\")\n",
    "  \n",
    "  print(\"Loaded English and German tokenizers.\")\n",
    "  return spacy_de, spacy_en"
   ]
  },
  {
   "cell_type": "code",
   "execution_count": 73,
   "metadata": {},
   "outputs": [],
   "source": [
    "def tokenize(text: str, tokenizer):\n",
    "  \"\"\"\n",
    "    Split a string into its tokens using the provided tokenizer.\n",
    "\n",
    "    Args:\n",
    "        text:         string \n",
    "        tokenizer:    tokenizer for the language\n",
    "        \n",
    "    Returns:\n",
    "        tokenized list of strings       \n",
    "  \"\"\"\n",
    "  return [tok.text.lower() for tok in tokenizer.tokenizer(text)]"
   ]
  },
  {
   "cell_type": "code",
   "execution_count": 74,
   "metadata": {},
   "outputs": [],
   "source": [
    "# This function calls on the provided tokenizer to yield the tokens for the correct language. \n",
    "# If index = 0, then German is tokenized. If index = 1, English is tokenized. \n",
    "# Each tuple from the data iterator contains a German-English pair, like (“Wie heißt du?”, “What is your name?”).\n",
    "def yield_tokens(data_iter, tokenizer, index: int):\n",
    "  \"\"\"\n",
    "    Return the tokens for the appropriate language.\n",
    "\n",
    "    Args:\n",
    "        data_iter:    text here \n",
    "        tokenizer:    tokenizer for the language\n",
    "        index:        index of the language in the tuple | (de=0, en=1)\n",
    "        \n",
    "    Yields:\n",
    "        sequences based on index       \n",
    "  \"\"\"\n",
    "  for from_tuple in data_iter:\n",
    "    yield tokenizer(from_tuple[index])"
   ]
  },
  {
   "cell_type": "code",
   "execution_count": 83,
   "metadata": {},
   "outputs": [],
   "source": [
    "def build_vocabulary(spacy_de, spacy_en, min_freq: int = 2):\n",
    "  \n",
    "  def tokenize_de(text: str):\n",
    "    \"\"\"\n",
    "      Call the German tokenizer.\n",
    "\n",
    "      Args:\n",
    "          text:         string \n",
    "          min_freq:     minimum frequency needed to include a word in the vocabulary\n",
    "      \n",
    "      Returns:\n",
    "          tokenized list of strings       \n",
    "    \"\"\"\n",
    "    return tokenize(text, spacy_de)\n",
    "\n",
    "  def tokenize_en(text: str):\n",
    "    \"\"\"\n",
    "      Call the English tokenizer.\n",
    "\n",
    "      Args:\n",
    "          text:         string \n",
    "      \n",
    "      Returns:\n",
    "          tokenized list of strings       \n",
    "    \"\"\"\n",
    "    return tokenize(text, spacy_en)\n",
    "\n",
    "  print(\"Building German Vocabulary...\")\n",
    "  \n",
    "  # load train, val, and test data pipelines\n",
    "  #train, val, test = datasets.Multi30k(language_pair=(\"de\", \"en\"))\n",
    "\n",
    "  train = datasets.Multi30k(root='.data', split='train', language_pair=('de', 'en'))\n",
    "  val = datasets.Multi30k(root='.data', split='valid', language_pair=('de', 'en'))\n",
    "  # test = datasets.Multi30k(root='.data', split='test', language_pair=('de', 'en'))\n",
    "\n",
    "  # generate source vocabulary\n",
    "  vocab_src = build_vocab_from_iterator(\n",
    "        yield_tokens(train + val, tokenize_de, index=0), # tokens for each German sentence (index 0)\n",
    "        min_freq=min_freq, \n",
    "        specials=[\"<bos>\", \"<eos>\", \"<pad>\", \"<unk>\"],\n",
    "  )\n",
    "\n",
    "  print(\"Building English Vocabulary...\")\n",
    "\n",
    "  # generate target vocabulary\n",
    "  vocab_trg = build_vocab_from_iterator(\n",
    "        yield_tokens(train + val, tokenize_en, index=1), # tokens for each English sentence (index 1)\n",
    "        min_freq=2, # \n",
    "        specials=[\"<bos>\", \"<eos>\", \"<pad>\", \"<unk>\"],\n",
    "  )\n",
    "\n",
    "  # set default token for out-of-vocabulary words (OOV)\n",
    "  vocab_src.set_default_index(vocab_src[\"<unk>\"])\n",
    "  vocab_trg.set_default_index(vocab_trg[\"<unk>\"])\n",
    "\n",
    "  return vocab_src, vocab_trg"
   ]
  },
  {
   "cell_type": "code",
   "execution_count": 84,
   "metadata": {},
   "outputs": [],
   "source": [
    "def load_vocab(spacy_de, spacy_en, min_freq: int = 2):\n",
    "  \"\"\"\n",
    "    Args:\n",
    "        spacy_de:     German tokenizer\n",
    "        spacy_en:     English tokenizer\n",
    "        min_freq:     minimum frequency needed to include a word in the vocabulary\n",
    "    \n",
    "    Returns:\n",
    "        vocab_src:    German vocabulary\n",
    "        vocab_trg:     English vocabulary       \n",
    "  \"\"\"\n",
    "  \n",
    "  if not os.path.exists(\"vocab.pt\"):\n",
    "    # build the German/English vocabulary if it does not exist\n",
    "    vocab_src, vocab_trg = build_vocabulary(spacy_de, spacy_en, min_freq)\n",
    "    # save it to a file\n",
    "    torch.save((vocab_src, vocab_trg), \"vocab.pt\")\n",
    "  else:\n",
    "    # load the vocab if it exists\n",
    "    vocab_src, vocab_trg = torch.load(\"vocab.pt\")\n",
    "\n",
    "  print(\"Finished.\\nVocabulary sizes:\")\n",
    "  print(\"\\tSource:\", len(vocab_src))\n",
    "  print(\"\\tTarget:\", len(vocab_trg))\n",
    "  return vocab_src, vocab_trg"
   ]
  },
  {
   "cell_type": "code",
   "execution_count": 85,
   "metadata": {},
   "outputs": [
    {
     "name": "stdout",
     "output_type": "stream",
     "text": [
      "Loaded English and German tokenizers.\n",
      "Building German Vocabulary...\n",
      "Building English Vocabulary...\n"
     ]
    },
    {
     "name": "stderr",
     "output_type": "stream",
     "text": [
      "/home/infinitive/anaconda3/envs/stream/lib/python3.10/site-packages/torch/utils/data/datapipes/iter/combining.py:337: UserWarning: Some child DataPipes are not exhausted when __iter__ is called. We are resetting the buffer and each child DataPipe will read from the start again.\n",
      "  warnings.warn(\"Some child DataPipes are not exhausted when __iter__ is called. We are resetting \"\n"
     ]
    },
    {
     "name": "stdout",
     "output_type": "stream",
     "text": [
      "Finished.\n",
      "Vocabulary sizes:\n",
      "\tSource: 8020\n",
      "\tTarget: 5997\n"
     ]
    }
   ],
   "source": [
    "# global variables used later in the script\n",
    "spacy_de, spacy_en = load_tokenizers()\n",
    "vocab_src, vocab_trg = load_vocab(spacy_de, spacy_en)"
   ]
  },
  {
   "cell_type": "code",
   "execution_count": 86,
   "metadata": {},
   "outputs": [],
   "source": [
    "def data_process(raw_data):\n",
    "  \"\"\"\n",
    "    Process raw sentences by tokenizing and converting to integers based on \n",
    "    the vocabulary.\n",
    "\n",
    "    Args:\n",
    "        raw_data:     German-English sentence pairs \n",
    "    Returns:\n",
    "        data:         tokenized data converted to index based on vocabulary   \n",
    "  \"\"\"\n",
    "\n",
    "  data = []\n",
    "  # loop through each sentence pair\n",
    "  for (raw_de, raw_en) in raw_data:\n",
    "    # tokenize the sentence and convert each word to an integers\n",
    "    de_tensor_ = torch.tensor([vocab_src[token.text.lower()] for token in spacy_de.tokenizer(raw_de)], dtype=torch.long)\n",
    "    en_tensor_ = torch.tensor([vocab_trg[token.text.lower()] for token in spacy_en.tokenizer(raw_en)], dtype=torch.long)\n",
    "\n",
    "    # append tensor representations\n",
    "    data.append((de_tensor_, en_tensor_))\n",
    "  return data"
   ]
  },
  {
   "cell_type": "code",
   "execution_count": 87,
   "metadata": {},
   "outputs": [],
   "source": [
    "def generate_batch(data_batch):\n",
    "  \"\"\"\n",
    "    Process indexed-sequences by adding <bos>, <eos>, and <pad> tokens.\n",
    "\n",
    "    Args:\n",
    "        data_batch:     German-English indexed-sentence pairs\n",
    "    \n",
    "    Returns:\n",
    "        two batches:    one for German and one for English\n",
    "  \"\"\"\n",
    "  de_batch, en_batch = [], []\n",
    "\n",
    "  # for each sentence\n",
    "  for (de_item, en_item) in data_batch:\n",
    "    # add <bos> and <eos> indices before and after the sentence\n",
    "    de_temp = torch.cat([torch.tensor([BOS_IDX]), de_item, torch.tensor([EOS_IDX])], dim=0).to(device)\n",
    "    en_temp = torch.cat([torch.tensor([BOS_IDX]), en_item, torch.tensor([EOS_IDX])], dim=0).to(device)\n",
    "\n",
    "    # add padding\n",
    "    de_batch.append(pad(de_temp,(0, # dimension to pad\n",
    "                            MAX_PADDING - len(de_temp), # amount of padding to add\n",
    "                          ),value=PAD_IDX,))\n",
    "    \n",
    "    # add padding\n",
    "    en_batch.append(pad(en_temp,(0, # dimension to pad\n",
    "                            MAX_PADDING - len(en_temp), # amount of padding to add\n",
    "                          ),\n",
    "                          value=PAD_IDX,))\n",
    "    \n",
    "  return torch.stack(de_batch), torch.stack(en_batch)"
   ]
  },
  {
   "cell_type": "code",
   "execution_count": 88,
   "metadata": {},
   "outputs": [],
   "source": [
    "train_data_raw, val_data_raw, test_data_raw = datasets.Multi30k(language_pair=(\"de\", \"en\"))\n"
   ]
  },
  {
   "cell_type": "code",
   "execution_count": 92,
   "metadata": {},
   "outputs": [],
   "source": [
    "# processed data\n",
    "train_data = data_process(train_data_raw)\n",
    "val_data = data_process(val_data_raw)\n",
    "# test_data = data_process(test_data_raw)"
   ]
  },
  {
   "cell_type": "code",
   "execution_count": 99,
   "metadata": {},
   "outputs": [],
   "source": [
    "BOS_IDX = vocab_trg['<bos>']\n",
    "EOS_IDX = vocab_trg['<eos>']\n",
    "PAD_IDX = vocab_trg['<pad>']"
   ]
  },
  {
   "cell_type": "code",
   "execution_count": 93,
   "metadata": {},
   "outputs": [],
   "source": [
    "MAX_PADDING = 20\n",
    "BATCH_SIZE = 128\n",
    "\n",
    "train_iter = DataLoader(to_map_style_dataset(train_data), batch_size=BATCH_SIZE,\n",
    "                        shuffle=True, drop_last=True, collate_fn=generate_batch)\n",
    "\n",
    "valid_iter = DataLoader(to_map_style_dataset(val_data), batch_size=BATCH_SIZE,\n",
    "                        shuffle=True, drop_last=True, collate_fn=generate_batch)\n",
    "\n",
    "# test_iter = DataLoader(to_map_style_dataset(test_data), batch_size=BATCH_SIZE,\n",
    "                       #shuffle=True, drop_last=True, collate_fn=generate_batch)"
   ]
  },
  {
   "cell_type": "markdown",
   "metadata": {},
   "source": [
    "# Model Creation"
   ]
  },
  {
   "cell_type": "code",
   "execution_count": 95,
   "metadata": {},
   "outputs": [
    {
     "name": "stdout",
     "output_type": "stream",
     "text": [
      "cpu\n"
     ]
    }
   ],
   "source": [
    "device = torch.device('cuda' if torch.cuda.is_available() else 'cpu')\n",
    "print(device)\n",
    "\n",
    "model = make_model(device, vocab_src, vocab_trg,\n",
    "                   n_layers=3, n_heads=8, d_model=256,\n",
    "                   d_ffn=512, max_length=50)\n",
    "#model.cuda()"
   ]
  },
  {
   "cell_type": "code",
   "execution_count": 96,
   "metadata": {},
   "outputs": [
    {
     "name": "stdout",
     "output_type": "stream",
     "text": [
      "The model has 9,083,245 trainable parameters\n"
     ]
    }
   ],
   "source": [
    "def count_parameters(model):\n",
    "    return sum(p.numel() for p in model.parameters() if p.requires_grad)\n",
    "\n",
    "print(f'The model has {count_parameters(model):,} trainable parameters')"
   ]
  },
  {
   "cell_type": "code",
   "execution_count": 100,
   "metadata": {},
   "outputs": [],
   "source": [
    "LEARNING_RATE = 0.0005\n",
    "\n",
    "optimizer = torch.optim.Adam(model.parameters(), lr = LEARNING_RATE)\n",
    "criterion = nn.CrossEntropyLoss(ignore_index = PAD_IDX)"
   ]
  },
  {
   "cell_type": "code",
   "execution_count": 101,
   "metadata": {},
   "outputs": [],
   "source": [
    "def train(model, iterator, optimizer, criterion, clip):\n",
    "  \"\"\"\n",
    "    Train the model on the given data.\n",
    "\n",
    "    Args:\n",
    "        model:        Transformer model to be trained\n",
    "        iterator:     data to be trained on\n",
    "        optimizer:    optimizer for updating parameters\n",
    "        criterion:    loss function for updating parameters\n",
    "        clip:         value to help prevent exploding gradients\n",
    "\n",
    "    Returns:\n",
    "        loss for the epoch\n",
    "  \"\"\"\n",
    "\n",
    "  # set the model to training mode\n",
    "  model.train()\n",
    "    \n",
    "  epoch_loss = 0\n",
    "    \n",
    "  # loop through each batch in the iterator\n",
    "  for i, batch in enumerate(iterator):\n",
    "\n",
    "    # set the source and target batches    \n",
    "    src,trg = batch\n",
    "        \n",
    "    # zero the gradients\n",
    "    optimizer.zero_grad()\n",
    "        \n",
    "    # logits for each output\n",
    "    logits = model(src, trg[:,:-1])\n",
    "\n",
    "    # expected output\n",
    "    expected_output = trg[:,1:]\n",
    "  \n",
    "    # calculate the loss\n",
    "    loss = criterion(logits.contiguous().view(-1, logits.shape[-1]), \n",
    "                    expected_output.contiguous().view(-1))\n",
    "      \n",
    "    # backpropagation\n",
    "    loss.backward()\n",
    "        \n",
    "    # clip the weights\n",
    "    torch.nn.utils.clip_grad_norm_(model.parameters(), clip)\n",
    "        \n",
    "    # update the weights\n",
    "    optimizer.step()\n",
    "        \n",
    "    # update the loss\n",
    "    epoch_loss += loss.item()\n",
    "\n",
    "  # return the average loss for the epoch\n",
    "  return epoch_loss / len(iterator)\n"
   ]
  },
  {
   "cell_type": "code",
   "execution_count": 102,
   "metadata": {},
   "outputs": [],
   "source": [
    "def evaluate(model, iterator, criterion):\n",
    "  \"\"\"\n",
    "    Evaluate the model on the given data.\n",
    "\n",
    "    Args:\n",
    "        model:        Transformer model to be trained\n",
    "        iterator:     data to be evaluated\n",
    "        criterion:    loss function for assessing outputs\n",
    "\n",
    "    Returns:\n",
    "        loss for the data\n",
    "  \"\"\"\n",
    "\n",
    "  # set the model to evaluation mode\n",
    "  model.eval()\n",
    "    \n",
    "  epoch_loss = 0\n",
    "    \n",
    "  # evaluate without updating gradients\n",
    "  with torch.no_grad():\n",
    "    \n",
    "    # loop through each batch in the iterator\n",
    "    for i, batch in enumerate(iterator):\n",
    "      \n",
    "      # set the source and target batches  \n",
    "      src, trg = batch\n",
    "\n",
    "\n",
    "      # logits for each output\n",
    "      logits = model(src, trg[:,:-1])\n",
    "\n",
    "      # expected output\n",
    "      expected_output = trg[:,1:]\n",
    "    \n",
    "      # calculate the loss\n",
    "      loss = criterion(logits.contiguous().view(-1, logits.shape[-1]), \n",
    "                      expected_output.contiguous().view(-1))\n",
    "\n",
    "      # update the loss\n",
    "      epoch_loss += loss.item()\n",
    "        \n",
    "  # return the average loss for the epoch\n",
    "  return epoch_loss / len(iterator)"
   ]
  },
  {
   "cell_type": "code",
   "execution_count": 103,
   "metadata": {},
   "outputs": [],
   "source": [
    "def epoch_time(start_time, end_time):\n",
    "  elapsed_time = end_time - start_time\n",
    "  elapsed_mins = int(elapsed_time / 60)\n",
    "  elapsed_secs = int(elapsed_time - (elapsed_mins * 60))\n",
    "  return elapsed_mins, elapsed_secs"
   ]
  },
  {
   "cell_type": "code",
   "execution_count": 105,
   "metadata": {},
   "outputs": [
    {
     "name": "stdout",
     "output_type": "stream",
     "text": [
      "Epoch: 01 | Time: 2m 53s\n",
      "\tTrain Loss: 3.141 | Train PPL:  23.129\n",
      "\t Val. Loss: 2.658 |  Val. PPL:  14.268\n"
     ]
    }
   ],
   "source": [
    "N_EPOCHS = 1\n",
    "CLIP = 1\n",
    "\n",
    "best_valid_loss = float('inf')\n",
    "\n",
    "# loop through each epoch\n",
    "for epoch in range(N_EPOCHS):\n",
    "    \n",
    "  start_time = time.time()\n",
    "    \n",
    "  # calculate the train loss and update the parameters\n",
    "  train_loss = train(model, train_iter, optimizer, criterion, CLIP)\n",
    "\n",
    "  # calculate the loss on the validation set\n",
    "  valid_loss = evaluate(model, valid_iter, criterion)\n",
    "    \n",
    "  end_time = time.time()\n",
    "    \n",
    "  # calculate how long the epoch took\n",
    "  epoch_mins, epoch_secs = epoch_time(start_time, end_time)\n",
    "    \n",
    "  # save the model when it performs better than the previous run\n",
    "  if valid_loss < best_valid_loss:\n",
    "    best_valid_loss = valid_loss\n",
    "    torch.save(model.state_dict(), 'transformer-model.pt')\n",
    "    \n",
    "  print(f'Epoch: {epoch+1:02} | Time: {epoch_mins}m {epoch_secs}s')\n",
    "  print(f'\\tTrain Loss: {train_loss:.3f} | Train PPL: {math.exp(train_loss):7.3f}')\n",
    "  print(f'\\t Val. Loss: {valid_loss:.3f} |  Val. PPL: {math.exp(valid_loss):7.3f}')"
   ]
  },
  {
   "cell_type": "markdown",
   "metadata": {},
   "source": [
    "## Evaluation"
   ]
  },
  {
   "cell_type": "code",
   "execution_count": 106,
   "metadata": {},
   "outputs": [],
   "source": [
    "# # load the weights\n",
    "# model.load_state_dict(torch.load('transformer-model.pt'))\n",
    "\n",
    "# # calculate the loss on the test set\n",
    "# test_loss = evaluate(model, test_iter, criterion)\n",
    "\n",
    "# print(f'Test Loss: {test_loss:.3f} | Test PPL: {math.exp(test_loss):7.3f}')"
   ]
  },
  {
   "cell_type": "markdown",
   "metadata": {},
   "source": [
    "## Inference"
   ]
  },
  {
   "cell_type": "code",
   "execution_count": 107,
   "metadata": {},
   "outputs": [],
   "source": [
    "def translate_sentence(sentence, model, device, max_length = 50):\n",
    "  \"\"\"\n",
    "    Translate a German sentence to its English equivalent.\n",
    "\n",
    "    Args:\n",
    "        sentence:     German sentence to be translated to English; list or str\n",
    "        model:        Transformer model used for translation\n",
    "        device:       device to perform translation on\n",
    "        max_length:   maximum token length for translation\n",
    "\n",
    "    Returns:\n",
    "        src:                  return the tokenized input\n",
    "        trg_input:            return the input to the decoder before the final output \n",
    "        trg_output:           return the final translation, shifted right\n",
    "        attn_probs:           return the attention scores for the decoder heads\n",
    "        masked_attn_probs:    return the masked attention scores for the decoder heads\n",
    "  \"\"\"\n",
    "    \n",
    "  model.eval()\n",
    "\n",
    "  # tokenize and index the provided string\n",
    "  if isinstance(sentence, str):\n",
    "    src = ['<bos>'] + [token.text.lower() for token in spacy_de(sentence)] +  ['<eos>']\n",
    "  else:\n",
    "    src = ['<bos>'] + sentence + ['<eos>']\n",
    "\n",
    "  # convert to integers\n",
    "  src_indexes = [vocab_src[token] for token in src]\n",
    "  \n",
    "  # convert list to tensor\n",
    "  src_tensor = torch.tensor(src_indexes).int().unsqueeze(0).to(device)\n",
    "  \n",
    "  # set <bos> token for target generation\n",
    "  trg_indexes = [vocab_trg.get_stoi()['<bos>']]\n",
    "\n",
    "  # generate new tokens\n",
    "  for i in range(max_length):\n",
    "\n",
    "    # convert the list to a tensor\n",
    "    trg_tensor = torch.tensor(trg_indexes).int().unsqueeze(0).to(device)\n",
    "\n",
    "    # generate the next token \n",
    "    with torch.no_grad():\n",
    "\n",
    "      # generate the logits\n",
    "      logits = model.forward(src_tensor, trg_tensor)\n",
    "      \n",
    "      # select the newly predicted token\n",
    "      pred_token = logits.argmax(2)[:,-1].item()\n",
    "\n",
    "      # if <eos> token or max length, stop generating\n",
    "      if pred_token == vocab_trg.get_stoi()['<eos>'] or i == (max_length-1):\n",
    "\n",
    "        # decoder input\n",
    "        trg_input = vocab_trg.lookup_tokens(trg_indexes)\n",
    "\n",
    "        # decoder output\n",
    "        trg_output = vocab_trg.lookup_tokens(logits.argmax(2).squeeze(0).tolist())\n",
    "\n",
    "        return src, trg_input, trg_output, model.decoder.attn_probs, model.decoder.masked_attn_probs\n",
    "      \n",
    "      # else, continue generating\n",
    "      else:\n",
    "        # add the token\n",
    "        trg_indexes.append(pred_token)"
   ]
  },
  {
   "cell_type": "code",
   "execution_count": 112,
   "metadata": {},
   "outputs": [
    {
     "name": "stdout",
     "output_type": "stream",
     "text": [
      "source = ['<bos>', 'eine', 'mann', 'mit', 'einer', 'großen', 'regenschirm', 'geht', 'an', 'einem', 'tor', 'vorbei', '.', '<eos>']\n",
      "target input = ['<bos>', 'a', 'man', 'with', 'a', 'large', 'large', 'large', 'large', 'umbrella', '.']\n",
      "target output = ['a', 'man', 'with', 'a', 'large', 'large', 'large', 'large', 'umbrella', '.', '<eos>']\n"
     ]
    }
   ],
   "source": [
    "# 'a man with a large umbrella is walking by a gate'\n",
    "src = ['eine', 'mann', 'mit', 'einer', 'großen', 'regenschirm', 'geht', 'an', 'einem', 'tor', 'vorbei', '.']\n",
    "\n",
    "src, trg_input, trg_output, attn_probs, masked_attn_probs = translate_sentence(src, model, device)\n",
    "\n",
    "print(f'source = {src}')\n",
    "print(f'target input = {trg_input}')\n",
    "print(f'target output = {trg_output}')"
   ]
  }
 ],
 "metadata": {
  "kernelspec": {
   "display_name": "streamkernel",
   "language": "python",
   "name": "streamkernel"
  },
  "language_info": {
   "codemirror_mode": {
    "name": "ipython",
    "version": 3
   },
   "file_extension": ".py",
   "mimetype": "text/x-python",
   "name": "python",
   "nbconvert_exporter": "python",
   "pygments_lexer": "ipython3",
   "version": "3.10.6"
  },
  "orig_nbformat": 4
 },
 "nbformat": 4,
 "nbformat_minor": 2
}
