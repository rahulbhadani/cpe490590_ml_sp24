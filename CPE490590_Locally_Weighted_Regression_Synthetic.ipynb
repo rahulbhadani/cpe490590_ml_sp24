{
 "cells": [
  {
   "cell_type": "markdown",
   "metadata": {},
   "source": [
    "# Locally Weighted Regression using Synthetic Dataset\n",
    "## CPE 490 590 Spring 2024\n",
    "### Rahul Bhadani\n",
    "In this notebook we implement a locally weighted regression model"
   ]
  },
  {
   "cell_type": "code",
   "execution_count": 1,
   "metadata": {},
   "outputs": [
    {
     "data": {
      "text/html": [
       "<div class=\"bk-root\">\n",
       "        <a href=\"https://bokeh.org\" target=\"_blank\" class=\"bk-logo bk-logo-small bk-logo-notebook\"></a>\n",
       "        <span id=\"1002\">Loading BokehJS ...</span>\n",
       "    </div>\n"
      ]
     },
     "metadata": {},
     "output_type": "display_data"
    },
    {
     "data": {
      "application/javascript": [
       "(function(root) {\n",
       "  function now() {\n",
       "    return new Date();\n",
       "  }\n",
       "\n",
       "  const force = true;\n",
       "\n",
       "  if (typeof root._bokeh_onload_callbacks === \"undefined\" || force === true) {\n",
       "    root._bokeh_onload_callbacks = [];\n",
       "    root._bokeh_is_loading = undefined;\n",
       "  }\n",
       "\n",
       "const JS_MIME_TYPE = 'application/javascript';\n",
       "  const HTML_MIME_TYPE = 'text/html';\n",
       "  const EXEC_MIME_TYPE = 'application/vnd.bokehjs_exec.v0+json';\n",
       "  const CLASS_NAME = 'output_bokeh rendered_html';\n",
       "\n",
       "  /**\n",
       "   * Render data to the DOM node\n",
       "   */\n",
       "  function render(props, node) {\n",
       "    const script = document.createElement(\"script\");\n",
       "    node.appendChild(script);\n",
       "  }\n",
       "\n",
       "  /**\n",
       "   * Handle when an output is cleared or removed\n",
       "   */\n",
       "  function handleClearOutput(event, handle) {\n",
       "    const cell = handle.cell;\n",
       "\n",
       "    const id = cell.output_area._bokeh_element_id;\n",
       "    const server_id = cell.output_area._bokeh_server_id;\n",
       "    // Clean up Bokeh references\n",
       "    if (id != null && id in Bokeh.index) {\n",
       "      Bokeh.index[id].model.document.clear();\n",
       "      delete Bokeh.index[id];\n",
       "    }\n",
       "\n",
       "    if (server_id !== undefined) {\n",
       "      // Clean up Bokeh references\n",
       "      const cmd_clean = \"from bokeh.io.state import curstate; print(curstate().uuid_to_server['\" + server_id + \"'].get_sessions()[0].document.roots[0]._id)\";\n",
       "      cell.notebook.kernel.execute(cmd_clean, {\n",
       "        iopub: {\n",
       "          output: function(msg) {\n",
       "            const id = msg.content.text.trim();\n",
       "            if (id in Bokeh.index) {\n",
       "              Bokeh.index[id].model.document.clear();\n",
       "              delete Bokeh.index[id];\n",
       "            }\n",
       "          }\n",
       "        }\n",
       "      });\n",
       "      // Destroy server and session\n",
       "      const cmd_destroy = \"import bokeh.io.notebook as ion; ion.destroy_server('\" + server_id + \"')\";\n",
       "      cell.notebook.kernel.execute(cmd_destroy);\n",
       "    }\n",
       "  }\n",
       "\n",
       "  /**\n",
       "   * Handle when a new output is added\n",
       "   */\n",
       "  function handleAddOutput(event, handle) {\n",
       "    const output_area = handle.output_area;\n",
       "    const output = handle.output;\n",
       "\n",
       "    // limit handleAddOutput to display_data with EXEC_MIME_TYPE content only\n",
       "    if ((output.output_type != \"display_data\") || (!Object.prototype.hasOwnProperty.call(output.data, EXEC_MIME_TYPE))) {\n",
       "      return\n",
       "    }\n",
       "\n",
       "    const toinsert = output_area.element.find(\".\" + CLASS_NAME.split(' ')[0]);\n",
       "\n",
       "    if (output.metadata[EXEC_MIME_TYPE][\"id\"] !== undefined) {\n",
       "      toinsert[toinsert.length - 1].firstChild.textContent = output.data[JS_MIME_TYPE];\n",
       "      // store reference to embed id on output_area\n",
       "      output_area._bokeh_element_id = output.metadata[EXEC_MIME_TYPE][\"id\"];\n",
       "    }\n",
       "    if (output.metadata[EXEC_MIME_TYPE][\"server_id\"] !== undefined) {\n",
       "      const bk_div = document.createElement(\"div\");\n",
       "      bk_div.innerHTML = output.data[HTML_MIME_TYPE];\n",
       "      const script_attrs = bk_div.children[0].attributes;\n",
       "      for (let i = 0; i < script_attrs.length; i++) {\n",
       "        toinsert[toinsert.length - 1].firstChild.setAttribute(script_attrs[i].name, script_attrs[i].value);\n",
       "        toinsert[toinsert.length - 1].firstChild.textContent = bk_div.children[0].textContent\n",
       "      }\n",
       "      // store reference to server id on output_area\n",
       "      output_area._bokeh_server_id = output.metadata[EXEC_MIME_TYPE][\"server_id\"];\n",
       "    }\n",
       "  }\n",
       "\n",
       "  function register_renderer(events, OutputArea) {\n",
       "\n",
       "    function append_mime(data, metadata, element) {\n",
       "      // create a DOM node to render to\n",
       "      const toinsert = this.create_output_subarea(\n",
       "        metadata,\n",
       "        CLASS_NAME,\n",
       "        EXEC_MIME_TYPE\n",
       "      );\n",
       "      this.keyboard_manager.register_events(toinsert);\n",
       "      // Render to node\n",
       "      const props = {data: data, metadata: metadata[EXEC_MIME_TYPE]};\n",
       "      render(props, toinsert[toinsert.length - 1]);\n",
       "      element.append(toinsert);\n",
       "      return toinsert\n",
       "    }\n",
       "\n",
       "    /* Handle when an output is cleared or removed */\n",
       "    events.on('clear_output.CodeCell', handleClearOutput);\n",
       "    events.on('delete.Cell', handleClearOutput);\n",
       "\n",
       "    /* Handle when a new output is added */\n",
       "    events.on('output_added.OutputArea', handleAddOutput);\n",
       "\n",
       "    /**\n",
       "     * Register the mime type and append_mime function with output_area\n",
       "     */\n",
       "    OutputArea.prototype.register_mime_type(EXEC_MIME_TYPE, append_mime, {\n",
       "      /* Is output safe? */\n",
       "      safe: true,\n",
       "      /* Index of renderer in `output_area.display_order` */\n",
       "      index: 0\n",
       "    });\n",
       "  }\n",
       "\n",
       "  // register the mime type if in Jupyter Notebook environment and previously unregistered\n",
       "  if (root.Jupyter !== undefined) {\n",
       "    const events = require('base/js/events');\n",
       "    const OutputArea = require('notebook/js/outputarea').OutputArea;\n",
       "\n",
       "    if (OutputArea.prototype.mime_types().indexOf(EXEC_MIME_TYPE) == -1) {\n",
       "      register_renderer(events, OutputArea);\n",
       "    }\n",
       "  }\n",
       "  if (typeof (root._bokeh_timeout) === \"undefined\" || force === true) {\n",
       "    root._bokeh_timeout = Date.now() + 5000;\n",
       "    root._bokeh_failed_load = false;\n",
       "  }\n",
       "\n",
       "  const NB_LOAD_WARNING = {'data': {'text/html':\n",
       "     \"<div style='background-color: #fdd'>\\n\"+\n",
       "     \"<p>\\n\"+\n",
       "     \"BokehJS does not appear to have successfully loaded. If loading BokehJS from CDN, this \\n\"+\n",
       "     \"may be due to a slow or bad network connection. Possible fixes:\\n\"+\n",
       "     \"</p>\\n\"+\n",
       "     \"<ul>\\n\"+\n",
       "     \"<li>re-rerun `output_notebook()` to attempt to load from CDN again, or</li>\\n\"+\n",
       "     \"<li>use INLINE resources instead, as so:</li>\\n\"+\n",
       "     \"</ul>\\n\"+\n",
       "     \"<code>\\n\"+\n",
       "     \"from bokeh.resources import INLINE\\n\"+\n",
       "     \"output_notebook(resources=INLINE)\\n\"+\n",
       "     \"</code>\\n\"+\n",
       "     \"</div>\"}};\n",
       "\n",
       "  function display_loaded() {\n",
       "    const el = document.getElementById(\"1002\");\n",
       "    if (el != null) {\n",
       "      el.textContent = \"BokehJS is loading...\";\n",
       "    }\n",
       "    if (root.Bokeh !== undefined) {\n",
       "      if (el != null) {\n",
       "        el.textContent = \"BokehJS \" + root.Bokeh.version + \" successfully loaded.\";\n",
       "      }\n",
       "    } else if (Date.now() < root._bokeh_timeout) {\n",
       "      setTimeout(display_loaded, 100)\n",
       "    }\n",
       "  }\n",
       "\n",
       "  function run_callbacks() {\n",
       "    try {\n",
       "      root._bokeh_onload_callbacks.forEach(function(callback) {\n",
       "        if (callback != null)\n",
       "          callback();\n",
       "      });\n",
       "    } finally {\n",
       "      delete root._bokeh_onload_callbacks\n",
       "    }\n",
       "    console.debug(\"Bokeh: all callbacks have finished\");\n",
       "  }\n",
       "\n",
       "  function load_libs(css_urls, js_urls, callback) {\n",
       "    if (css_urls == null) css_urls = [];\n",
       "    if (js_urls == null) js_urls = [];\n",
       "\n",
       "    root._bokeh_onload_callbacks.push(callback);\n",
       "    if (root._bokeh_is_loading > 0) {\n",
       "      console.debug(\"Bokeh: BokehJS is being loaded, scheduling callback at\", now());\n",
       "      return null;\n",
       "    }\n",
       "    if (js_urls == null || js_urls.length === 0) {\n",
       "      run_callbacks();\n",
       "      return null;\n",
       "    }\n",
       "    console.debug(\"Bokeh: BokehJS not loaded, scheduling load and callback at\", now());\n",
       "    root._bokeh_is_loading = css_urls.length + js_urls.length;\n",
       "\n",
       "    function on_load() {\n",
       "      root._bokeh_is_loading--;\n",
       "      if (root._bokeh_is_loading === 0) {\n",
       "        console.debug(\"Bokeh: all BokehJS libraries/stylesheets loaded\");\n",
       "        run_callbacks()\n",
       "      }\n",
       "    }\n",
       "\n",
       "    function on_error(url) {\n",
       "      console.error(\"failed to load \" + url);\n",
       "    }\n",
       "\n",
       "    for (let i = 0; i < css_urls.length; i++) {\n",
       "      const url = css_urls[i];\n",
       "      const element = document.createElement(\"link\");\n",
       "      element.onload = on_load;\n",
       "      element.onerror = on_error.bind(null, url);\n",
       "      element.rel = \"stylesheet\";\n",
       "      element.type = \"text/css\";\n",
       "      element.href = url;\n",
       "      console.debug(\"Bokeh: injecting link tag for BokehJS stylesheet: \", url);\n",
       "      document.body.appendChild(element);\n",
       "    }\n",
       "\n",
       "    for (let i = 0; i < js_urls.length; i++) {\n",
       "      const url = js_urls[i];\n",
       "      const element = document.createElement('script');\n",
       "      element.onload = on_load;\n",
       "      element.onerror = on_error.bind(null, url);\n",
       "      element.async = false;\n",
       "      element.src = url;\n",
       "      console.debug(\"Bokeh: injecting script tag for BokehJS library: \", url);\n",
       "      document.head.appendChild(element);\n",
       "    }\n",
       "  };\n",
       "\n",
       "  function inject_raw_css(css) {\n",
       "    const element = document.createElement(\"style\");\n",
       "    element.appendChild(document.createTextNode(css));\n",
       "    document.body.appendChild(element);\n",
       "  }\n",
       "\n",
       "  const js_urls = [\"https://cdn.bokeh.org/bokeh/release/bokeh-2.4.3.min.js\", \"https://cdn.bokeh.org/bokeh/release/bokeh-gl-2.4.3.min.js\", \"https://cdn.bokeh.org/bokeh/release/bokeh-widgets-2.4.3.min.js\", \"https://cdn.bokeh.org/bokeh/release/bokeh-tables-2.4.3.min.js\", \"https://cdn.bokeh.org/bokeh/release/bokeh-mathjax-2.4.3.min.js\"];\n",
       "  const css_urls = [];\n",
       "\n",
       "  const inline_js = [    function(Bokeh) {\n",
       "      Bokeh.set_log_level(\"info\");\n",
       "    },\n",
       "function(Bokeh) {\n",
       "    }\n",
       "  ];\n",
       "\n",
       "  function run_inline_js() {\n",
       "    if (root.Bokeh !== undefined || force === true) {\n",
       "          for (let i = 0; i < inline_js.length; i++) {\n",
       "      inline_js[i].call(root, root.Bokeh);\n",
       "    }\n",
       "if (force === true) {\n",
       "        display_loaded();\n",
       "      }} else if (Date.now() < root._bokeh_timeout) {\n",
       "      setTimeout(run_inline_js, 100);\n",
       "    } else if (!root._bokeh_failed_load) {\n",
       "      console.log(\"Bokeh: BokehJS failed to load within specified timeout.\");\n",
       "      root._bokeh_failed_load = true;\n",
       "    } else if (force !== true) {\n",
       "      const cell = $(document.getElementById(\"1002\")).parents('.cell').data().cell;\n",
       "      cell.output_area.append_execute_result(NB_LOAD_WARNING)\n",
       "    }\n",
       "  }\n",
       "\n",
       "  if (root._bokeh_is_loading === 0) {\n",
       "    console.debug(\"Bokeh: BokehJS loaded, going straight to plotting\");\n",
       "    run_inline_js();\n",
       "  } else {\n",
       "    load_libs(css_urls, js_urls, function() {\n",
       "      console.debug(\"Bokeh: BokehJS plotting callback run at\", now());\n",
       "      run_inline_js();\n",
       "    });\n",
       "  }\n",
       "}(window));"
      ],
      "application/vnd.bokehjs_load.v0+json": "(function(root) {\n  function now() {\n    return new Date();\n  }\n\n  const force = true;\n\n  if (typeof root._bokeh_onload_callbacks === \"undefined\" || force === true) {\n    root._bokeh_onload_callbacks = [];\n    root._bokeh_is_loading = undefined;\n  }\n\n\n  if (typeof (root._bokeh_timeout) === \"undefined\" || force === true) {\n    root._bokeh_timeout = Date.now() + 5000;\n    root._bokeh_failed_load = false;\n  }\n\n  const NB_LOAD_WARNING = {'data': {'text/html':\n     \"<div style='background-color: #fdd'>\\n\"+\n     \"<p>\\n\"+\n     \"BokehJS does not appear to have successfully loaded. If loading BokehJS from CDN, this \\n\"+\n     \"may be due to a slow or bad network connection. Possible fixes:\\n\"+\n     \"</p>\\n\"+\n     \"<ul>\\n\"+\n     \"<li>re-rerun `output_notebook()` to attempt to load from CDN again, or</li>\\n\"+\n     \"<li>use INLINE resources instead, as so:</li>\\n\"+\n     \"</ul>\\n\"+\n     \"<code>\\n\"+\n     \"from bokeh.resources import INLINE\\n\"+\n     \"output_notebook(resources=INLINE)\\n\"+\n     \"</code>\\n\"+\n     \"</div>\"}};\n\n  function display_loaded() {\n    const el = document.getElementById(\"1002\");\n    if (el != null) {\n      el.textContent = \"BokehJS is loading...\";\n    }\n    if (root.Bokeh !== undefined) {\n      if (el != null) {\n        el.textContent = \"BokehJS \" + root.Bokeh.version + \" successfully loaded.\";\n      }\n    } else if (Date.now() < root._bokeh_timeout) {\n      setTimeout(display_loaded, 100)\n    }\n  }\n\n  function run_callbacks() {\n    try {\n      root._bokeh_onload_callbacks.forEach(function(callback) {\n        if (callback != null)\n          callback();\n      });\n    } finally {\n      delete root._bokeh_onload_callbacks\n    }\n    console.debug(\"Bokeh: all callbacks have finished\");\n  }\n\n  function load_libs(css_urls, js_urls, callback) {\n    if (css_urls == null) css_urls = [];\n    if (js_urls == null) js_urls = [];\n\n    root._bokeh_onload_callbacks.push(callback);\n    if (root._bokeh_is_loading > 0) {\n      console.debug(\"Bokeh: BokehJS is being loaded, scheduling callback at\", now());\n      return null;\n    }\n    if (js_urls == null || js_urls.length === 0) {\n      run_callbacks();\n      return null;\n    }\n    console.debug(\"Bokeh: BokehJS not loaded, scheduling load and callback at\", now());\n    root._bokeh_is_loading = css_urls.length + js_urls.length;\n\n    function on_load() {\n      root._bokeh_is_loading--;\n      if (root._bokeh_is_loading === 0) {\n        console.debug(\"Bokeh: all BokehJS libraries/stylesheets loaded\");\n        run_callbacks()\n      }\n    }\n\n    function on_error(url) {\n      console.error(\"failed to load \" + url);\n    }\n\n    for (let i = 0; i < css_urls.length; i++) {\n      const url = css_urls[i];\n      const element = document.createElement(\"link\");\n      element.onload = on_load;\n      element.onerror = on_error.bind(null, url);\n      element.rel = \"stylesheet\";\n      element.type = \"text/css\";\n      element.href = url;\n      console.debug(\"Bokeh: injecting link tag for BokehJS stylesheet: \", url);\n      document.body.appendChild(element);\n    }\n\n    for (let i = 0; i < js_urls.length; i++) {\n      const url = js_urls[i];\n      const element = document.createElement('script');\n      element.onload = on_load;\n      element.onerror = on_error.bind(null, url);\n      element.async = false;\n      element.src = url;\n      console.debug(\"Bokeh: injecting script tag for BokehJS library: \", url);\n      document.head.appendChild(element);\n    }\n  };\n\n  function inject_raw_css(css) {\n    const element = document.createElement(\"style\");\n    element.appendChild(document.createTextNode(css));\n    document.body.appendChild(element);\n  }\n\n  const js_urls = [\"https://cdn.bokeh.org/bokeh/release/bokeh-2.4.3.min.js\", \"https://cdn.bokeh.org/bokeh/release/bokeh-gl-2.4.3.min.js\", \"https://cdn.bokeh.org/bokeh/release/bokeh-widgets-2.4.3.min.js\", \"https://cdn.bokeh.org/bokeh/release/bokeh-tables-2.4.3.min.js\", \"https://cdn.bokeh.org/bokeh/release/bokeh-mathjax-2.4.3.min.js\"];\n  const css_urls = [];\n\n  const inline_js = [    function(Bokeh) {\n      Bokeh.set_log_level(\"info\");\n    },\nfunction(Bokeh) {\n    }\n  ];\n\n  function run_inline_js() {\n    if (root.Bokeh !== undefined || force === true) {\n          for (let i = 0; i < inline_js.length; i++) {\n      inline_js[i].call(root, root.Bokeh);\n    }\nif (force === true) {\n        display_loaded();\n      }} else if (Date.now() < root._bokeh_timeout) {\n      setTimeout(run_inline_js, 100);\n    } else if (!root._bokeh_failed_load) {\n      console.log(\"Bokeh: BokehJS failed to load within specified timeout.\");\n      root._bokeh_failed_load = true;\n    } else if (force !== true) {\n      const cell = $(document.getElementById(\"1002\")).parents('.cell').data().cell;\n      cell.output_area.append_execute_result(NB_LOAD_WARNING)\n    }\n  }\n\n  if (root._bokeh_is_loading === 0) {\n    console.debug(\"Bokeh: BokehJS loaded, going straight to plotting\");\n    run_inline_js();\n  } else {\n    load_libs(css_urls, js_urls, function() {\n      console.debug(\"Bokeh: BokehJS plotting callback run at\", now());\n      run_inline_js();\n    });\n  }\n}(window));"
     },
     "metadata": {},
     "output_type": "display_data"
    }
   ],
   "source": [
    "import numpy as np\n",
    "from ipywidgets import interact\n",
    "from bokeh.plotting import figure, show, output_notebook\n",
    "from bokeh.layouts import gridplot\n",
    "from bokeh.io import push_notebook\n",
    "import matplotlib.pyplot as plt\n",
    "output_notebook()"
   ]
  },
  {
   "cell_type": "markdown",
   "metadata": {},
   "source": [
    "# Define Kernel Function\n",
    "The radial kernel (Radial Basis Function (RBF)) is a Gaussian function, a popular measure of similarity between two data points, and it decreases with the distance ranging from $0$ to $1$.\n",
    "$1$ means two points are identical.\n",
    "\n",
    "RBF between two points $x$ and $x'$ is defined as\n",
    "\n",
    "$$\n",
    "\\kappa(x, x') = \\exp\\bigg( -\\cfrac{||x-x'||^2}{2\\tau^2} \\bigg)\n",
    "$$\\\n",
    "where $\\tau$ is the bandwidth of the kernel function."
   ]
  },
  {
   "cell_type": "code",
   "execution_count": 2,
   "metadata": {},
   "outputs": [],
   "source": [
    "def radial_kernel(x0, X, tau):\n",
    "    return np.exp(np.sum((X - x0) ** 2, axis=1) / (-2 * tau * tau))"
   ]
  },
  {
   "cell_type": "markdown",
   "metadata": {},
   "source": [
    "# Define the Local Regression Model"
   ]
  },
  {
   "cell_type": "code",
   "execution_count": 3,
   "metadata": {},
   "outputs": [],
   "source": [
    "def local_regression(x0, x, y, tau):\n",
    "    # add bias term\n",
    "    x0 = np.r_[1, x0] # r_ concatenates  along the first axis. In the context of NumPy, the first axis (axis 0) runs vertically downward along the rows\n",
    "    x = np.c_[np.ones(len(x)), x] # concatenates along the second axis. In NumPy, the second axis (axis 1) runs horizontally across the columns\n",
    "    \n",
    "    # fit model: normal equations with kernel\n",
    "    xw = x.T * radial_kernel(x0, x, tau)\n",
    "    beta = np.linalg.pinv(xw @ x) @ xw @ y\n",
    "    \n",
    "    # predict value\n",
    "    return x0 @ beta"
   ]
  },
  {
   "cell_type": "markdown",
   "metadata": {},
   "source": [
    "#  Let's generate some dataset"
   ]
  },
  {
   "cell_type": "code",
   "execution_count": 4,
   "metadata": {},
   "outputs": [],
   "source": [
    "n = 100\n",
    "\n",
    "# generate dataset\n",
    "x = np.linspace(-3, 3, num=n)\n",
    "y = np.log(np.abs(x ** 2 - 1) + .5)\n",
    "\n",
    "# jitter x\n",
    "x += np.random.normal(scale=.1, size=n)"
   ]
  },
  {
   "cell_type": "markdown",
   "metadata": {},
   "source": [
    "# Plot the dataset"
   ]
  },
  {
   "cell_type": "code",
   "execution_count": 6,
   "metadata": {},
   "outputs": [
    {
     "data": {
      "text/plain": [
       "Text(0, 0.5, 'y')"
      ]
     },
     "execution_count": 6,
     "metadata": {},
     "output_type": "execute_result"
    },
    {
     "data": {
      "image/png": "[encoded data removed]",
      "text/plain": [
       "<Figure size 640x480 with 1 Axes>"
      ]
     },
     "metadata": {},
     "output_type": "display_data"
    }
   ],
   "source": [
    "plt.scatter(x,y, s= 5)\n",
    "plt.xlabel('x')\n",
    "plt.ylabel('y')"
   ]
  },
  {
   "cell_type": "markdown",
   "metadata": {},
   "source": [
    "# Fit & Plot models"
   ]
  },
  {
   "cell_type": "code",
   "execution_count": 7,
   "metadata": {},
   "outputs": [],
   "source": [
    "def plot_lwr(tau):\n",
    "    # prediction\n",
    "    domain = np.linspace(-3, 3, num=300)\n",
    "    prediction = [local_regression(x0, x, y, tau) for x0 in domain]\n",
    "\n",
    "    plot = figure(width=400, height=400)  # Change this line\n",
    "    plot.title.text = 'tau=%g' % tau\n",
    "    plot.scatter(x, y, alpha=.3)\n",
    "    plot.line(domain, prediction, line_width=2, color='red')\n",
    "    \n",
    "    return plot\n"
   ]
  },
  {
   "cell_type": "code",
   "execution_count": 8,
   "metadata": {},
   "outputs": [
    {
     "data": {
      "text/html": [
       "\n",
       "  <div class=\"bk-root\" id=\"988cc8af-d20b-4cb3-8fe2-3cded99b0dac\" data-root-id=\"1238\"></div>\n"
      ]
     },
     "metadata": {},
     "output_type": "display_data"
    },
    {
     "data": {
      "application/javascript": [
       "(function(root) {\n",
       "  function embed_document(root) {\n",
       "  const docs_json = {\"0da6fa74-759d-4b36-a0e2-0c475b9e52f3\":{\"defs\":[],\"roots\":{\"references\":[{\"attributes\":{\"children\":[{\"id\":\"1237\"},{\"id\":\"1235\"}]},\"id\":\"1238\",\"type\":\"Column\"},{\"attributes\":{},\"id\":\"1092\",\"type\":\"DataRange1d\"},{\"attributes\":{\"coordinates\":null,\"group\":null,\"text\":\"tau=0.1\"},\"id\":\"1122\",\"type\":\"Title\"},{\"attributes\":{\"coordinates\":null,\"formatter\":{\"id\":\"1213\"},\"group\":null,\"major_label_policy\":{\"id\":\"1214\"},\"ticker\":{\"id\":\"1101\"}},\"id\":\"1100\",\"type\":\"LinearAxis\"},{\"attributes\":{},\"id\":\"1096\",\"type\":\"LinearScale\"},{\"attributes\":{\"coordinates\":null,\"formatter\":{\"id\":\"1210\"},\"group\":null,\"major_label_policy\":{\"id\":\"1211\"},\"ticker\":{\"id\":\"1105\"}},\"id\":\"1104\",\"type\":\"LinearAxis\"},{\"attributes\":{},\"id\":\"1013\",\"type\":\"BasicTicker\"},{\"attributes\":{},\"id\":\"1094\",\"type\":\"DataRange1d\"},{\"attributes\":{\"data\":{\"x\":{\"__ndarray__\":\"PK0qPAiiB8DBmkzd/9AIwLloOZlcVwXAilpfj7wRBsBF+SkLHAEHwEEibzT87wTAy6SRMSqJBcDNqje7GT0DwJGlsikbjgPAWP9LEAtHAsDPXxo9yMcDwOvvDmuuGgPAka/aypzkAcDIs7j24osBwC3U8efoZgHATxCSUh91AcDK1Y6RycEBwOTdNyCQpADAfxZyuB0eAMDcC/jNjoT+v+2qnJmypf2/2pehzAZj/L8jyAlKB/H5v2lVb/4GEfu/zo3/ZLQa+L/YZUkC9Pn3vyPntaOih/e/vZIGGkqh8r8+zN6MG6zyv7rSjYlqu/O/QTKvGM2x8r8A8kBULcDzvyVSVLdeGu6/pKyD9imV7b8/ZUKueRPuv2bPpr3gG+q/aTD+uxth6b8N9xyDV/rpvxSB8ijnD+a/OZdWysWA578NOciBWozov0JGa0uNvOG/1YBHQlPd4b/VvQZRarvJv/ixYgpfdNS/pXz9EQEd0b/5kd1CAobLvxjhmC6Jwby/rDOTeePhub9wQTDY9qOeP4YEcvP61KA/QBJB41qzqb+EkMPWMH7UP7iYFMr0eLc/h0RmCvdc0T88Ewx8svvUP1MjMBHmqdc/XeT1k7V00j8S5cDcWLvZP0q5l4rsquQ/Ejz0Ptj54z+f2PzMrxbkP10y/GaxguY/dJTOkJuK7j9H4AX4MJvrPwRWwKOqU/I/9NGtUjK/6z8N8m52qxfwP3Ec0yHaEvE/QxvAnNzN8T+ExIHVy3PzPzuZT1huEvQ/V/5cDIsK9T+zZpqngoz0P959lZTduvo/s8uIwARy9j8cljAtsdH3P5AmKP7zAfo/QRbtEtrt+z891NWjWn/8P/SAGobx+v0/DS7aqgTw/T/qNhUaHaAAQAsWVdMlSQBASb59QZ1MAECZonY+LYQBQIRu/GqbAAJAerrgy2cVAkC4TphoN4kBQCM4obbOhQJAKobjSsz4A0C3Q5TW/oACQCB7O2oy7wRANC985Yb1BUAijkm2cukEQCggxnawOAZApMAv4At5BkAnnFm8S70GQFpJrzq7UAhA9UxTsjL3B0A=\",\"dtype\":\"float64\",\"order\":\"little\",\"shape\":[100]},\"y\":{\"__ndarray__\":\"/vA7AtseAUCQdrJLPMYAQOeYsiKKawBAEVHMs6kOAEB77BUA/F7/P7P1CzvPm/4/CMnc3IjT/T+eSJ6Z3gX9P/XOm1F/Mvw/GSNqLRJZ+z9cqMqSNXn6P8sI4+l9kvk/lukRKHSk+D+VU7gSlK73P3fOZyhKsPY/Sp+nGfGo9T+qdmazzpf0P9HRZhMQfPM/EX1V8cRU8j/Hw/iz2SDxP/KMftwfvu8/FM4Rb+kb7T8ba4wsqFfqP+pIpbBQbec/ruLTSgdY5D/5TRlm4hHhPyQ6LhwoJ9s/dAZpv9qn0z+3MxDolhzHP8Y5ZNPs26U/15FU4hHqu7+jRSetps7Rv6HxBnqMF96/7zn6/kIu5r+yEB0aTdnev2BSrqw0V9S/PJNl8dDCx7/HwHUl46izvztP4be18Yw/NsaAqyY+tz8FyllzwO7DPwpMM8JC+so/HLT6kAl30D8Tk9uE0/XSP2rdD+w1BtU/3/cPQ+Cx1j9YwQT8JQDYP/Edw6hz9tg/Lkpj6p6Y2T/fzpV1G+nZP9/OlXUb6dk/Lkpj6p6Y2T/xHcOoc/bYP1PBBPwlANg/3/cPQ+Cx1j9n3Q/sNQbVPxOT24TT9dI/HLT6kAl30D8KTDPCQvrKPwXKWXPA7sM/CsaAqyY+tz8/TuG3tfGMP/vAdSXjqLO/PJNl8dDCx79gUq6sNFfUv7IQHRpN2d6/7zn6/kIu5r+h8QZ6jBfev6NFJ62mztG/15FU4hHqu79qOWTT7NulP6MzEOiWHMc/awZpv9qn0z80Oi4cKCfbPwBOGWbiEeE/tOLTSgdY5D/wSKWwUG3nPyBrjCyoV+o/F84Rb+kb7T/0jH7cH77vP8nD+LPZIPE/EX1V8cRU8j/R0WYTEHzzP6p2ZrPOl/Q/Sp+nGfGo9T93zmcoSrD2P5VTuBKUrvc/lukRKHSk+D/PCOPpfZL5P12oypI1efo/GyNqLRJZ+z/3zptRfzL8P59InpneBf0/Ccnc3IjT/T+19Qs7z5v+P3vsFQD8Xv8/EVHMs6kOAEDnmLIiimsAQJB2sks8xgBA/vA7AtseAUA=\",\"dtype\":\"float64\",\"order\":\"little\",\"shape\":[100]}},\"selected\":{\"id\":\"1188\"},\"selection_policy\":{\"id\":\"1187\"}},\"id\":\"1035\",\"type\":\"ColumnDataSource\"},{\"attributes\":{},\"id\":\"1098\",\"type\":\"LinearScale\"},{\"attributes\":{},\"id\":\"1113\",\"type\":\"HelpTool\"},{\"attributes\":{\"coordinates\":null,\"formatter\":{\"id\":\"1185\"},\"group\":null,\"major_label_policy\":{\"id\":\"1186\"},\"ticker\":{\"id\":\"1013\"}},\"id\":\"1012\",\"type\":\"LinearAxis\"},{\"attributes\":{\"fill_alpha\":{\"value\":0.3},\"fill_color\":{\"value\":\"#1f77b4\"},\"hatch_alpha\":{\"value\":0.3},\"line_alpha\":{\"value\":0.3},\"line_color\":{\"value\":\"#1f77b4\"},\"x\":{\"field\":\"x\"},\"y\":{\"field\":\"y\"}},\"id\":\"1036\",\"type\":\"Scatter\"},{\"attributes\":{},\"id\":\"1101\",\"type\":\"BasicTicker\"},{\"attributes\":{\"axis\":{\"id\":\"1100\"},\"coordinates\":null,\"group\":null,\"ticker\":null},\"id\":\"1103\",\"type\":\"Grid\"},{\"attributes\":{},\"id\":\"1020\",\"type\":\"PanTool\"},{\"attributes\":{\"axis\":{\"id\":\"1104\"},\"coordinates\":null,\"dimension\":1,\"group\":null,\"ticker\":null},\"id\":\"1107\",\"type\":\"Grid\"},{\"attributes\":{},\"id\":\"1006\",\"type\":\"DataRange1d\"},{\"attributes\":{},\"id\":\"1105\",\"type\":\"BasicTicker\"},{\"attributes\":{\"line_color\":\"red\",\"line_width\":2,\"x\":{\"field\":\"x\"},\"y\":{\"field\":\"y\"}},\"id\":\"1130\",\"type\":\"Line\"},{\"attributes\":{},\"id\":\"1109\",\"type\":\"WheelZoomTool\"},{\"attributes\":{},\"id\":\"1210\",\"type\":\"BasicTickFormatter\"},{\"attributes\":{},\"id\":\"1203\",\"type\":\"UnionRenderers\"},{\"attributes\":{},\"id\":\"1108\",\"type\":\"PanTool\"},{\"attributes\":{\"coordinates\":null,\"group\":null,\"text\":\"tau=10\"},\"id\":\"1034\",\"type\":\"Title\"},{\"attributes\":{\"axis\":{\"id\":\"1012\"},\"coordinates\":null,\"group\":null,\"ticker\":null},\"id\":\"1015\",\"type\":\"Grid\"},{\"attributes\":{\"overlay\":{\"id\":\"1114\"}},\"id\":\"1110\",\"type\":\"BoxZoomTool\"},{\"attributes\":{},\"id\":\"1204\",\"type\":\"Selection\"},{\"attributes\":{},\"id\":\"1111\",\"type\":\"SaveTool\"},{\"attributes\":{\"coordinates\":null,\"data_source\":{\"id\":\"1035\"},\"glyph\":{\"id\":\"1036\"},\"group\":null,\"hover_glyph\":null,\"muted_glyph\":{\"id\":\"1038\"},\"nonselection_glyph\":{\"id\":\"1037\"},\"view\":{\"id\":\"1040\"}},\"id\":\"1039\",\"type\":\"GlyphRenderer\"},{\"attributes\":{},\"id\":\"1211\",\"type\":\"AllLabels\"},{\"attributes\":{},\"id\":\"1112\",\"type\":\"ResetTool\"},{\"attributes\":{},\"id\":\"1213\",\"type\":\"BasicTickFormatter\"},{\"attributes\":{\"bottom_units\":\"screen\",\"coordinates\":null,\"fill_alpha\":0.5,\"fill_color\":\"lightgrey\",\"group\":null,\"left_units\":\"screen\",\"level\":\"overlay\",\"line_alpha\":1.0,\"line_color\":\"black\",\"line_dash\":[4,4],\"line_width\":2,\"right_units\":\"screen\",\"syncable\":false,\"top_units\":\"screen\"},\"id\":\"1114\",\"type\":\"BoxAnnotation\"},{\"attributes\":{\"source\":{\"id\":\"1123\"}},\"id\":\"1128\",\"type\":\"CDSView\"},{\"attributes\":{},\"id\":\"1214\",\"type\":\"AllLabels\"},{\"attributes\":{\"coordinates\":null,\"data_source\":{\"id\":\"1129\"},\"glyph\":{\"id\":\"1130\"},\"group\":null,\"hover_glyph\":null,\"muted_glyph\":{\"id\":\"1132\"},\"nonselection_glyph\":{\"id\":\"1131\"},\"view\":{\"id\":\"1134\"}},\"id\":\"1133\",\"type\":\"GlyphRenderer\"},{\"attributes\":{\"axis\":{\"id\":\"1148\"},\"coordinates\":null,\"dimension\":1,\"group\":null,\"ticker\":null},\"id\":\"1151\",\"type\":\"Grid\"},{\"attributes\":{\"source\":{\"id\":\"1035\"}},\"id\":\"1040\",\"type\":\"CDSView\"},{\"attributes\":{\"fill_alpha\":{\"value\":0.2},\"fill_color\":{\"value\":\"#1f77b4\"},\"hatch_alpha\":{\"value\":0.2},\"line_alpha\":{\"value\":0.2},\"line_color\":{\"value\":\"#1f77b4\"},\"x\":{\"field\":\"x\"},\"y\":{\"field\":\"y\"}},\"id\":\"1038\",\"type\":\"Scatter\"},{\"attributes\":{\"coordinates\":null,\"formatter\":{\"id\":\"1227\"},\"group\":null,\"major_label_policy\":{\"id\":\"1228\"},\"ticker\":{\"id\":\"1145\"}},\"id\":\"1144\",\"type\":\"LinearAxis\"},{\"attributes\":{},\"id\":\"1215\",\"type\":\"UnionRenderers\"},{\"attributes\":{},\"id\":\"1136\",\"type\":\"DataRange1d\"},{\"attributes\":{\"axis\":{\"id\":\"1016\"},\"coordinates\":null,\"dimension\":1,\"group\":null,\"ticker\":null},\"id\":\"1019\",\"type\":\"Grid\"},{\"attributes\":{},\"id\":\"1008\",\"type\":\"LinearScale\"},{\"attributes\":{},\"id\":\"1216\",\"type\":\"Selection\"},{\"attributes\":{\"coordinates\":null,\"formatter\":{\"id\":\"1224\"},\"group\":null,\"major_label_policy\":{\"id\":\"1225\"},\"ticker\":{\"id\":\"1149\"}},\"id\":\"1148\",\"type\":\"LinearAxis\"},{\"attributes\":{\"tools\":[{\"id\":\"1108\"},{\"id\":\"1109\"},{\"id\":\"1110\"},{\"id\":\"1111\"},{\"id\":\"1112\"},{\"id\":\"1113\"}]},\"id\":\"1115\",\"type\":\"Toolbar\"},{\"attributes\":{},\"id\":\"1138\",\"type\":\"DataRange1d\"},{\"attributes\":{},\"id\":\"1140\",\"type\":\"LinearScale\"},{\"attributes\":{},\"id\":\"1142\",\"type\":\"LinearScale\"},{\"attributes\":{},\"id\":\"1017\",\"type\":\"BasicTicker\"},{\"attributes\":{\"fill_alpha\":{\"value\":0.3},\"fill_color\":{\"value\":\"#1f77b4\"},\"hatch_alpha\":{\"value\":0.3},\"line_alpha\":{\"value\":0.3},\"line_color\":{\"value\":\"#1f77b4\"},\"x\":{\"field\":\"x\"},\"y\":{\"field\":\"y\"}},\"id\":\"1168\",\"type\":\"Scatter\"},{\"attributes\":{},\"id\":\"1145\",\"type\":\"BasicTicker\"},{\"attributes\":{\"axis\":{\"id\":\"1144\"},\"coordinates\":null,\"group\":null,\"ticker\":null},\"id\":\"1147\",\"type\":\"Grid\"},{\"attributes\":{\"below\":[{\"id\":\"1012\"}],\"center\":[{\"id\":\"1015\"},{\"id\":\"1019\"}],\"height\":400,\"left\":[{\"id\":\"1016\"}],\"renderers\":[{\"id\":\"1039\"},{\"id\":\"1045\"}],\"title\":{\"id\":\"1034\"},\"toolbar\":{\"id\":\"1027\"},\"toolbar_location\":null,\"width\":400,\"x_range\":{\"id\":\"1004\"},\"x_scale\":{\"id\":\"1008\"},\"y_range\":{\"id\":\"1006\"},\"y_scale\":{\"id\":\"1010\"}},\"id\":\"1003\",\"subtype\":\"Figure\",\"type\":\"Plot\"},{\"attributes\":{},\"id\":\"1149\",\"type\":\"BasicTicker\"},{\"attributes\":{},\"id\":\"1224\",\"type\":\"BasicTickFormatter\"},{\"attributes\":{},\"id\":\"1217\",\"type\":\"UnionRenderers\"},{\"attributes\":{\"coordinates\":null,\"formatter\":{\"id\":\"1182\"},\"group\":null,\"major_label_policy\":{\"id\":\"1183\"},\"ticker\":{\"id\":\"1017\"}},\"id\":\"1016\",\"type\":\"LinearAxis\"},{\"attributes\":{},\"id\":\"1218\",\"type\":\"Selection\"},{\"attributes\":{},\"id\":\"1225\",\"type\":\"AllLabels\"},{\"attributes\":{\"coordinates\":null,\"group\":null,\"text\":\"tau=0.01\"},\"id\":\"1166\",\"type\":\"Title\"},{\"attributes\":{},\"id\":\"1010\",\"type\":\"LinearScale\"},{\"attributes\":{\"line_alpha\":0.1,\"line_color\":\"red\",\"line_width\":2,\"x\":{\"field\":\"x\"},\"y\":{\"field\":\"y\"}},\"id\":\"1131\",\"type\":\"Line\"},{\"attributes\":{},\"id\":\"1227\",\"type\":\"BasicTickFormatter\"},{\"attributes\":{},\"id\":\"1024\",\"type\":\"ResetTool\"},{\"attributes\":{\"fill_alpha\":{\"value\":0.1},\"fill_color\":{\"value\":\"#1f77b4\"},\"hatch_alpha\":{\"value\":0.1},\"line_alpha\":{\"value\":0.1},\"line_color\":{\"value\":\"#1f77b4\"},\"x\":{\"field\":\"x\"},\"y\":{\"field\":\"y\"}},\"id\":\"1037\",\"type\":\"Scatter\"},{\"attributes\":{\"data\":{\"x\":{\"__ndarray__\":\"PK0qPAiiB8DBmkzd/9AIwLloOZlcVwXAilpfj7wRBsBF+SkLHAEHwEEibzT87wTAy6SRMSqJBcDNqje7GT0DwJGlsikbjgPAWP9LEAtHAsDPXxo9yMcDwOvvDmuuGgPAka/aypzkAcDIs7j24osBwC3U8efoZgHATxCSUh91AcDK1Y6RycEBwOTdNyCQpADAfxZyuB0eAMDcC/jNjoT+v+2qnJmypf2/2pehzAZj/L8jyAlKB/H5v2lVb/4GEfu/zo3/ZLQa+L/YZUkC9Pn3vyPntaOih/e/vZIGGkqh8r8+zN6MG6zyv7rSjYlqu/O/QTKvGM2x8r8A8kBULcDzvyVSVLdeGu6/pKyD9imV7b8/ZUKueRPuv2bPpr3gG+q/aTD+uxth6b8N9xyDV/rpvxSB8ijnD+a/OZdWysWA578NOciBWozov0JGa0uNvOG/1YBHQlPd4b/VvQZRarvJv/ixYgpfdNS/pXz9EQEd0b/5kd1CAobLvxjhmC6Jwby/rDOTeePhub9wQTDY9qOeP4YEcvP61KA/QBJB41qzqb+EkMPWMH7UP7iYFMr0eLc/h0RmCvdc0T88Ewx8svvUP1MjMBHmqdc/XeT1k7V00j8S5cDcWLvZP0q5l4rsquQ/Ejz0Ptj54z+f2PzMrxbkP10y/GaxguY/dJTOkJuK7j9H4AX4MJvrPwRWwKOqU/I/9NGtUjK/6z8N8m52qxfwP3Ec0yHaEvE/QxvAnNzN8T+ExIHVy3PzPzuZT1huEvQ/V/5cDIsK9T+zZpqngoz0P959lZTduvo/s8uIwARy9j8cljAtsdH3P5AmKP7zAfo/QRbtEtrt+z891NWjWn/8P/SAGobx+v0/DS7aqgTw/T/qNhUaHaAAQAsWVdMlSQBASb59QZ1MAECZonY+LYQBQIRu/GqbAAJAerrgy2cVAkC4TphoN4kBQCM4obbOhQJAKobjSsz4A0C3Q5TW/oACQCB7O2oy7wRANC985Yb1BUAijkm2cukEQCggxnawOAZApMAv4At5BkAnnFm8S70GQFpJrzq7UAhA9UxTsjL3B0A=\",\"dtype\":\"float64\",\"order\":\"little\",\"shape\":[100]},\"y\":{\"__ndarray__\":\"/vA7AtseAUCQdrJLPMYAQOeYsiKKawBAEVHMs6kOAEB77BUA/F7/P7P1CzvPm/4/CMnc3IjT/T+eSJ6Z3gX9P/XOm1F/Mvw/GSNqLRJZ+z9cqMqSNXn6P8sI4+l9kvk/lukRKHSk+D+VU7gSlK73P3fOZyhKsPY/Sp+nGfGo9T+qdmazzpf0P9HRZhMQfPM/EX1V8cRU8j/Hw/iz2SDxP/KMftwfvu8/FM4Rb+kb7T8ba4wsqFfqP+pIpbBQbec/ruLTSgdY5D/5TRlm4hHhPyQ6LhwoJ9s/dAZpv9qn0z+3MxDolhzHP8Y5ZNPs26U/15FU4hHqu7+jRSetps7Rv6HxBnqMF96/7zn6/kIu5r+yEB0aTdnev2BSrqw0V9S/PJNl8dDCx7/HwHUl46izvztP4be18Yw/NsaAqyY+tz8FyllzwO7DPwpMM8JC+so/HLT6kAl30D8Tk9uE0/XSP2rdD+w1BtU/3/cPQ+Cx1j9YwQT8JQDYP/Edw6hz9tg/Lkpj6p6Y2T/fzpV1G+nZP9/OlXUb6dk/Lkpj6p6Y2T/xHcOoc/bYP1PBBPwlANg/3/cPQ+Cx1j9n3Q/sNQbVPxOT24TT9dI/HLT6kAl30D8KTDPCQvrKPwXKWXPA7sM/CsaAqyY+tz8/TuG3tfGMP/vAdSXjqLO/PJNl8dDCx79gUq6sNFfUv7IQHRpN2d6/7zn6/kIu5r+h8QZ6jBfev6NFJ62mztG/15FU4hHqu79qOWTT7NulP6MzEOiWHMc/awZpv9qn0z80Oi4cKCfbPwBOGWbiEeE/tOLTSgdY5D/wSKWwUG3nPyBrjCyoV+o/F84Rb+kb7T/0jH7cH77vP8nD+LPZIPE/EX1V8cRU8j/R0WYTEHzzP6p2ZrPOl/Q/Sp+nGfGo9T93zmcoSrD2P5VTuBKUrvc/lukRKHSk+D/PCOPpfZL5P12oypI1efo/GyNqLRJZ+z/3zptRfzL8P59InpneBf0/Ccnc3IjT/T+19Qs7z5v+P3vsFQD8Xv8/EVHMs6kOAEDnmLIiimsAQJB2sks8xgBA/vA7AtseAUA=\",\"dtype\":\"float64\",\"order\":\"little\",\"shape\":[100]}},\"selected\":{\"id\":\"1216\"},\"selection_policy\":{\"id\":\"1215\"}},\"id\":\"1123\",\"type\":\"ColumnDataSource\"},{\"attributes\":{},\"id\":\"1228\",\"type\":\"AllLabels\"},{\"attributes\":{\"fill_alpha\":{\"value\":0.3},\"fill_color\":{\"value\":\"#1f77b4\"},\"hatch_alpha\":{\"value\":0.3},\"line_alpha\":{\"value\":0.3},\"line_color\":{\"value\":\"#1f77b4\"},\"x\":{\"field\":\"x\"},\"y\":{\"field\":\"y\"}},\"id\":\"1124\",\"type\":\"Scatter\"},{\"attributes\":{\"fill_alpha\":{\"value\":0.2},\"fill_color\":{\"value\":\"#1f77b4\"},\"hatch_alpha\":{\"value\":0.2},\"line_alpha\":{\"value\":0.2},\"line_color\":{\"value\":\"#1f77b4\"},\"x\":{\"field\":\"x\"},\"y\":{\"field\":\"y\"}},\"id\":\"1126\",\"type\":\"Scatter\"},{\"attributes\":{\"coordinates\":null,\"data_source\":{\"id\":\"1123\"},\"glyph\":{\"id\":\"1124\"},\"group\":null,\"hover_glyph\":null,\"muted_glyph\":{\"id\":\"1126\"},\"nonselection_glyph\":{\"id\":\"1125\"},\"view\":{\"id\":\"1128\"}},\"id\":\"1127\",\"type\":\"GlyphRenderer\"},{\"attributes\":{\"line_alpha\":0.2,\"line_color\":\"red\",\"line_width\":2,\"x\":{\"field\":\"x\"},\"y\":{\"field\":\"y\"}},\"id\":\"1132\",\"type\":\"Line\"},{\"attributes\":{\"line_color\":\"red\",\"line_width\":2,\"x\":{\"field\":\"x\"},\"y\":{\"field\":\"y\"}},\"id\":\"1042\",\"type\":\"Line\"},{\"attributes\":{\"children\":[[{\"id\":\"1003\"},0,0],[{\"id\":\"1047\"},0,1],[{\"id\":\"1091\"},1,0],[{\"id\":\"1135\"},1,1]]},\"id\":\"1235\",\"type\":\"GridBox\"},{\"attributes\":{\"tools\":[{\"id\":\"1020\"},{\"id\":\"1021\"},{\"id\":\"1022\"},{\"id\":\"1023\"},{\"id\":\"1024\"},{\"id\":\"1025\"}]},\"id\":\"1027\",\"type\":\"Toolbar\"},{\"attributes\":{\"line_color\":\"red\",\"line_width\":2,\"x\":{\"field\":\"x\"},\"y\":{\"field\":\"y\"}},\"id\":\"1174\",\"type\":\"Line\"},{\"attributes\":{\"below\":[{\"id\":\"1144\"}],\"center\":[{\"id\":\"1147\"},{\"id\":\"1151\"}],\"height\":400,\"left\":[{\"id\":\"1148\"}],\"renderers\":[{\"id\":\"1171\"},{\"id\":\"1177\"}],\"title\":{\"id\":\"1166\"},\"toolbar\":{\"id\":\"1159\"},\"toolbar_location\":null,\"width\":400,\"x_range\":{\"id\":\"1136\"},\"x_scale\":{\"id\":\"1140\"},\"y_range\":{\"id\":\"1138\"},\"y_scale\":{\"id\":\"1142\"}},\"id\":\"1135\",\"subtype\":\"Figure\",\"type\":\"Plot\"},{\"attributes\":{\"overlay\":{\"id\":\"1026\"}},\"id\":\"1022\",\"type\":\"BoxZoomTool\"},{\"attributes\":{\"source\":{\"id\":\"1129\"}},\"id\":\"1134\",\"type\":\"CDSView\"},{\"attributes\":{\"data\":{\"x\":{\"__ndarray__\":\"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\",\"dtype\":\"float64\",\"order\":\"little\",\"shape\":[300]},\"y\":[2.092111405311675,2.0855612615261974,2.077145107607778,2.0669947580948813,2.0556064926902966,2.0437187701404396,2.0320246928602383,2.0209731442486847,2.01076715176209,2.0014587586217365,1.9930266372631882,1.9853988897117802,1.9784192501108362,1.971751632108523,1.964740211252306,1.9563607917807677,1.945521453179658,1.9316882962416437,1.915213069357812,1.8969671910813921,1.8777714004593036,1.8581410592184135,1.8383254635488533,1.8184388571210284,1.7985831264267356,1.7789404470972903,1.7597962261870168,1.7413933682086251,1.7236164538501422,1.7058550881125911,1.6873432402460273,1.6675830096847735,1.6464121428880345,1.6238384916772959,1.5998855784213761,1.5745141725570475,1.5476025247879246,1.5189824074984632,1.4885550033328876,1.4564906909356767,1.423402990308194,1.3902717867847527,1.3580591059128717,1.3273422671992257,1.298271677529982,1.2707532911262476,1.2446091013119749,1.2196349897840726,1.1956080414845953,1.172300582389362,1.149512869295541,1.1271012136779888,1.104974423717025,1.0830537018883337,1.0612192308554258,1.0392825289369285,1.0170181671845517,0.9942543384808613,0.9709688417595319,0.9473174261686634,0.923572913686298,0.9000209491525291,0.8768693123727838,0.8541968798550068,0.831944312983226,0.8099393643126849,0.787940037295078,0.7656707402750984,0.7428350243498036,0.7191088884823653,0.6941275288566697,0.6674674490755268,0.6386109838959433,0.6068924004473386,0.5715282889919999,0.5320637397678367,0.48937015474611245,0.44583058929900465,0.4035424915337167,0.36301914741230723,0.32380213647225986,0.28525201781662224,0.24674510368629043,0.20764885010224576,0.16743096475096175,0.1261380866779389,0.08544834567379511,0.05006241898669572,0.02735183326786536,0.021098246521296785,0.022552701889332574,0.01567123978850138,-0.006907103445945584,-0.041546451563128306,-0.08171208479340697,-0.12279343543191379,-0.16261571059576685,-0.20070794460915198,-0.23770614591008088,-0.27490422728115504,-0.31336387154624323,-0.3519734146310175,-0.3852691449921751,-0.40437071091475707,-0.40251717756135474,-0.37951021965128384,-0.34024185596477485,-0.29074817590603264,-0.23604796579716725,-0.1799650346399333,-0.12560426029831295,-0.07557667105354726,-0.03168044887111465,0.005646520662933252,0.03739765449101351,0.06532175274233443,0.091049356629749,0.11562863373305554,0.1395088934492893,0.1626825967195087,0.18475785323931104,0.2049112161514477,0.22192670280372784,0.23485670012759347,0.2442639866800308,0.2521570995790165,0.2601569439993915,0.26864776251134526,0.2774006293264252,0.28618281784913635,0.294919279005449,0.30361630871241047,0.3121903841316637,0.32030616533488193,0.3274541680144445,0.3333715767517198,0.33832825523211973,0.3428811849914454,0.34748829768294387,0.3523684195799906,0.3575451694477553,0.36292531382716187,0.36835655564081127,0.3736630845309985,0.3786666850939441,0.38319843823942423,0.3871026984800927,0.39023282493201167,0.39243767809236935,0.39354224126492454,0.3933417487003639,0.3916564389170366,0.3884833004025124,0.3841373643384107,0.3791478344795282,0.3739516528330004,0.3687341203179098,0.3635080116835914,0.35824436396169634,0.35294260677665856,0.347643392915794,0.34240025452049416,0.33719849683570935,0.33180325428301516,0.3255872985961298,0.31754119488772115,0.3066999785450586,0.2928345520072593,0.2767558669823868,0.25980377691380646,0.2429985942972036,0.22667444708616513,0.21070336814592172,0.19484566905376205,0.17893899425445647,0.16294644867770558,0.14695796921979598,0.13118181922569172,0.11585522551540728,0.10081322777420487,0.08439449795803233,0.06264542773489257,0.03193039153441157,-0.0068584627094958606,-0.049650282381690225,-0.09307903373769455,-0.1354357996033888,-0.17599141938051654,-0.21444092403939963,-0.2506440991223269,-0.2844251973640486,-0.3152647042864183,-0.34192182567825224,-0.36238935557030566,-0.3747089198602627,-0.3783008693929759,-0.37443084685845107,-0.36531578054471925,-0.35294692903292,-0.3385303734768196,-0.3224769306882882,-0.30457854839523346,-0.2841906287956417,-0.2604100306930224,-0.2322774052766594,-0.19898853744699396,-0.16005390539244457,-0.11536033068504192,-0.06515027211338298,-0.00997868308033567,0.04929971991844395,0.11150408612656548,0.1751109354156304,0.23834120023331584,0.2994185773311391,0.3569242598015103,0.4100202690297978,0.4583740524839146,0.5018796827096077,0.5404323643747806,0.5739253317480628,0.602443144936768,0.6264667922951705,0.6468644478078283,0.6646039414084562,0.6803960455919695,0.6945432460938544,0.707054577644452,0.7179074844861104,0.7273600887305766,0.7362636887590484,0.7462206703818237,0.7593128446883892,0.7773528692273817,0.801131677231945,0.8302246374411304,0.8633641704989583,0.8989573126506634,0.9354395976365177,0.9714463224766616,1.0059164608605036,1.0382046735703447,1.0681551146438468,1.0960283414131526,1.1222806444338016,1.1473432762693134,1.1715227358207394,1.19500886363238,1.2179221853587263,1.2403683610037273,1.262504909030545,1.284604245697336,1.307042055347261,1.3301748355525462,1.3542088969659667,1.3791793726403965,1.405019947315162,1.431640004380689,1.458969696176506,1.486970343752395,1.515600330275101,1.5447002288664802,1.573760219557919,1.6016392395096228,1.6265699394505786,1.6468972339868202,1.6622765209753245,1.6740545834048977,1.6843024549564598,1.6946312573085411,1.705773398768328,1.7177827543980932,1.7303852927682266,1.7432667282150924,1.7562781827814005,1.7695508380688154,1.7834307115502588,1.7981630267914035,1.8135543254525601,1.8290430967314206,1.8441233979568288,1.8586159636590494,1.8726255370685383,1.8863973002432164,1.900229103206984,1.9144465892273552,1.9293896633462708,1.9453458108606294,1.9623759361722133,1.9800874659597136,1.9976321739123057,2.014144185650505,2.0292378088431997,2.04303212162451,2.0558344616048716,2.0678912079503196,2.079315025052183,2.090098521527101,2.1001349428395235,2.1092172692170656]},\"selected\":{\"id\":\"1218\"},\"selection_policy\":{\"id\":\"1217\"}},\"id\":\"1129\",\"type\":\"ColumnDataSource\"},{\"attributes\":{},\"id\":\"1229\",\"type\":\"UnionRenderers\"},{\"attributes\":{},\"id\":\"1025\",\"type\":\"HelpTool\"},{\"attributes\":{},\"id\":\"1023\",\"type\":\"SaveTool\"},{\"attributes\":{},\"id\":\"1230\",\"type\":\"Selection\"},{\"attributes\":{},\"id\":\"1021\",\"type\":\"WheelZoomTool\"},{\"attributes\":{\"fill_alpha\":{\"value\":0.1},\"fill_color\":{\"value\":\"#1f77b4\"},\"hatch_alpha\":{\"value\":0.1},\"line_alpha\":{\"value\":0.1},\"line_color\":{\"value\":\"#1f77b4\"},\"x\":{\"field\":\"x\"},\"y\":{\"field\":\"y\"}},\"id\":\"1125\",\"type\":\"Scatter\"},{\"attributes\":{},\"id\":\"1156\",\"type\":\"ResetTool\"},{\"attributes\":{},\"id\":\"1048\",\"type\":\"DataRange1d\"},{\"attributes\":{},\"id\":\"1157\",\"type\":\"HelpTool\"},{\"attributes\":{\"source\":{\"id\":\"1041\"}},\"id\":\"1046\",\"type\":\"CDSView\"},{\"attributes\":{},\"id\":\"1153\",\"type\":\"WheelZoomTool\"},{\"attributes\":{\"bottom_units\":\"screen\",\"coordinates\":null,\"fill_alpha\":0.5,\"fill_color\":\"lightgrey\",\"group\":null,\"left_units\":\"screen\",\"level\":\"overlay\",\"line_alpha\":1.0,\"line_color\":\"black\",\"line_dash\":[4,4],\"line_width\":2,\"right_units\":\"screen\",\"syncable\":false,\"top_units\":\"screen\"},\"id\":\"1158\",\"type\":\"BoxAnnotation\"},{\"attributes\":{},\"id\":\"1182\",\"type\":\"BasicTickFormatter\"},{\"attributes\":{\"data\":{\"x\":{\"__ndarray__\":\"PK0qPAiiB8DBmkzd/9AIwLloOZlcVwXAilpfj7wRBsBF+SkLHAEHwEEibzT87wTAy6SRMSqJBcDNqje7GT0DwJGlsikbjgPAWP9LEAtHAsDPXxo9yMcDwOvvDmuuGgPAka/aypzkAcDIs7j24osBwC3U8efoZgHATxCSUh91AcDK1Y6RycEBwOTdNyCQpADAfxZyuB0eAMDcC/jNjoT+v+2qnJmypf2/2pehzAZj/L8jyAlKB/H5v2lVb/4GEfu/zo3/ZLQa+L/YZUkC9Pn3vyPntaOih/e/vZIGGkqh8r8+zN6MG6zyv7rSjYlqu/O/QTKvGM2x8r8A8kBULcDzvyVSVLdeGu6/pKyD9imV7b8/ZUKueRPuv2bPpr3gG+q/aTD+uxth6b8N9xyDV/rpvxSB8ijnD+a/OZdWysWA578NOciBWozov0JGa0uNvOG/1YBHQlPd4b/VvQZRarvJv/ixYgpfdNS/pXz9EQEd0b/5kd1CAobLvxjhmC6Jwby/rDOTeePhub9wQTDY9qOeP4YEcvP61KA/QBJB41qzqb+EkMPWMH7UP7iYFMr0eLc/h0RmCvdc0T88Ewx8svvUP1MjMBHmqdc/XeT1k7V00j8S5cDcWLvZP0q5l4rsquQ/Ejz0Ptj54z+f2PzMrxbkP10y/GaxguY/dJTOkJuK7j9H4AX4MJvrPwRWwKOqU/I/9NGtUjK/6z8N8m52qxfwP3Ec0yHaEvE/QxvAnNzN8T+ExIHVy3PzPzuZT1huEvQ/V/5cDIsK9T+zZpqngoz0P959lZTduvo/s8uIwARy9j8cljAtsdH3P5AmKP7zAfo/QRbtEtrt+z891NWjWn/8P/SAGobx+v0/DS7aqgTw/T/qNhUaHaAAQAsWVdMlSQBASb59QZ1MAECZonY+LYQBQIRu/GqbAAJAerrgy2cVAkC4TphoN4kBQCM4obbOhQJAKobjSsz4A0C3Q5TW/oACQCB7O2oy7wRANC985Yb1BUAijkm2cukEQCggxnawOAZApMAv4At5BkAnnFm8S70GQFpJrzq7UAhA9UxTsjL3B0A=\",\"dtype\":\"float64\",\"order\":\"little\",\"shape\":[100]},\"y\":{\"__ndarray__\":\"/vA7AtseAUCQdrJLPMYAQOeYsiKKawBAEVHMs6kOAEB77BUA/F7/P7P1CzvPm/4/CMnc3IjT/T+eSJ6Z3gX9P/XOm1F/Mvw/GSNqLRJZ+z9cqMqSNXn6P8sI4+l9kvk/lukRKHSk+D+VU7gSlK73P3fOZyhKsPY/Sp+nGfGo9T+qdmazzpf0P9HRZhMQfPM/EX1V8cRU8j/Hw/iz2SDxP/KMftwfvu8/FM4Rb+kb7T8ba4wsqFfqP+pIpbBQbec/ruLTSgdY5D/5TRlm4hHhPyQ6LhwoJ9s/dAZpv9qn0z+3MxDolhzHP8Y5ZNPs26U/15FU4hHqu7+jRSetps7Rv6HxBnqMF96/7zn6/kIu5r+yEB0aTdnev2BSrqw0V9S/PJNl8dDCx7/HwHUl46izvztP4be18Yw/NsaAqyY+tz8FyllzwO7DPwpMM8JC+so/HLT6kAl30D8Tk9uE0/XSP2rdD+w1BtU/3/cPQ+Cx1j9YwQT8JQDYP/Edw6hz9tg/Lkpj6p6Y2T/fzpV1G+nZP9/OlXUb6dk/Lkpj6p6Y2T/xHcOoc/bYP1PBBPwlANg/3/cPQ+Cx1j9n3Q/sNQbVPxOT24TT9dI/HLT6kAl30D8KTDPCQvrKPwXKWXPA7sM/CsaAqyY+tz8/TuG3tfGMP/vAdSXjqLO/PJNl8dDCx79gUq6sNFfUv7IQHRpN2d6/7zn6/kIu5r+h8QZ6jBfev6NFJ62mztG/15FU4hHqu79qOWTT7NulP6MzEOiWHMc/awZpv9qn0z80Oi4cKCfbPwBOGWbiEeE/tOLTSgdY5D/wSKWwUG3nPyBrjCyoV+o/F84Rb+kb7T/0jH7cH77vP8nD+LPZIPE/EX1V8cRU8j/R0WYTEHzzP6p2ZrPOl/Q/Sp+nGfGo9T93zmcoSrD2P5VTuBKUrvc/lukRKHSk+D/PCOPpfZL5P12oypI1efo/GyNqLRJZ+z/3zptRfzL8P59InpneBf0/Ccnc3IjT/T+19Qs7z5v+P3vsFQD8Xv8/EVHMs6kOAEDnmLIiimsAQJB2sks8xgBA/vA7AtseAUA=\",\"dtype\":\"float64\",\"order\":\"little\",\"shape\":[100]}},\"selected\":{\"id\":\"1230\"},\"selection_policy\":{\"id\":\"1229\"}},\"id\":\"1167\",\"type\":\"ColumnDataSource\"},{\"attributes\":{\"axis\":{\"id\":\"1060\"},\"coordinates\":null,\"dimension\":1,\"group\":null,\"ticker\":null},\"id\":\"1063\",\"type\":\"Grid\"},{\"attributes\":{},\"id\":\"1183\",\"type\":\"AllLabels\"},{\"attributes\":{\"coordinates\":null,\"data_source\":{\"id\":\"1079\"},\"glyph\":{\"id\":\"1080\"},\"group\":null,\"hover_glyph\":null,\"muted_glyph\":{\"id\":\"1082\"},\"nonselection_glyph\":{\"id\":\"1081\"},\"view\":{\"id\":\"1084\"}},\"id\":\"1083\",\"type\":\"GlyphRenderer\"},{\"attributes\":{\"source\":{\"id\":\"1167\"}},\"id\":\"1172\",\"type\":\"CDSView\"},{\"attributes\":{},\"id\":\"1052\",\"type\":\"LinearScale\"},{\"attributes\":{\"bottom_units\":\"screen\",\"coordinates\":null,\"fill_alpha\":0.5,\"fill_color\":\"lightgrey\",\"group\":null,\"left_units\":\"screen\",\"level\":\"overlay\",\"line_alpha\":1.0,\"line_color\":\"black\",\"line_dash\":[4,4],\"line_width\":2,\"right_units\":\"screen\",\"syncable\":false,\"top_units\":\"screen\"},\"id\":\"1026\",\"type\":\"BoxAnnotation\"},{\"attributes\":{},\"id\":\"1231\",\"type\":\"UnionRenderers\"},{\"attributes\":{},\"id\":\"1185\",\"type\":\"BasicTickFormatter\"},{\"attributes\":{\"line_alpha\":0.2,\"line_color\":\"red\",\"line_width\":2,\"x\":{\"field\":\"x\"},\"y\":{\"field\":\"y\"}},\"id\":\"1044\",\"type\":\"Line\"},{\"attributes\":{},\"id\":\"1232\",\"type\":\"Selection\"},{\"attributes\":{},\"id\":\"1068\",\"type\":\"ResetTool\"},{\"attributes\":{\"tools\":[{\"id\":\"1152\"},{\"id\":\"1153\"},{\"id\":\"1154\"},{\"id\":\"1155\"},{\"id\":\"1156\"},{\"id\":\"1157\"}]},\"id\":\"1159\",\"type\":\"Toolbar\"},{\"attributes\":{\"line_alpha\":0.1,\"line_color\":\"red\",\"line_width\":2,\"x\":{\"field\":\"x\"},\"y\":{\"field\":\"y\"}},\"id\":\"1043\",\"type\":\"Line\"},{\"attributes\":{\"line_color\":\"red\",\"line_width\":2,\"x\":{\"field\":\"x\"},\"y\":{\"field\":\"y\"}},\"id\":\"1086\",\"type\":\"Line\"},{\"attributes\":{\"coordinates\":null,\"group\":null,\"text\":\"tau=1\"},\"id\":\"1078\",\"type\":\"Title\"},{\"attributes\":{},\"id\":\"1187\",\"type\":\"UnionRenderers\"},{\"attributes\":{\"coordinates\":null,\"data_source\":{\"id\":\"1173\"},\"glyph\":{\"id\":\"1174\"},\"group\":null,\"hover_glyph\":null,\"muted_glyph\":{\"id\":\"1176\"},\"nonselection_glyph\":{\"id\":\"1175\"},\"view\":{\"id\":\"1178\"}},\"id\":\"1177\",\"type\":\"GlyphRenderer\"},{\"attributes\":{\"fill_alpha\":{\"value\":0.2},\"fill_color\":{\"value\":\"#1f77b4\"},\"hatch_alpha\":{\"value\":0.2},\"line_alpha\":{\"value\":0.2},\"line_color\":{\"value\":\"#1f77b4\"},\"x\":{\"field\":\"x\"},\"y\":{\"field\":\"y\"}},\"id\":\"1170\",\"type\":\"Scatter\"},{\"attributes\":{},\"id\":\"1188\",\"type\":\"Selection\"},{\"attributes\":{\"coordinates\":null,\"data_source\":{\"id\":\"1167\"},\"glyph\":{\"id\":\"1168\"},\"group\":null,\"hover_glyph\":null,\"muted_glyph\":{\"id\":\"1170\"},\"nonselection_glyph\":{\"id\":\"1169\"},\"view\":{\"id\":\"1172\"}},\"id\":\"1171\",\"type\":\"GlyphRenderer\"},{\"attributes\":{\"bottom_units\":\"screen\",\"coordinates\":null,\"fill_alpha\":0.5,\"fill_color\":\"lightgrey\",\"group\":null,\"left_units\":\"screen\",\"level\":\"overlay\",\"line_alpha\":1.0,\"line_color\":\"black\",\"line_dash\":[4,4],\"line_width\":2,\"right_units\":\"screen\",\"syncable\":false,\"top_units\":\"screen\"},\"id\":\"1070\",\"type\":\"BoxAnnotation\"},{\"attributes\":{\"fill_alpha\":{\"value\":0.1},\"fill_color\":{\"value\":\"#1f77b4\"},\"hatch_alpha\":{\"value\":0.1},\"line_alpha\":{\"value\":0.1},\"line_color\":{\"value\":\"#1f77b4\"},\"x\":{\"field\":\"x\"},\"y\":{\"field\":\"y\"}},\"id\":\"1169\",\"type\":\"Scatter\"},{\"attributes\":{\"data\":{\"x\":{\"__ndarray__\":\"PK0qPAiiB8DBmkzd/9AIwLloOZlcVwXAilpfj7wRBsBF+SkLHAEHwEEibzT87wTAy6SRMSqJBcDNqje7GT0DwJGlsikbjgPAWP9LEAtHAsDPXxo9yMcDwOvvDmuuGgPAka/aypzkAcDIs7j24osBwC3U8efoZgHATxCSUh91AcDK1Y6RycEBwOTdNyCQpADAfxZyuB0eAMDcC/jNjoT+v+2qnJmypf2/2pehzAZj/L8jyAlKB/H5v2lVb/4GEfu/zo3/ZLQa+L/YZUkC9Pn3vyPntaOih/e/vZIGGkqh8r8+zN6MG6zyv7rSjYlqu/O/QTKvGM2x8r8A8kBULcDzvyVSVLdeGu6/pKyD9imV7b8/ZUKueRPuv2bPpr3gG+q/aTD+uxth6b8N9xyDV/rpvxSB8ijnD+a/OZdWysWA578NOciBWozov0JGa0uNvOG/1YBHQlPd4b/VvQZRarvJv/ixYgpfdNS/pXz9EQEd0b/5kd1CAobLvxjhmC6Jwby/rDOTeePhub9wQTDY9qOeP4YEcvP61KA/QBJB41qzqb+EkMPWMH7UP7iYFMr0eLc/h0RmCvdc0T88Ewx8svvUP1MjMBHmqdc/XeT1k7V00j8S5cDcWLvZP0q5l4rsquQ/Ejz0Ptj54z+f2PzMrxbkP10y/GaxguY/dJTOkJuK7j9H4AX4MJvrPwRWwKOqU/I/9NGtUjK/6z8N8m52qxfwP3Ec0yHaEvE/QxvAnNzN8T+ExIHVy3PzPzuZT1huEvQ/V/5cDIsK9T+zZpqngoz0P959lZTduvo/s8uIwARy9j8cljAtsdH3P5AmKP7zAfo/QRbtEtrt+z891NWjWn/8P/SAGobx+v0/DS7aqgTw/T/qNhUaHaAAQAsWVdMlSQBASb59QZ1MAECZonY+LYQBQIRu/GqbAAJAerrgy2cVAkC4TphoN4kBQCM4obbOhQJAKobjSsz4A0C3Q5TW/oACQCB7O2oy7wRANC985Yb1BUAijkm2cukEQCggxnawOAZApMAv4At5BkAnnFm8S70GQFpJrzq7UAhA9UxTsjL3B0A=\",\"dtype\":\"float64\",\"order\":\"little\",\"shape\":[100]},\"y\":{\"__ndarray__\":\"/vA7AtseAUCQdrJLPMYAQOeYsiKKawBAEVHMs6kOAEB77BUA/F7/P7P1CzvPm/4/CMnc3IjT/T+eSJ6Z3gX9P/XOm1F/Mvw/GSNqLRJZ+z9cqMqSNXn6P8sI4+l9kvk/lukRKHSk+D+VU7gSlK73P3fOZyhKsPY/Sp+nGfGo9T+qdmazzpf0P9HRZhMQfPM/EX1V8cRU8j/Hw/iz2SDxP/KMftwfvu8/FM4Rb+kb7T8ba4wsqFfqP+pIpbBQbec/ruLTSgdY5D/5TRlm4hHhPyQ6LhwoJ9s/dAZpv9qn0z+3MxDolhzHP8Y5ZNPs26U/15FU4hHqu7+jRSetps7Rv6HxBnqMF96/7zn6/kIu5r+yEB0aTdnev2BSrqw0V9S/PJNl8dDCx7/HwHUl46izvztP4be18Yw/NsaAqyY+tz8FyllzwO7DPwpMM8JC+so/HLT6kAl30D8Tk9uE0/XSP2rdD+w1BtU/3/cPQ+Cx1j9YwQT8JQDYP/Edw6hz9tg/Lkpj6p6Y2T/fzpV1G+nZP9/OlXUb6dk/Lkpj6p6Y2T/xHcOoc/bYP1PBBPwlANg/3/cPQ+Cx1j9n3Q/sNQbVPxOT24TT9dI/HLT6kAl30D8KTDPCQvrKPwXKWXPA7sM/CsaAqyY+tz8/TuG3tfGMP/vAdSXjqLO/PJNl8dDCx79gUq6sNFfUv7IQHRpN2d6/7zn6/kIu5r+h8QZ6jBfev6NFJ62mztG/15FU4hHqu79qOWTT7NulP6MzEOiWHMc/awZpv9qn0z80Oi4cKCfbPwBOGWbiEeE/tOLTSgdY5D/wSKWwUG3nPyBrjCyoV+o/F84Rb+kb7T/0jH7cH77vP8nD+LPZIPE/EX1V8cRU8j/R0WYTEHzzP6p2ZrPOl/Q/Sp+nGfGo9T93zmcoSrD2P5VTuBKUrvc/lukRKHSk+D/PCOPpfZL5P12oypI1efo/GyNqLRJZ+z/3zptRfzL8P59InpneBf0/Ccnc3IjT/T+19Qs7z5v+P3vsFQD8Xv8/EVHMs6kOAEDnmLIiimsAQJB2sks8xgBA/vA7AtseAUA=\",\"dtype\":\"float64\",\"order\":\"little\",\"shape\":[100]}},\"selected\":{\"id\":\"1202\"},\"selection_policy\":{\"id\":\"1201\"}},\"id\":\"1079\",\"type\":\"ColumnDataSource\"},{\"attributes\":{\"data\":{\"x\":{\"__ndarray__\":\"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\",\"dtype\":\"float64\",\"order\":\"little\",\"shape\":[300]},\"y\":[2.169887960211631,2.156845347061603,2.143802733911575,2.107627405758519,2.06157052248144,2.01576077150903,1.963157295447634,1.9509508882473559,1.9387444810477046,1.9830113757179795,1.9909714701001573,2.0204095468701833,2.0081542999739073,1.9652750949814903,1.9220878672614692,1.809756280849811,1.965191971975127,2.1064415842352844,1.9727578006508004,1.917318863388532,1.8646428907932604,1.88842860649618,1.8082453726951986,1.7723729343485086,1.4791920120261022,1.555976945829471,1.6327443541016553,1.709511619042253,1.7742358127436422,1.801993006399199,1.7261348152014797,1.4686349213052345,1.211126218342347,1.652218120803798,1.673803217859148,1.7548754730081324,1.6842675699011487,1.613582936944879,1.5524048297651731,1.3167621052833223,1.4362387130779366,1.3943213373713692,1.5356171454077607,1.617660231069621,1.29479499751009,1.2256997255987772,1.2140222604147342,1.1919850390828155,1.1699480041420887,1.1478302722102058,1.1374603084304902,1.1190007023584756,1.104947828301319,1.0910586370062545,1.0835692003866373,1.0545770143268318,1.0256024007919193,0.9966277928348357,0.9743660351036649,0.9534077530813093,0.9324431455327298,0.9103355456601341,0.8702490659813957,0.8270495897746515,0.7838700206067384,0.7333753769372221,0.752918923623771,0.7789203598523362,0.8049214538148606,0.8210080815903888,0.81362729168235,0.7478369534331026,1.0515775761557045,1.0016601711724427,0.7445265768692053,0.5261186282946895,0.44229531778826736,0.3615008522520231,0.2835929767018639,0.20545880324851495,0.40927871439715297,0.40531997304174294,0.11052454416786084,-27.897540610676458,-22.356864043582277,-16.816187496796886,-11.275510882590993,-5.734834312449266,-0.1941574234907648,1.5640957773883883,-0.12916769273982176,-0.5979680652447712,1.2884561266314876,2.903463996541774,4.312795390420945,5.5532910581016495,6.650826973833404,-0.08449705814482122,0.832689944859613,0.550684308311002,0.2679505354704492,-0.019187067378469536,-0.2994374720697355,-0.5745970088265935,-0.849555305237697,-1.1244851457694836,-0.505874061061728,-2.4868573527241864,-1.1879027978380492,-0.19650933006502935,-0.16000715545591104,0.0846172586684073,0.12654027135021728,0.0868046737527235,0.05317633761086449,0.019012900922834808,-0.015150591263884072,-0.04899860972806569,0.1192908190609987,0.8808086789553728,0.6490606358109616,0.4158051472758659,0.1825496587508182,-0.050705829770764765,-0.283961318275332,-0.5172168068187126,-0.7504722953938998,-0.9837277839351968,0.2725493575992669,0.3372459658898928,0.3353343870697243,0.33342280824955534,0.3315112294293891,0.322753768389667,0.33278685939570574,0.3428198785049566,0.3528618533675729,0.3609742303133566,0.40473185509119775,0.3506721337427443,0.23774974564167783,0.131572545675259,0.34986813323971394,0.37407621168016525,0.3917707082915043,0.40855529488029474,0.39986432494417506,0.39994024433721087,0.40116559636391513,0.4023826195413821,0.40485247402462143,0.40485274122942494,0.40049203458585086,0.385760978598454,0.3757080869424252,0.36533259909831306,0.3763301846415402,0.37701441934631263,0.36604895070129634,0.37674769546908843,0.7000725743851222,0.5856700531513901,0.4712674889400703,0.35686126912393656,0.25948435846184703,0.3462890374846167,0.30514321362039354,0.31343568348053064,0.2923354086360057,0.23921661042042364,0.18612813618712276,0.13303966054014782,0.07995702588698661,0.21583305700054484,0.21729687689831623,0.15090199913994012,2.1043208544254703,1.6673793796482617,1.2300289625219882,0.7821535366957253,0.2237187380577872,0.0782873024770181,0.1936257017044647,0.04917917730106458,-0.03179543152037878,-0.11280351685367851,-0.0778433531770015,-0.07856855032182548,-0.1842109834693435,5.617990951067398,3.9506472394280223,2.2370423754930044,0.5234375126775888,-1.190167350070368,-2.9029861160736488,-0.40502946146380303,-0.30384480803477754,-0.17874805203745936,-0.2899288964361775,-0.4011097554105145,-0.448737628616076,-0.38358990408173055,-0.3207877942618542,-0.25423863916040457,-0.1798704343187918,-0.1198716664253503,-0.3490335329311627,-0.5781280808307088,-0.26953271484298824,-0.11980802923045886,0.03655742165388798,0.10799273942249954,0.17831832673160264,0.3420517694790046,0.38622257188766884,0.3097573785504997,0.23338373483811736,0.4548063589758682,0.529946615565752,0.6332853109888499,0.6375073938483438,0.6715950915785966,0.6941138877034168,0.7178247477082478,0.7342252404367305,0.7410252264067825,0.7478252123768393,0.7763806009316612,0.7902298145808566,1.0141982819714777,0.887978406923084,0.7591764722110153,0.630374351176652,0.501573275355355,0.6590820458997326,0.7598148585079549,0.8869886594178977,0.9334826004540941,0.9799745055277715,1.0264664228280656,1.0459387397628777,1.7750896512182734,1.5659481200487164,1.0003783318467967,0.4348085402861628,-0.13076125161511243,-0.6963310346946372,1.1906374336955148,-1.0423459578177159,-0.2517908458511471,0.5388099652782614,1.3274183574932152,1.273960586321257,1.221224187821183,1.1640622893687862,1.2963124023320036,1.329158094456588,-0.951140983446578,0.518530322058183,1.9876359738328802,1.5213144360541648,1.406674295674625,1.522849648184497,1.6085480625904918,1.818445315010944,1.5450152330833902,0.6248785388795994,-0.2952436499282385,-1.2153658212603915,-2.0283893080823248,1.6894780801632425,1.6748158615975062,1.6866552447926946,1.6984946279878823,1.71033401118307,1.7221733943782582,1.7782110691158035,1.8168415390040162,3.1626339614523005,2.454147288638808,1.745660607051775,1.0371739265566617,0.32868725676569,1.8440619223250687,1.78773807328741,1.7881228909373856,1.847199316817381,1.9062753204486942,1.9632945571797,1.9927068530982384,2.021168321527079,2.0484750412674333,2.0757827785378455,2.103215062810115,2.0892874128802106,2.0966686322245476,2.104134260852134,2.117032382052631,2.1556788397008817,2.1358121715842557]},\"selected\":{\"id\":\"1232\"},\"selection_policy\":{\"id\":\"1231\"}},\"id\":\"1173\",\"type\":\"ColumnDataSource\"},{\"attributes\":{},\"id\":\"1202\",\"type\":\"Selection\"},{\"attributes\":{\"line_alpha\":0.1,\"line_color\":\"red\",\"line_width\":2,\"x\":{\"field\":\"x\"},\"y\":{\"field\":\"y\"}},\"id\":\"1087\",\"type\":\"Line\"},{\"attributes\":{\"source\":{\"id\":\"1173\"}},\"id\":\"1178\",\"type\":\"CDSView\"},{\"attributes\":{\"toolbars\":[{\"id\":\"1027\"},{\"id\":\"1071\"},{\"id\":\"1115\"},{\"id\":\"1159\"}],\"tools\":[{\"id\":\"1020\"},{\"id\":\"1021\"},{\"id\":\"1022\"},{\"id\":\"1023\"},{\"id\":\"1024\"},{\"id\":\"1025\"},{\"id\":\"1064\"},{\"id\":\"1065\"},{\"id\":\"1066\"},{\"id\":\"1067\"},{\"id\":\"1068\"},{\"id\":\"1069\"},{\"id\":\"1108\"},{\"id\":\"1109\"},{\"id\":\"1110\"},{\"id\":\"1111\"},{\"id\":\"1112\"},{\"id\":\"1113\"},{\"id\":\"1152\"},{\"id\":\"1153\"},{\"id\":\"1154\"},{\"id\":\"1155\"},{\"id\":\"1156\"},{\"id\":\"1157\"}]},\"id\":\"1236\",\"type\":\"ProxyToolbar\"},{\"attributes\":{\"source\":{\"id\":\"1085\"}},\"id\":\"1090\",\"type\":\"CDSView\"},{\"attributes\":{\"line_alpha\":0.2,\"line_color\":\"red\",\"line_width\":2,\"x\":{\"field\":\"x\"},\"y\":{\"field\":\"y\"}},\"id\":\"1088\",\"type\":\"Line\"},{\"attributes\":{\"toolbar\":{\"id\":\"1236\"},\"toolbar_location\":\"above\"},\"id\":\"1237\",\"type\":\"ToolbarBox\"},{\"attributes\":{\"fill_alpha\":{\"value\":0.1},\"fill_color\":{\"value\":\"#1f77b4\"},\"hatch_alpha\":{\"value\":0.1},\"line_alpha\":{\"value\":0.1},\"line_color\":{\"value\":\"#1f77b4\"},\"x\":{\"field\":\"x\"},\"y\":{\"field\":\"y\"}},\"id\":\"1081\",\"type\":\"Scatter\"},{\"attributes\":{\"line_alpha\":0.2,\"line_color\":\"red\",\"line_width\":2,\"x\":{\"field\":\"x\"},\"y\":{\"field\":\"y\"}},\"id\":\"1176\",\"type\":\"Line\"},{\"attributes\":{},\"id\":\"1004\",\"type\":\"DataRange1d\"},{\"attributes\":{\"line_alpha\":0.1,\"line_color\":\"red\",\"line_width\":2,\"x\":{\"field\":\"x\"},\"y\":{\"field\":\"y\"}},\"id\":\"1175\",\"type\":\"Line\"},{\"attributes\":{\"data\":{\"x\":{\"__ndarray__\":\"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\",\"dtype\":\"float64\",\"order\":\"little\",\"shape\":[300]},\"y\":[2.2138041546844027,2.192172982347588,2.170506292729851,2.1488075958555566,2.127080448403083,2.1053284514099038,2.0835552479356907,2.0617645206876407,2.039959989611779,2.018145409454534,1.996324567297902,1.974501280072753,1.9526793920536445,1.9308627723391347,1.909055312321096,1.8872609231468127,1.865483533177306,1.8437270854451464,1.8219955351153334,1.8002928469521637,1.7786229927953077,1.7569899490479313,1.7353976941797682,1.7138502062477494,1.69235146043673,1.6709054266227679,1.6495160669612297,1.628187333501734,1.606923165832117,1.5857274887531392,1.5646042099856832,1.5435572179121344,1.5225903793533002,1.5017075373822266,1.480912509176206,1.460209083908017,1.4396010206773782,1.4190920464835415,1.398685854239758,1.378386100830302,1.3581964052106463,1.3381203465512623,1.31816146242543,1.2983232470414503,1.278609149519414,1.2590225722127941,1.239566869074925,1.2202453440704661,1.2010612496318065,1.1820177851604403,1.1631180955731462,1.1443652698929336,1.1257623398845278,1.1073122787342689,1.0890179997741858,1.0708823552500593,1.0529081351332148,1.0350980659758264,1.0174548098094955,0.999980963086871,0.9826790556660953,0.9655515498378622,0.948600839394925,0.9318292487438844,0.9152390320591554,0.8988323724790307,0.8826113813438125,0.8665780974760371,0.8507344865029103,0.8350824402210597,0.819623776003895,0.8043602362518654,0.7892934878860186,0.7744251218853963,0.7597566528688539,0.7452895187220412,0.7310250802703971,0.7169646209991075,0.7031093468211518,0.6894603858946629,0.6760187884909867,0.6627855269149516,0.6497614954790507,0.6369475105333221,0.6243443105529239,0.611952556285508,0.5997728309606658,0.5878056405638384,0.5760514141772433,0.5645105043904625,0.5531831877834867,0.5420696654850785,0.5311700638094344,0.5204844349741649,0.5100127579026775,0.4997549391140737,0.4897108137036583,0.4798801464171418,0.47026263282155667,0.4608579005758264,0.45166551080377354,0.44268495957224574,0.433915679476784,0.4253570413370681,0.41700835600406694,0.40886887628053803,0.4009377989561221,0.3932142669579333,0.3856973716170671,0.37838615505099615,0.3712796126613252,0.3643766957457914,0.35767631422287105,0.3511773394667137,0.3448786072495039,0.33877892078771155,0.33287705388801236,0.3271717541879847,0.32166174648601753,0.3163457361541616,0.3112224126269923,0.30629045295888635,0.30154852544145394,0.29699529327225915,0.29262941826535627,0.288449564593622,0.28445440255233767,0.2806426123330216,0.2770128877960864,0.2735639402305514,0.27029450208873834,0.26720333068366314,0.2642892118366669,0.26155096346276147,0.2589874390811444,0.25659753123840134,0.2543801748320761,0.25233435032247936,0.2504590868209222,0.24875346504291418,0.24721662011531004,0.2458477442268831,0.2446460891123873,0.2436109683607778,0.24274175953895955,0.2420379061231535,0.24149891923074682,0.24112437914630877,0.24091393663629257,0.24086731404781264,0.24098430618777214,0.2412647809795093,0.24170867989503744,0.2423160181618417,0.24308688474410167,0.24402144209906948,0.24511992571019514,0.24638264339942975,0.247809974421921,0.24940236834709376,0.25116034373082663,0.25308448658412763,0.2551754486443373,0.2574339454554877,0.25986075426498245,0.2624567117442471,0.2652227115414385,0.2681597016746855,0.2712686817746536,0.27455070018551986,0.27800685093364985,0.28163827057346097,0.28544613492007553,0.289431655678448,0.29359607697868884,0.29794067182730305,0.30246673848401395,0.3071755967737691,0.3120685843434051,0.31714705287230927,0.3224123642462473,0.3278658867033265,0.33350899096085906,0.3393430463316445,0.3453694168379614,0.3515894573312798,0.35800450962545144,0.3646158986508551,0.37142492863669374,0.3784328793283528,0.38564100224646375,0.3930505169940082,0.40066260761754363,0.4084784190283428,0.4164990534889717,0.4247255671705697,0.433158966785834,0.44180020630246525,0.4506501837415837,0.45970973806539733,0.4689796461581656,0.47846061990429795,0.48815330336719964,0.4980582700722944,0.5081760203974149,0.5185069790736232,0.529051492799271,0.5398098279699813,0.5507821685270234,0.5619686139264045,0.5733691772308104,0.5849837833263861,0.596812267266153,0.6088543727417366,0.6211097506848592,0.6335779579999561,0.6462584564290562,0.6591506115499397,0.6722536919083953,0.6855668682852654,0.6990892130987634,0.7128196999424061,0.7267572032587314,0.7409004981487746,0.7552482603171337,0.7697990661522566,0.7845513929414144,0.7995036192196321,0.8146540252517003,0.8300007936461414,0.8455420100999289,0.8612756642724411,0.877199650787082,0.8933117703587015,0.9096097310448592,0.9260911496187243,0.9427535530612939,0.9595943801703417,0.9766109832834577,0.9938006301122513,1.0111605056847084,1.0286877143924733,1.0463792821397222,1.064232158590094,1.0822432195080172,1.1004092691906604,1.1187270429865255,1.1371932098966684,1.1558043752543314,1.1745570834787185,1.1934478208984924,1.2124730186405066,1.2316290555792095,1.2509122613420174,1.2703189193659568,1.2898452700007803,1.3094875136536774,1.3292418139707314,1.3491043010501833,1.3690710746825383,1.3891382076125787,1.4093017488183175,1.4295577268018969,1.4499021528875184,1.4703310245214793,1.4908403285693947,1.5114260446057717,1.5320841481911742,1.552810614132142,1.5736014197193193,1.5944525479390923,1.6153599906543175,1.6363197517496286,1.657327850237125,1.6783803233181653,1.6994732293972097,1.7206026510436963,1.741764697898268,1.7629555095194633,1.7841712581675073,1.8054081515216365,1.8266624353278678,1.8479303959740112,1.8692083629890706,1.8904927114642252,1.9117798643928765,1.9330662949273316,1.954348528549815,1.9756231451558977,1.9968867810484021,2.018136130840085,2.0393679492636414,2.060579052887727,2.0817663217378537,2.1029267008211923,2.1240572015546233,2.145154903095375,2.1662169535739357,2.187240571228958,2.208223045444228]},\"selected\":{\"id\":\"1204\"},\"selection_policy\":{\"id\":\"1203\"}},\"id\":\"1085\",\"type\":\"ColumnDataSource\"},{\"attributes\":{},\"id\":\"1152\",\"type\":\"PanTool\"},{\"attributes\":{\"overlay\":{\"id\":\"1158\"}},\"id\":\"1154\",\"type\":\"BoxZoomTool\"},{\"attributes\":{\"below\":[{\"id\":\"1100\"}],\"center\":[{\"id\":\"1103\"},{\"id\":\"1107\"}],\"height\":400,\"left\":[{\"id\":\"1104\"}],\"renderers\":[{\"id\":\"1127\"},{\"id\":\"1133\"}],\"title\":{\"id\":\"1122\"},\"toolbar\":{\"id\":\"1115\"},\"toolbar_location\":null,\"width\":400,\"x_range\":{\"id\":\"1092\"},\"x_scale\":{\"id\":\"1096\"},\"y_range\":{\"id\":\"1094\"},\"y_scale\":{\"id\":\"1098\"}},\"id\":\"1091\",\"subtype\":\"Figure\",\"type\":\"Plot\"},{\"attributes\":{},\"id\":\"1155\",\"type\":\"SaveTool\"},{\"attributes\":{},\"id\":\"1189\",\"type\":\"UnionRenderers\"},{\"attributes\":{\"fill_alpha\":{\"value\":0.2},\"fill_color\":{\"value\":\"#1f77b4\"},\"hatch_alpha\":{\"value\":0.2},\"line_alpha\":{\"value\":0.2},\"line_color\":{\"value\":\"#1f77b4\"},\"x\":{\"field\":\"x\"},\"y\":{\"field\":\"y\"}},\"id\":\"1082\",\"type\":\"Scatter\"},{\"attributes\":{},\"id\":\"1190\",\"type\":\"Selection\"},{\"attributes\":{\"source\":{\"id\":\"1079\"}},\"id\":\"1084\",\"type\":\"CDSView\"},{\"attributes\":{},\"id\":\"1067\",\"type\":\"SaveTool\"},{\"attributes\":{\"overlay\":{\"id\":\"1070\"}},\"id\":\"1066\",\"type\":\"BoxZoomTool\"},{\"attributes\":{},\"id\":\"1064\",\"type\":\"PanTool\"},{\"attributes\":{},\"id\":\"1065\",\"type\":\"WheelZoomTool\"},{\"attributes\":{\"below\":[{\"id\":\"1056\"}],\"center\":[{\"id\":\"1059\"},{\"id\":\"1063\"}],\"height\":400,\"left\":[{\"id\":\"1060\"}],\"renderers\":[{\"id\":\"1083\"},{\"id\":\"1089\"}],\"title\":{\"id\":\"1078\"},\"toolbar\":{\"id\":\"1071\"},\"toolbar_location\":null,\"width\":400,\"x_range\":{\"id\":\"1048\"},\"x_scale\":{\"id\":\"1052\"},\"y_range\":{\"id\":\"1050\"},\"y_scale\":{\"id\":\"1054\"}},\"id\":\"1047\",\"subtype\":\"Figure\",\"type\":\"Plot\"},{\"attributes\":{\"coordinates\":null,\"data_source\":{\"id\":\"1041\"},\"glyph\":{\"id\":\"1042\"},\"group\":null,\"hover_glyph\":null,\"muted_glyph\":{\"id\":\"1044\"},\"nonselection_glyph\":{\"id\":\"1043\"},\"view\":{\"id\":\"1046\"}},\"id\":\"1045\",\"type\":\"GlyphRenderer\"},{\"attributes\":{},\"id\":\"1196\",\"type\":\"BasicTickFormatter\"},{\"attributes\":{},\"id\":\"1186\",\"type\":\"AllLabels\"},{\"attributes\":{},\"id\":\"1197\",\"type\":\"AllLabels\"},{\"attributes\":{\"tools\":[{\"id\":\"1064\"},{\"id\":\"1065\"},{\"id\":\"1066\"},{\"id\":\"1067\"},{\"id\":\"1068\"},{\"id\":\"1069\"}]},\"id\":\"1071\",\"type\":\"Toolbar\"},{\"attributes\":{},\"id\":\"1199\",\"type\":\"BasicTickFormatter\"},{\"attributes\":{\"coordinates\":null,\"data_source\":{\"id\":\"1085\"},\"glyph\":{\"id\":\"1086\"},\"group\":null,\"hover_glyph\":null,\"muted_glyph\":{\"id\":\"1088\"},\"nonselection_glyph\":{\"id\":\"1087\"},\"view\":{\"id\":\"1090\"}},\"id\":\"1089\",\"type\":\"GlyphRenderer\"},{\"attributes\":{},\"id\":\"1200\",\"type\":\"AllLabels\"},{\"attributes\":{\"data\":{\"x\":{\"__ndarray__\":\"AAAAAAAACMCbYaor59YHwDbDVFfOrQfA0ST/grWEB8BshqmunFsHwAfoU9qDMgfAokn+BWsJB8A9q6gxUuAGwNgMU105twbAc279iCCOBsAO0Ke0B2UGwKkxUuDuOwbARJP8C9YSBsDf9KY3vekFwHpWUWOkwAXAFLj7jouXBcCwGaa6cm4FwEp7UOZZRQXA5tz6EUEcBcCAPqU9KPMEwBugT2kPygTAtgH6lPagBMBRY6TA3XcEwOzETuzETgTAhyb5F6wlBMAiiKNDk/wDwL3pTW960wPAWEv4mmGqA8DzrKLGSIEDwI4OTfIvWAPAKXD3HRcvA8DE0aFJ/gUDwF8zTHXl3ALA+pT2oMyzAsCV9qDMs4oCwDBYS/iaYQLAy7n1I4I4AsBmG6BPaQ8CwAF9SntQ5gHAnN70pje9AcA3QJ/SHpQBwNKhSf4FawHAbQP0Ke1BAcAIZZ5V1BgBwKLGSIG77wDAPijzrKLGAMDYiZ3YiZ0AwHTrRwRxdADADk3yL1hLAMCqrpxbPyIAwIkgjg5N8v+/v+PiZRug/7/1pje96U3/vytqjBS4+/6/YS3ha4ap/r+X8DXDVFf+v8yzihojBf6/AnffcfGy/b84OjTJv2D9v279iCCODv2/pMDdd1y8/L/agzLPKmr8vxBHhyb5F/y/RgrcfcfF+798zTDVlXP7v7KQhSxkIfu/6FPagzLP+r8eFy/bAH36v1TagzLPKvq/ip3YiZ3Y+b/AYC3ha4b5v/Yjgjg6NPm/LOfWjwji+L9hqivn1o/4v5dtgD6lPfi/zTDVlXPr978D9CntQZn3vzm3fkQQR/e/b3rTm9709r+lPSjzrKL2v9sAfUp7UPa/EcTRoUn+9b9Hhyb5F6z1v31Ke1DmWfW/sw3Qp7QH9b/p0CT/grX0vx+UeVZRY/S/VVfOrR8R9L+KGiMF7r7zv8Ddd1y8bPO/9qDMs4oa878sZCELWcjyv2IndmIndvK/mOrKufUj8r/OrR8RxNHxvwRxdGiSf/G/OjTJv2At8b9w9x0XL9vwv6a6cm79iPC/3H3Hxcs28L8kgjg6NMnvv5AI4ujQJO+//I6Ll22A7r9oFTVGCtztv9Sb3vSmN+2/QCKIo0OT7L+sqDFS4O7rvxgv2wB9Suu/hLWErxmm6r/wOy5etgHqv1zC1wxTXem/yEiBu++46L8wzypqjBTov5xV1BgpcOe/CNx9x8XL5r90Yid2Yifmv+Do0CT/guW/TG9605ve5L+49SOCODrkvyR8zTDVleO/kAJ333Hx4r/8iCCODk3iv2gPyjyrqOG/1JVz60cE4b9AHB2a5F/gv1hFjZECd9+/MFLg7jsu3r8IXzNMdeXcv+BrhqmunNu/uHjZBuhT2r+QhSxkIQvZv2iSf8Fawte/QJ/SHpR51r8YrCV8zTDVv/C4eNkG6NO/yMXLNkCf0r+g0h6UeVbRv3jfcfGyDdC/oNiJndiJzb9Q8i9YS/jKvwAM1hK+Zsi/sCV8zTDVxb9gPyKIo0PDvxBZyEIWssC/gOXc+hFBvL/AGClw9x23vyBMdeXc+rG/AP+CtYSvqb+AyzZAn9KevwAyzypqjIS/ADPPKmqMhD8AzDZAn9KeP0D/grWEr6k/QEx15dz6sT/gGClw9x23P4Dl3PoRQbw/EFnIQhaywD9gPyKIo0PDP7AlfM0w1cU/AAzWEr5myD9Q8i9YS/jKP6DYiZ3Yic0/eN9x8bIN0D+g0h6UeVbRP8jFyzZAn9I/8Lh42Qbo0z8YrCV8zTDVP0Cf0h6UedY/aJJ/wVrC1z+QhSxkIQvZP7h42QboU9o/4GuGqa6c2z8IXzNMdeXcPzBS4O47Lt4/WEWNkQJ33z9AHB2a5F/gP9iVc+tHBOE/bA/KPKuo4T8AiSCODk3iP5QCd99x8eI/KHzNMNWV4z+89SOCODrkP1BvetOb3uQ/5OjQJP+C5T94Yid2YifmPwzcfcfFy+Y/oFXUGClw5z80zypqjBToP8hIgbvvuOg/XMLXDFNd6T/wOy5etgHqP4S1hK8Zpuo/GC/bAH1K6z+sqDFS4O7rP0AiiKNDk+w/1Jve9KY37T9oFTVGCtztP/yOi5dtgO4/kAji6NAk7z8kgjg6NMnvP9x9x8XLNvA/qLpybv2I8D9w9x0XL9vwPzw0yb9gLfE/BHF0aJJ/8T/QrR8RxNHxP5jqyrn1I/I/ZCd2Yid28j8sZCELWcjyP/igzLOKGvM/wN13XLxs8z+MGiMF7r7zP1RXzq0fEfQ/IJR5VlFj9D/o0CT/grX0P7QN0Ke0B/U/fEp7UOZZ9T9Ihyb5F6z1PxDE0aFJ/vU/3AB9SntQ9j+kPSjzrKL2P3B605ve9PY/OLd+RBBH9z8E9CntQZn3P9Aw1ZVz6/c/mG2APqU9+D9kqivn1o/4Pyzn1o8I4vg/+COCODo0+T/AYC3ha4b5P4yd2Imd2Pk/VNqDMs8q+j8gFy/bAH36P+hT2oMyz/o/tJCFLGQh+z98zTDVlXP7P0gK3H3Hxfs/EEeHJvkX/D/cgzLPKmr8P6TA3XdcvPw/cP2III4O/T84OjTJv2D9PwR333Hxsv0/zLOKGiMF/j+Y8DXDVFf+P2At4WuGqf4/LGqMFLj7/j/0pje96U3/P8Dj4mUboP8/iCCODk3y/z+qrpxbPyIAQA5N8i9YSwBAdOtHBHF0AEDYiZ3YiZ0AQD4o86yixgBAosZIgbvvAEAIZZ5V1BgBQG4D9CntQQFA0qFJ/gVrAUA4QJ/SHpQBQJze9KY3vQFAAn1Ke1DmAUBmG6BPaQ8CQMy59SOCOAJAMFhL+JphAkCW9qDMs4oCQPqU9qDMswJAYDNMdeXcAkDE0aFJ/gUDQCpw9x0XLwNAjg5N8i9YA0D0rKLGSIEDQFhL+JphqgNAvulNb3rTA0AiiKNDk/wDQIgm+ResJQRA7MRO7MROBEBSY6TA3XcEQLYB+pT2oARAHKBPaQ/KBECAPqU9KPMEQObc+hFBHAVASntQ5llFBUCwGaa6cm4FQBS4+46LlwVAelZRY6TABUDe9KY3vekFQEST/AvWEgZAqDFS4O47BkAO0Ke0B2UGQHRu/YggjgZA2AxTXTm3BkA+q6gxUuAGQKJJ/gVrCQdACOhT2oMyB0BshqmunFsHQNIk/4K1hAdANsNUV86tB0CcYaor59YHQAAAAAAAAAhA\",\"dtype\":\"float64\",\"order\":\"little\",\"shape\":[300]},\"y\":[0.8342712600640798,0.8334926923736766,0.8327194119739785,0.8319514188564855,0.8311887130128426,0.8304312944348327,0.8296791631143859,0.828932319043573,0.8281907622146079,0.8274544926198458,0.8267235102517878,0.8259978151030741,0.825277407166489,0.8245622864349593,0.8238524529015571,0.8231479065594939,0.8224486474021255,0.8217546754229524,0.8210659906156138,0.8203825929738972,0.8197044824917293,0.8190316591631832,0.8183641229824697,0.8177018739439483,0.8170449120421197,0.8163932372716266,0.8157468496272555,0.8151057491039395,0.8144699356967506,0.8138394094009033,0.813214170211763,0.81259421812483,0.8119795531357509,0.8113701752403196,0.8107660844344677,0.8101672807142739,0.80957376407596,0.8089855345158887,0.8084025920305701,0.8078249366166559,0.8072525682709424,0.8066854869903681,0.8061236927720175,0.805567185613116,0.8050159655110355,0.8044700324632895,0.8039293864675374,0.8033940275215794,0.8028639556233638,0.8023391707709787,0.8018196729626597,0.8013054621967833,0.8007965384718702,0.8002929017865892,0.7997945521397474,0.7993014895302984,0.7988137139573424,0.7983312254201188,0.7978540239180147,0.7973821094505595,0.7969154820174291,0.7964541416184395,0.7959980882535547,0.7955473219228801,0.7951018426266687,0.7946616503653133,0.7942267451393561,0.7937971269494789,0.7933727957965087,0.7929537516814196,0.7925399946053275,0.792131524569493,0.7917283415753209,0.791330445624362,0.7909378367183105,0.7905505148590035,0.7901684800484227,0.789791732288698,0.7894202715821,0.7890540979310444,0.7886932113380918,0.7883376118059469,0.7879872993374595,0.7876422739356229,0.7873025356035775,0.786968084344604,0.7866389201621323,0.7863150430597324,0.7859964530411219,0.7856831501101617,0.7853751342708583,0.7850724055273607,0.784774963883964,0.7844828093451088,0.7841959419153783,0.7839143615995026,0.7836380684023535,0.7833670623289508,0.7831013433844546,0.7828409115741749,0.782585766903561,0.7823359093782113,0.7820913390038662,0.7818520557864134,0.7816180597318813,0.7813893508464456,0.7811659291364269,0.7809477946082897,0.7807349472686421,0.7805273871242401,0.7803251141819818,0.7801281284489093,0.7799364299322114,0.7797500186392217,0.7795688945774167,0.7793930577544186,0.7792225081779951,0.779057245856057,0.7788972707966606,0.7787425830080075,0.7785931824984429,0.7784490692764563,0.7783102433506843,0.7781767047299051,0.7780484534230441,0.7779254894391713,0.7778078127874987,0.7776954234773864,0.7775883215183356,0.7774865069199965,0.7773899796921605,0.777298739844764,0.7772127873878895,0.7771321223317639,0.7770567446867581,0.7769866544633873,0.7769218516723126,0.7768623363243389,0.7768081084304155,0.7767591680016379,0.7767155150492437,0.7766771495846165,0.7766440716192852,0.7766162811649225,0.7765937782333435,0.776576562836513,0.7765646349865348,0.7765579946956623,0.7765566419762889,0.7765605768409555,0.7765697993023462,0.7765843093732903,0.7766041070667599,0.7766291923958754,0.7766595653738974,0.7766952260142324,0.7767361743304336,0.7767824103361949,0.7768339340453567,0.7768907454719033,0.7769528446299645,0.777020231533813,0.7770929061978669,0.7771708686366864,0.7772541188649801,0.7773426568975963,0.7774364827495309,0.7775355964359224,0.777639997972055,0.7777496873733548,0.7778646646553949,0.7779849298338899,0.7781104829247012,0.7782413239438329,0.7783774529074321,0.7785188698317923,0.7786655747333494,0.7788175676286859,0.7789748485345248,0.7791374174677338,0.7793052744453267,0.779478419484462,0.7796568526024374,0.7798405738167,0.7800295831448364,0.7802238806045809,0.7804234662138069,0.7806283399905375,0.7808385019529347,0.7810539521193077,0.781274690508106,0.7815007171379273,0.7817320320275094,0.7819686351957337,0.7822105266616292,0.7824577064443625,0.7827101745632506,0.7829679310377489,0.7832309758874574,0.7834993091321217,0.7837729307916281,0.78405184088601,0.7843360394354401,0.7846255264602368,0.7849203019808625,0.7852203660179196,0.785525718592158,0.7858363597244695,0.7861522894358873,0.7864735077475898,0.7868000146808974,0.787131810257276,0.787468894498331,0.787811267425814,0.7881589290616176,0.7885118794277787,0.7888701185464769,0.789233646440033,0.7896024631309146,0.7899765686417285,0.7903559629952265,0.7907406462143015,0.7911306183219909,0.7915258793414739,0.7919264292960732,0.7923322682092507,0.7927433961046163,0.7931598130059211,0.7935815189370535,0.7940085139220515,0.7944407979850918,0.7948783711504951,0.7953212334427222,0.7957693848863783,0.7962228255062103,0.7966815553271069,0.7971455743740999,0.7976148826723637,0.7980894802472123,0.7985693671241052,0.7990545433286402,0.7995450088865622,0.8000407638237524,0.8005418081662374,0.8010481419401855,0.8015597651719055,0.802076677887848,0.8025988801146073,0.803126371878919,0.8036591532076569,0.8041972241278409,0.8047405846666291,0.8052892348513239,0.8058431747093676,0.8064024042683425,0.8069669235559764,0.807536732600135,0.8081118314288261,0.8086922200701976,0.8092778985525418,0.8098688669042897,0.8104651251540127,0.8110666733304259,0.8116735114623826,0.8122856395788787,0.8129030577090506,0.8135257658821752,0.8141537641276708,0.8147870524750958,0.8154256309541495,0.8160694995946712,0.816718658426643,0.8173731074801834,0.8180328467855555,0.8186978763731615,0.8193681962735418,0.8200438065173808,0.8207247071354989,0.821410898158861,0.8221023796185682,0.8227991515458646,0.8235012139721328,0.8242085669288961,0.8249212104478167,0.8256391445606985,0.8263623692994824,0.8270908846962506,0.8278246907832256,0.828563787592768,0.8293081751573796,0.8300578535097001,0.8308128226825083,0.8315730827087264,0.832338633621409,0.8331094754537564,0.8338856082391043,0.8346670320109284,0.8354537468028438,0.8362457526486045,0.8370430495821035]},\"selected\":{\"id\":\"1190\"},\"selection_policy\":{\"id\":\"1189\"}},\"id\":\"1041\",\"type\":\"ColumnDataSource\"},{\"attributes\":{\"coordinates\":null,\"formatter\":{\"id\":\"1199\"},\"group\":null,\"major_label_policy\":{\"id\":\"1200\"},\"ticker\":{\"id\":\"1057\"}},\"id\":\"1056\",\"type\":\"LinearAxis\"},{\"attributes\":{\"coordinates\":null,\"formatter\":{\"id\":\"1196\"},\"group\":null,\"major_label_policy\":{\"id\":\"1197\"},\"ticker\":{\"id\":\"1061\"}},\"id\":\"1060\",\"type\":\"LinearAxis\"},{\"attributes\":{\"fill_alpha\":{\"value\":0.3},\"fill_color\":{\"value\":\"#1f77b4\"},\"hatch_alpha\":{\"value\":0.3},\"line_alpha\":{\"value\":0.3},\"line_color\":{\"value\":\"#1f77b4\"},\"x\":{\"field\":\"x\"},\"y\":{\"field\":\"y\"}},\"id\":\"1080\",\"type\":\"Scatter\"},{\"attributes\":{},\"id\":\"1061\",\"type\":\"BasicTicker\"},{\"attributes\":{},\"id\":\"1050\",\"type\":\"DataRange1d\"},{\"attributes\":{},\"id\":\"1201\",\"type\":\"UnionRenderers\"},{\"attributes\":{},\"id\":\"1054\",\"type\":\"LinearScale\"},{\"attributes\":{\"axis\":{\"id\":\"1056\"},\"coordinates\":null,\"group\":null,\"ticker\":null},\"id\":\"1059\",\"type\":\"Grid\"},{\"attributes\":{},\"id\":\"1057\",\"type\":\"BasicTicker\"},{\"attributes\":{},\"id\":\"1069\",\"type\":\"HelpTool\"}],\"root_ids\":[\"1238\"]},\"title\":\"Bokeh Application\",\"version\":\"2.4.3\"}};\n",
       "  const render_items = [{\"docid\":\"0da6fa74-759d-4b36-a0e2-0c475b9e52f3\",\"root_ids\":[\"1238\"],\"roots\":{\"1238\":\"988cc8af-d20b-4cb3-8fe2-3cded99b0dac\"}}];\n",
       "  root.Bokeh.embed.embed_items_notebook(docs_json, render_items);\n",
       "  }\n",
       "  if (root.Bokeh !== undefined) {\n",
       "    embed_document(root);\n",
       "  } else {\n",
       "    let attempts = 0;\n",
       "    const timer = setInterval(function(root) {\n",
       "      if (root.Bokeh !== undefined) {\n",
       "        clearInterval(timer);\n",
       "        embed_document(root);\n",
       "      } else {\n",
       "        attempts++;\n",
       "        if (attempts > 100) {\n",
       "          clearInterval(timer);\n",
       "          console.log(\"Bokeh: ERROR: Unable to run BokehJS code because BokehJS library is missing\");\n",
       "        }\n",
       "      }\n",
       "    }, 10, root)\n",
       "  }\n",
       "})(window);"
      ],
      "application/vnd.bokehjs_exec.v0+json": ""
     },
     "metadata": {
      "application/vnd.bokehjs_exec.v0+json": {
       "id": "1238"
      }
     },
     "output_type": "display_data"
    }
   ],
   "source": [
    "show(gridplot([\n",
    "    [plot_lwr(10.), plot_lwr(1.)],\n",
    "    [plot_lwr(0.1), plot_lwr(0.01)]\n",
    "]))"
   ]
  },
  {
   "cell_type": "markdown",
   "metadata": {},
   "source": [
    "# Let's do some interactive plotting"
   ]
  },
  {
   "cell_type": "code",
   "execution_count": 9,
   "metadata": {},
   "outputs": [
    {
     "data": {
      "text/html": [
       "\n",
       "  <div class=\"bk-root\" id=\"1cdaf3aa-67b0-4cf2-8e85-fd1ce4437c54\" data-root-id=\"1551\"></div>\n"
      ]
     },
     "metadata": {},
     "output_type": "display_data"
    },
    {
     "data": {
      "application/javascript": [
       "(function(root) {\n",
       "  function embed_document(root) {\n",
       "  const docs_json = {\"f369959a-a680-4372-af3a-cb0aaecff059\":{\"defs\":[],\"roots\":{\"references\":[{\"attributes\":{\"below\":[{\"id\":\"1560\"}],\"center\":[{\"id\":\"1563\"},{\"id\":\"1567\"}],\"left\":[{\"id\":\"1564\"}],\"renderers\":[{\"id\":\"1586\"},{\"id\":\"1592\"}],\"title\":{\"id\":\"1646\"},\"toolbar\":{\"id\":\"1575\"},\"x_range\":{\"id\":\"1552\"},\"x_scale\":{\"id\":\"1556\"},\"y_range\":{\"id\":\"1554\"},\"y_scale\":{\"id\":\"1558\"}},\"id\":\"1551\",\"subtype\":\"Figure\",\"type\":\"Plot\"},{\"attributes\":{},\"id\":\"1654\",\"type\":\"UnionRenderers\"},{\"attributes\":{\"data\":{\"x\":{\"__ndarray__\":\"PK0qPAiiB8DBmkzd/9AIwLloOZlcVwXAilpfj7wRBsBF+SkLHAEHwEEibzT87wTAy6SRMSqJBcDNqje7GT0DwJGlsikbjgPAWP9LEAtHAsDPXxo9yMcDwOvvDmuuGgPAka/aypzkAcDIs7j24osBwC3U8efoZgHATxCSUh91AcDK1Y6RycEBwOTdNyCQpADAfxZyuB0eAMDcC/jNjoT+v+2qnJmypf2/2pehzAZj/L8jyAlKB/H5v2lVb/4GEfu/zo3/ZLQa+L/YZUkC9Pn3vyPntaOih/e/vZIGGkqh8r8+zN6MG6zyv7rSjYlqu/O/QTKvGM2x8r8A8kBULcDzvyVSVLdeGu6/pKyD9imV7b8/ZUKueRPuv2bPpr3gG+q/aTD+uxth6b8N9xyDV/rpvxSB8ijnD+a/OZdWysWA578NOciBWozov0JGa0uNvOG/1YBHQlPd4b/VvQZRarvJv/ixYgpfdNS/pXz9EQEd0b/5kd1CAobLvxjhmC6Jwby/rDOTeePhub9wQTDY9qOeP4YEcvP61KA/QBJB41qzqb+EkMPWMH7UP7iYFMr0eLc/h0RmCvdc0T88Ewx8svvUP1MjMBHmqdc/XeT1k7V00j8S5cDcWLvZP0q5l4rsquQ/Ejz0Ptj54z+f2PzMrxbkP10y/GaxguY/dJTOkJuK7j9H4AX4MJvrPwRWwKOqU/I/9NGtUjK/6z8N8m52qxfwP3Ec0yHaEvE/QxvAnNzN8T+ExIHVy3PzPzuZT1huEvQ/V/5cDIsK9T+zZpqngoz0P959lZTduvo/s8uIwARy9j8cljAtsdH3P5AmKP7zAfo/QRbtEtrt+z891NWjWn/8P/SAGobx+v0/DS7aqgTw/T/qNhUaHaAAQAsWVdMlSQBASb59QZ1MAECZonY+LYQBQIRu/GqbAAJAerrgy2cVAkC4TphoN4kBQCM4obbOhQJAKobjSsz4A0C3Q5TW/oACQCB7O2oy7wRANC985Yb1BUAijkm2cukEQCggxnawOAZApMAv4At5BkAnnFm8S70GQFpJrzq7UAhA9UxTsjL3B0A=\",\"dtype\":\"float64\",\"order\":\"little\",\"shape\":[100]},\"y\":{\"__ndarray__\":\"/vA7AtseAUCQdrJLPMYAQOeYsiKKawBAEVHMs6kOAEB77BUA/F7/P7P1CzvPm/4/CMnc3IjT/T+eSJ6Z3gX9P/XOm1F/Mvw/GSNqLRJZ+z9cqMqSNXn6P8sI4+l9kvk/lukRKHSk+D+VU7gSlK73P3fOZyhKsPY/Sp+nGfGo9T+qdmazzpf0P9HRZhMQfPM/EX1V8cRU8j/Hw/iz2SDxP/KMftwfvu8/FM4Rb+kb7T8ba4wsqFfqP+pIpbBQbec/ruLTSgdY5D/5TRlm4hHhPyQ6LhwoJ9s/dAZpv9qn0z+3MxDolhzHP8Y5ZNPs26U/15FU4hHqu7+jRSetps7Rv6HxBnqMF96/7zn6/kIu5r+yEB0aTdnev2BSrqw0V9S/PJNl8dDCx7/HwHUl46izvztP4be18Yw/NsaAqyY+tz8FyllzwO7DPwpMM8JC+so/HLT6kAl30D8Tk9uE0/XSP2rdD+w1BtU/3/cPQ+Cx1j9YwQT8JQDYP/Edw6hz9tg/Lkpj6p6Y2T/fzpV1G+nZP9/OlXUb6dk/Lkpj6p6Y2T/xHcOoc/bYP1PBBPwlANg/3/cPQ+Cx1j9n3Q/sNQbVPxOT24TT9dI/HLT6kAl30D8KTDPCQvrKPwXKWXPA7sM/CsaAqyY+tz8/TuG3tfGMP/vAdSXjqLO/PJNl8dDCx79gUq6sNFfUv7IQHRpN2d6/7zn6/kIu5r+h8QZ6jBfev6NFJ62mztG/15FU4hHqu79qOWTT7NulP6MzEOiWHMc/awZpv9qn0z80Oi4cKCfbPwBOGWbiEeE/tOLTSgdY5D/wSKWwUG3nPyBrjCyoV+o/F84Rb+kb7T/0jH7cH77vP8nD+LPZIPE/EX1V8cRU8j/R0WYTEHzzP6p2ZrPOl/Q/Sp+nGfGo9T93zmcoSrD2P5VTuBKUrvc/lukRKHSk+D/PCOPpfZL5P12oypI1efo/GyNqLRJZ+z/3zptRfzL8P59InpneBf0/Ccnc3IjT/T+19Qs7z5v+P3vsFQD8Xv8/EVHMs6kOAEDnmLIiimsAQJB2sks8xgBA/vA7AtseAUA=\",\"dtype\":\"float64\",\"order\":\"little\",\"shape\":[100]}},\"selected\":{\"id\":\"1655\"},\"selection_policy\":{\"id\":\"1654\"}},\"id\":\"1582\",\"type\":\"ColumnDataSource\"},{\"attributes\":{\"fill_alpha\":{\"value\":0.3},\"fill_color\":{\"value\":\"#1f77b4\"},\"hatch_alpha\":{\"value\":0.3},\"line_alpha\":{\"value\":0.3},\"line_color\":{\"value\":\"#1f77b4\"},\"x\":{\"field\":\"x\"},\"y\":{\"field\":\"y\"}},\"id\":\"1583\",\"type\":\"Scatter\"},{\"attributes\":{},\"id\":\"1655\",\"type\":\"Selection\"},{\"attributes\":{\"data\":{\"x\":{\"__ndarray__\":\"AAAAAAAACMCEDz744IMHwAgffPDBBwfAjC666KKLBsAQPvjggw8GwJNNNtlkkwXAF1100UUXBcCbbLLJJpsEwB988MEHHwTAo4suuuiiA8Anm2yyySYDwKqqqqqqqgLALrrooosuAsCyySabbLIBwDbZZJNNNgHAuuiiiy66AMA++OCDDz4AwIQPPvjgg/+/jC666KKL/r+TTTbZZJP9v5tssskmm/y/o4suuuii+7+qqqqqqqr6v7LJJptssvm/uuiiiy66+L/CBx988MH3v8omm2yyyfa/0UUXXXTR9b/ZZJNNNtn0v+GDDz744PO/6KKLLrro8r/wwQcffPDxv/jggw8++PC/AAAAAAAA8L8QPvjggw/uvyB88MEHH+y/MLrooosu6r88+OCDDz7ov0w22WSTTea/XHTRRRdd5L9ssskmm2ziv3zwwQcffOC/GF100UUX3b842WSTTTbZv1BVVVVVVdW/cNFFF1100b8gm2yyySbLv2CTTTbZZMO/QBdddNFFt78AH3zwwQefvwAffPDBB58/QBdddNFFtz9gk0022WTDPzCbbLLJJss/eNFFF1100T9YVVVVVVXVPzjZZJNNNtk/GF100UUX3T988MEHH3zgP2yyySabbOI/YHTRRRdd5D9QNtlkk03mP0D44IMPPug/MLrooosu6j8gfPDBBx/sPxA++OCDD+4/AAAAAAAA8D/44IMPPvjwP/DBBx988PE/6KKLLrro8j/ggw8++ODzP9hkk0022fQ/0EUXXXTR9T/MJptsssn2P8QHH3zwwfc/vOiiiy66+D+0ySabbLL5P6yqqqqqqvo/pIsuuuii+z+cbLLJJpv8P5RNNtlkk/0/jC666KKL/j+EDz744IP/Pz744IMPPgBAuuiiiy66AEA22WSTTTYBQLLJJptssgFALrrooosuAkCsqqqqqqoCQCibbLLJJgNApIsuuuiiA0AgfPDBBx8EQJxssskmmwRAGF100UUXBUCUTTbZZJMFQBA++OCDDwZAjC666KKLBkAIH3zwwQcHQIQPPvjggwdAAAAAAAAACEA=\",\"dtype\":\"float64\",\"order\":\"little\",\"shape\":[100]},\"y\":[2.2138041546844027,2.1483689331102913,2.082675129333637,2.016823074156802,1.9509161852941415,1.8850603493662406,1.8193632900476555,1.753933930749846,1.688881759584811,1.624316203572013,1.5603460181713638,1.4970786972971108,1.434619908036451,1.3730729533991648,1.3125382655914863,1.2531129315600609,1.1948902519042324,1.1379593337148635,1.0824047174677434,1.028306037779767,0.9757377176256565,0.9247686955127961,0.8754621851253388,0.8278754670825692,0.7820597127200946,0.7380598402058985,0.6959144038546738,0.6556555182041408,0.617308819255404,0.5808934662267553,0.5464221881748078,0.5139013808195837,0.4833312597652085,0.45470607690490533,0.4280144069920639,0.40323951100005934,0.3803597818495683,0.3593492762579723,0.34017833382390494,0.3228142810411003,0.30722221386817555,0.29336584798407755,0.2812084212315805,0.27071362834913193,0.2618465642925308,0.2545746496122202,0.24886850977883923,0.24470278024129435,0.24205681043679458,0.24091524289521601,0.24126844780585385,0.24311279864983418,0.24645078037808354,0.25129092772981143,0.2576475972439098,0.26554058196355507,0.27499458249368425,0.28603855175388404,0.29870493338436277,0.31302881531082033,0.32904702053423324,0.346797156921541,0.3663166468069811,0.38764175575945914,0.41080663811133106,0.43584241493935616,0.46277629826890143,0.4916307734301509,0.5224228497854255,0.5551633884913407,0.5898565145528981,0.6264991191438624,0.6650804569732544,0.7055818423326106,0.7479764463270965,0.7922291966478759,0.8382967800661054,0.8861277466151294,0.9356627131825033,0.9868346629727934,1.0395693360485152,1.0937857049374065,1.1493965281396552,1.2063089733083276,1.264425300937986,1.3236435986050166,1.3838585551784202,1.4449622639773345,1.5068450436009582,1.5693962651033566,1.6325051743292747,1.6960616985633385,1.7599572271647248,1.8240853565495012,1.8883425907276088,1.952628989580036,2.0168487581534604,2.080910771428318,2.144729030257111,2.208223045444228]},\"selected\":{\"id\":\"1657\"},\"selection_policy\":{\"id\":\"1656\"}},\"id\":\"1588\",\"type\":\"ColumnDataSource\"},{\"attributes\":{\"source\":{\"id\":\"1588\"}},\"id\":\"1593\",\"type\":\"CDSView\"},{\"attributes\":{},\"id\":\"1569\",\"type\":\"WheelZoomTool\"},{\"attributes\":{},\"id\":\"1554\",\"type\":\"DataRange1d\"},{\"attributes\":{\"fill_alpha\":{\"value\":0.1},\"fill_color\":{\"value\":\"#1f77b4\"},\"hatch_alpha\":{\"value\":0.1},\"line_alpha\":{\"value\":0.1},\"line_color\":{\"value\":\"#1f77b4\"},\"x\":{\"field\":\"x\"},\"y\":{\"field\":\"y\"}},\"id\":\"1584\",\"type\":\"Scatter\"},{\"attributes\":{\"coordinates\":null,\"data_source\":{\"id\":\"1588\"},\"glyph\":{\"id\":\"1589\"},\"group\":null,\"hover_glyph\":null,\"muted_glyph\":{\"id\":\"1591\"},\"nonselection_glyph\":{\"id\":\"1590\"},\"view\":{\"id\":\"1593\"}},\"id\":\"1592\",\"type\":\"GlyphRenderer\"},{\"attributes\":{},\"id\":\"1573\",\"type\":\"HelpTool\"},{\"attributes\":{\"line_alpha\":0.2,\"line_color\":\"red\",\"line_width\":2,\"x\":{\"field\":\"x\"},\"y\":{\"field\":\"y\"}},\"id\":\"1591\",\"type\":\"Line\"},{\"attributes\":{\"line_alpha\":0.1,\"line_color\":\"red\",\"line_width\":2,\"x\":{\"field\":\"x\"},\"y\":{\"field\":\"y\"}},\"id\":\"1590\",\"type\":\"Line\"},{\"attributes\":{\"coordinates\":null,\"data_source\":{\"id\":\"1582\"},\"glyph\":{\"id\":\"1583\"},\"group\":null,\"hover_glyph\":null,\"muted_glyph\":{\"id\":\"1585\"},\"nonselection_glyph\":{\"id\":\"1584\"},\"view\":{\"id\":\"1587\"}},\"id\":\"1586\",\"type\":\"GlyphRenderer\"},{\"attributes\":{\"axis\":{\"id\":\"1564\"},\"coordinates\":null,\"dimension\":1,\"group\":null,\"ticker\":null},\"id\":\"1567\",\"type\":\"Grid\"},{\"attributes\":{},\"id\":\"1556\",\"type\":\"LinearScale\"},{\"attributes\":{\"coordinates\":null,\"formatter\":{\"id\":\"1649\"},\"group\":null,\"major_label_policy\":{\"id\":\"1650\"},\"ticker\":{\"id\":\"1565\"}},\"id\":\"1564\",\"type\":\"LinearAxis\"},{\"attributes\":{},\"id\":\"1656\",\"type\":\"UnionRenderers\"},{\"attributes\":{},\"id\":\"1649\",\"type\":\"BasicTickFormatter\"},{\"attributes\":{\"coordinates\":null,\"formatter\":{\"id\":\"1652\"},\"group\":null,\"major_label_policy\":{\"id\":\"1653\"},\"ticker\":{\"id\":\"1561\"}},\"id\":\"1560\",\"type\":\"LinearAxis\"},{\"attributes\":{},\"id\":\"1657\",\"type\":\"Selection\"},{\"attributes\":{},\"id\":\"1561\",\"type\":\"BasicTicker\"},{\"attributes\":{},\"id\":\"1650\",\"type\":\"AllLabels\"},{\"attributes\":{\"source\":{\"id\":\"1582\"}},\"id\":\"1587\",\"type\":\"CDSView\"},{\"attributes\":{},\"id\":\"1558\",\"type\":\"LinearScale\"},{\"attributes\":{},\"id\":\"1652\",\"type\":\"BasicTickFormatter\"},{\"attributes\":{\"axis\":{\"id\":\"1560\"},\"coordinates\":null,\"group\":null,\"ticker\":null},\"id\":\"1563\",\"type\":\"Grid\"},{\"attributes\":{\"fill_alpha\":{\"value\":0.2},\"fill_color\":{\"value\":\"#1f77b4\"},\"hatch_alpha\":{\"value\":0.2},\"line_alpha\":{\"value\":0.2},\"line_color\":{\"value\":\"#1f77b4\"},\"x\":{\"field\":\"x\"},\"y\":{\"field\":\"y\"}},\"id\":\"1585\",\"type\":\"Scatter\"},{\"attributes\":{\"overlay\":{\"id\":\"1574\"}},\"id\":\"1570\",\"type\":\"BoxZoomTool\"},{\"attributes\":{\"coordinates\":null,\"group\":null},\"id\":\"1646\",\"type\":\"Title\"},{\"attributes\":{},\"id\":\"1571\",\"type\":\"SaveTool\"},{\"attributes\":{},\"id\":\"1653\",\"type\":\"AllLabels\"},{\"attributes\":{},\"id\":\"1572\",\"type\":\"ResetTool\"},{\"attributes\":{\"line_color\":\"red\",\"line_width\":2,\"x\":{\"field\":\"x\"},\"y\":{\"field\":\"y\"}},\"id\":\"1589\",\"type\":\"Line\"},{\"attributes\":{\"bottom_units\":\"screen\",\"coordinates\":null,\"fill_alpha\":0.5,\"fill_color\":\"lightgrey\",\"group\":null,\"left_units\":\"screen\",\"level\":\"overlay\",\"line_alpha\":1.0,\"line_color\":\"black\",\"line_dash\":[4,4],\"line_width\":2,\"right_units\":\"screen\",\"syncable\":false,\"top_units\":\"screen\"},\"id\":\"1574\",\"type\":\"BoxAnnotation\"},{\"attributes\":{},\"id\":\"1552\",\"type\":\"DataRange1d\"},{\"attributes\":{\"tools\":[{\"id\":\"1568\"},{\"id\":\"1569\"},{\"id\":\"1570\"},{\"id\":\"1571\"},{\"id\":\"1572\"},{\"id\":\"1573\"}]},\"id\":\"1575\",\"type\":\"Toolbar\"},{\"attributes\":{},\"id\":\"1565\",\"type\":\"BasicTicker\"},{\"attributes\":{},\"id\":\"1568\",\"type\":\"PanTool\"}],\"root_ids\":[\"1551\"]},\"title\":\"Bokeh Application\",\"version\":\"2.4.3\"}};\n",
       "  const render_items = [{\"docid\":\"f369959a-a680-4372-af3a-cb0aaecff059\",\"notebook_comms_target\":\"1659\",\"root_ids\":[\"1551\"],\"roots\":{\"1551\":\"1cdaf3aa-67b0-4cf2-8e85-fd1ce4437c54\"}}];\n",
       "  root.Bokeh.embed.embed_items_notebook(docs_json, render_items);\n",
       "  }\n",
       "  if (root.Bokeh !== undefined) {\n",
       "    embed_document(root);\n",
       "  } else {\n",
       "    let attempts = 0;\n",
       "    const timer = setInterval(function(root) {\n",
       "      if (root.Bokeh !== undefined) {\n",
       "        clearInterval(timer);\n",
       "        embed_document(root);\n",
       "      } else {\n",
       "        attempts++;\n",
       "        if (attempts > 100) {\n",
       "          clearInterval(timer);\n",
       "          console.log(\"Bokeh: ERROR: Unable to run BokehJS code because BokehJS library is missing\");\n",
       "        }\n",
       "      }\n",
       "    }, 10, root)\n",
       "  }\n",
       "})(window);"
      ],
      "application/vnd.bokehjs_exec.v0+json": ""
     },
     "metadata": {
      "application/vnd.bokehjs_exec.v0+json": {
       "id": "1551"
      }
     },
     "output_type": "display_data"
    },
    {
     "data": {
      "text/html": [
       "<p><code>&lt;Bokeh Notebook handle for <strong>In[9]</strong>&gt;</code></p>"
      ],
      "text/plain": [
       "<bokeh.io.notebook.CommsHandle at 0x7fc8114c2f70>"
      ]
     },
     "execution_count": 9,
     "metadata": {},
     "output_type": "execute_result"
    }
   ],
   "source": [
    "def interactive_update(tau):\n",
    "    model.data_source.data['y'] = [local_regression(x0, x, y, tau) for x0 in domain]\n",
    "    push_notebook()\n",
    "\n",
    "domain = np.linspace(-3, 3, num=100)\n",
    "prediction = [local_regression(x0, x, y, 1.) for x0 in domain]\n",
    "\n",
    "plot = figure()\n",
    "plot.scatter(x, y, alpha=.3)\n",
    "model = plot.line(domain, prediction, line_width=2, color='red')\n",
    "show(plot, notebook_handle=True)"
   ]
  },
  {
   "cell_type": "code",
   "execution_count": 10,
   "metadata": {},
   "outputs": [
    {
     "data": {
      "application/vnd.jupyter.widget-view+json": {
       "model_id": "00f238711ff1442abc0c437452d4c70d",
       "version_major": 2,
       "version_minor": 0
      },
      "text/plain": [
       "interactive(children=(FloatSlider(value=15.025, description='tau', max=30.0, min=0.05, step=0.001), Output()),…"
      ]
     },
     "metadata": {},
     "output_type": "display_data"
    },
    {
     "data": {
      "text/plain": [
       "<function __main__.interactive_update(tau)>"
      ]
     },
     "execution_count": 10,
     "metadata": {},
     "output_type": "execute_result"
    }
   ],
   "source": [
    "interact(interactive_update, tau=(0.05, 30., 0.001))"
   ]
  },
  {
   "cell_type": "code",
   "execution_count": null,
   "metadata": {},
   "outputs": [],
   "source": []
  },
  {
   "cell_type": "code",
   "execution_count": null,
   "metadata": {},
   "outputs": [],
   "source": []
  }
 ],
 "metadata": {
  "kernelspec": {
   "display_name": "Python 3 (ipykernel)",
   "language": "python",
   "name": "python3"
  },
  "language_info": {
   "codemirror_mode": {
    "name": "ipython",
    "version": 3
   },
   "file_extension": ".py",
   "mimetype": "text/x-python",
   "name": "python",
   "nbconvert_exporter": "python",
   "pygments_lexer": "ipython3",
   "version": "3.9.13"
  }
 },
 "nbformat": 4,
 "nbformat_minor": 4
}
