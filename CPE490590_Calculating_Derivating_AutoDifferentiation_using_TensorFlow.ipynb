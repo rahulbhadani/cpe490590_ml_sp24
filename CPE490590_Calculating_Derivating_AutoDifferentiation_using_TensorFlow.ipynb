{
  "cells": [
    {
      "cell_type": "markdown",
      "metadata": {},
      "source": [
        "# Calculating Partial Derivative of a Function With Respect to Some Variables uing Auto Differentiation from TensorFlow\n",
        "## Rahul Bhadani"
      ]
    },
    {
      "cell_type": "markdown",
      "metadata": {},
      "source": [
        "# Define the Function"
      ]
    },
    {
      "cell_type": "markdown",
      "metadata": {},
      "source": [
        "$$\n",
        "y = x^3 + z^2\n",
        "$$\n",
        "\n",
        "The objective is to find the partial derivative of $y$ with respect $x$ and $y$ separately."
      ]
    },
    {
      "cell_type": "code",
      "execution_count": 1,
      "metadata": {
        "id": "_Tgd5aKJ6zAf"
      },
      "outputs": [
        {
          "name": "stderr",
          "output_type": "stream",
          "text": [
            "2024-02-12 13:56:44.728399: I tensorflow/core/util/port.cc:113] oneDNN custom operations are on. You may see slightly different numerical results due to floating-point round-off errors from different computation orders. To turn them off, set the environment variable `TF_ENABLE_ONEDNN_OPTS=0`.\n",
            "2024-02-12 13:56:44.731518: I external/local_tsl/tsl/cuda/cudart_stub.cc:31] Could not find cuda drivers on your machine, GPU will not be used.\n",
            "2024-02-12 13:56:44.769958: E external/local_xla/xla/stream_executor/cuda/cuda_dnn.cc:9261] Unable to register cuDNN factory: Attempting to register factory for plugin cuDNN when one has already been registered\n",
            "2024-02-12 13:56:44.769986: E external/local_xla/xla/stream_executor/cuda/cuda_fft.cc:607] Unable to register cuFFT factory: Attempting to register factory for plugin cuFFT when one has already been registered\n",
            "2024-02-12 13:56:44.770972: E external/local_xla/xla/stream_executor/cuda/cuda_blas.cc:1515] Unable to register cuBLAS factory: Attempting to register factory for plugin cuBLAS when one has already been registered\n",
            "2024-02-12 13:56:44.776881: I external/local_tsl/tsl/cuda/cudart_stub.cc:31] Could not find cuda drivers on your machine, GPU will not be used.\n",
            "2024-02-12 13:56:44.777290: I tensorflow/core/platform/cpu_feature_guard.cc:182] This TensorFlow binary is optimized to use available CPU instructions in performance-critical operations.\n",
            "To enable the following instructions: AVX2 AVX512F AVX512_VNNI FMA, in other operations, rebuild TensorFlow with the appropriate compiler flags.\n",
            "2024-02-12 13:56:45.464470: W tensorflow/compiler/tf2tensorrt/utils/py_utils.cc:38] TF-TRT Warning: Could not find TensorRT\n"
          ]
        }
      ],
      "source": [
        "import tensorflow as tf\n",
        "import matplotlib.pyplot as plt\n",
        "import numpy as np\n",
        "plt.rcParams['font.family'] = 'Serif'\n",
        "plt.rcParams['font.size'] = 15"
      ]
    },
    {
      "cell_type": "code",
      "execution_count": 6,
      "metadata": {
        "colab": {
          "base_uri": "https://localhost:8080/"
        },
        "id": "yCFfrVbZ8KTY",
        "outputId": "371e3d6c-e0ac-498e-f313-eb40a7c59bd2"
      },
      "outputs": [],
      "source": [
        "x = tf.Variable(3.0)\n",
        "z = tf.Variable(2.0)\n",
        "\n",
        "with tf.GradientTape() as tape:\n",
        "  y = x**3 + z**2\n"
      ]
    },
    {
      "cell_type": "markdown",
      "metadata": {},
      "source": [
        "# Get the partial derivative"
      ]
    },
    {
      "cell_type": "code",
      "execution_count": 7,
      "metadata": {
        "colab": {
          "base_uri": "https://localhost:8080/"
        },
        "id": "h-X2QL0-ANzH",
        "outputId": "55035296-9841-4226-f988-ea8d7dd773cb"
      },
      "outputs": [
        {
          "data": {
            "text/plain": [
              "[<tf.Tensor: shape=(), dtype=float32, numpy=27.0>,\n",
              " <tf.Tensor: shape=(), dtype=float32, numpy=4.0>]"
            ]
          },
          "execution_count": 7,
          "metadata": {},
          "output_type": "execute_result"
        }
      ],
      "source": [
        "dy_dx = tape.gradient(y, [x, z])\n",
        "dy_dx"
      ]
    },
    {
      "cell_type": "markdown",
      "metadata": {},
      "source": [
        "# We see that $ \\cfrac{\\partial y}{\\partial x} = 3x^2 $ at $ x = 3.0$ is $27$ which is what we got."
      ]
    },
    {
      "cell_type": "markdown",
      "metadata": {},
      "source": [
        "# We see that $ \\cfrac{\\partial y}{\\partial z} = 2z $ at $ z = 2.0$ is $4$ which is what we got."
      ]
    }
  ],
  "metadata": {
    "colab": {
      "provenance": []
    },
    "kernelspec": {
      "display_name": "streamkernel",
      "language": "python",
      "name": "streamkernel"
    },
    "language_info": {
      "codemirror_mode": {
        "name": "ipython",
        "version": 3
      },
      "file_extension": ".py",
      "mimetype": "text/x-python",
      "name": "python",
      "nbconvert_exporter": "python",
      "pygments_lexer": "ipython3",
      "version": "3.10.6"
    }
  },
  "nbformat": 4,
  "nbformat_minor": 0
}
