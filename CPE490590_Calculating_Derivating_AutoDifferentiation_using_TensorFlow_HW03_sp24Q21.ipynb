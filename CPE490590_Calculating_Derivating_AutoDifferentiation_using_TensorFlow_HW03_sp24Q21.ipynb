{
  "cells": [
    {
      "cell_type": "markdown",
      "metadata": {},
      "source": [
        "# Calculating Partial Derivative of a Function With Respect to Some Variables uing Auto Differentiation from TensorFlow\n",
        "## Rahul Bhadani"
      ]
    },
    {
      "cell_type": "markdown",
      "metadata": {},
      "source": [
        "Consider a function \n",
        "\\begin{equation}\n",
        "     f(x, y, z) = 20 z^3 + 12yz - xy \n",
        "\\end{equation}\n",
        "\n",
        "Compute their partial derivative (i.e. gradient) at $ x= 3.0$, $y = 9.0$, and $z =  2.0$ using TensorFlow GradientTape. Verify your answer by doing your own calculation by hand."
      ]
    },
    {
      "cell_type": "code",
      "execution_count": 10,
      "metadata": {
        "id": "_Tgd5aKJ6zAf"
      },
      "outputs": [],
      "source": [
        "import tensorflow as tf\n",
        "import matplotlib.pyplot as plt\n",
        "import numpy as np\n",
        "plt.rcParams['font.family'] = 'Serif'\n",
        "plt.rcParams['font.size'] = 15"
      ]
    },
    {
      "cell_type": "code",
      "execution_count": 11,
      "metadata": {
        "colab": {
          "base_uri": "https://localhost:8080/"
        },
        "id": "yCFfrVbZ8KTY",
        "outputId": "371e3d6c-e0ac-498e-f313-eb40a7c59bd2"
      },
      "outputs": [],
      "source": [
        "x = tf.Variable(3.0)\n",
        "y = tf.Variable(9.0)\n",
        "z = tf.Variable(2.0)\n",
        "\n",
        "with tf.GradientTape() as tape:\n",
        "  f = 20 * z**3 + 12 * y * z - x * y\n"
      ]
    },
    {
      "cell_type": "markdown",
      "metadata": {},
      "source": [
        "# Get the partial derivative"
      ]
    },
    {
      "cell_type": "code",
      "execution_count": 12,
      "metadata": {
        "colab": {
          "base_uri": "https://localhost:8080/"
        },
        "id": "h-X2QL0-ANzH",
        "outputId": "55035296-9841-4226-f988-ea8d7dd773cb"
      },
      "outputs": [
        {
          "name": "stdout",
          "output_type": "stream",
          "text": [
            "The gradient at x=3.0, y=9.0, z=2.0 is  [-9.0, 21.0, 348.0]\n"
          ]
        }
      ],
      "source": [
        "grads = tape.gradient(f, [x, y, z])\n",
        "print(\"The gradient at x=3.0, y=9.0, z=2.0 is \", [g.numpy() for g in grads])"
      ]
    }
  ],
  "metadata": {
    "colab": {
      "provenance": []
    },
    "kernelspec": {
      "display_name": "streamkernel",
      "language": "python",
      "name": "streamkernel"
    },
    "language_info": {
      "codemirror_mode": {
        "name": "ipython",
        "version": 3
      },
      "file_extension": ".py",
      "mimetype": "text/x-python",
      "name": "python",
      "nbconvert_exporter": "python",
      "pygments_lexer": "ipython3",
      "version": "3.10.6"
    }
  },
  "nbformat": 4,
  "nbformat_minor": 0
}
