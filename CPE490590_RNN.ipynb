{
 "cells": [
  {
   "cell_type": "markdown",
   "metadata": {},
   "source": [
    "# Recurrent Neural Network in PyTorch\n",
    "## CPE 490 590 Spring 2024\n",
    "### Author: Rahul Bhadani"
   ]
  },
  {
   "cell_type": "code",
   "execution_count": 1,
   "metadata": {},
   "outputs": [],
   "source": [
    "import pandas as pd\n",
    "import numpy as np\n",
    "import matplotlib.pyplot as plt\n",
    "import torch\n",
    "import torch.nn as nn\n",
    "from torch.autograd import Variable\n",
    "import math"
   ]
  },
  {
   "cell_type": "code",
   "execution_count": 2,
   "metadata": {},
   "outputs": [
    {
     "data": {
      "text/plain": [
       "<matplotlib.collections.PathCollection at 0x7f2dcaba0e20>"
      ]
     },
     "execution_count": 2,
     "metadata": {},
     "output_type": "execute_result"
    },
    {
     "data": {
      "image/png": "[encoded data removed]",
      "text/plain": [
       "<Figure size 2800x300 with 1 Axes>"
      ]
     },
     "metadata": {},
     "output_type": "display_data"
    }
   ],
   "source": [
    "dataset = pd.read_csv('./Dataset/Timeseries/power_solar_minutely.csv')\n",
    "dataset = dataset.iloc[0:7000]\n",
    "dataset['ds'] = pd.to_datetime(dataset['ds'])  # Convert timestamp to datetime\n",
    "dataset['y'] = (dataset['y'] - dataset['y'].mean()) / dataset['y'].std()  # Normalize 'y'\n",
    "\n",
    "plt.rcParams['font.family'] = 'Serif'\n",
    "plt.rcParams['font.size'] = 15\n",
    "\n",
    "# Create the plot\n",
    "plt.figure(figsize=(28, 3))  # Increase the size of the plot\n",
    "\n",
    "plt.scatter(dataset['ds'].iloc[0:4000], dataset['y'].iloc[0:4000], s= 1)"
   ]
  },
  {
   "cell_type": "code",
   "execution_count": 3,
   "metadata": {},
   "outputs": [
    {
     "data": {
      "text/html": [
       "<div>\n",
       "<style scoped>\n",
       "    .dataframe tbody tr th:only-of-type {\n",
       "        vertical-align: middle;\n",
       "    }\n",
       "\n",
       "    .dataframe tbody tr th {\n",
       "        vertical-align: top;\n",
       "    }\n",
       "\n",
       "    .dataframe thead th {\n",
       "        text-align: right;\n",
       "    }\n",
       "</style>\n",
       "<table border=\"1\" class=\"dataframe\">\n",
       "  <thead>\n",
       "    <tr style=\"text-align: right;\">\n",
       "      <th></th>\n",
       "      <th>ds</th>\n",
       "      <th>y</th>\n",
       "    </tr>\n",
       "  </thead>\n",
       "  <tbody>\n",
       "    <tr>\n",
       "      <th>0</th>\n",
       "      <td>2019-08-01 00:00:00</td>\n",
       "      <td>-0.706877</td>\n",
       "    </tr>\n",
       "    <tr>\n",
       "      <th>1</th>\n",
       "      <td>2019-08-01 00:01:00</td>\n",
       "      <td>-0.706877</td>\n",
       "    </tr>\n",
       "    <tr>\n",
       "      <th>2</th>\n",
       "      <td>2019-08-01 00:02:00</td>\n",
       "      <td>-0.706877</td>\n",
       "    </tr>\n",
       "    <tr>\n",
       "      <th>3</th>\n",
       "      <td>2019-08-01 00:03:00</td>\n",
       "      <td>-0.706877</td>\n",
       "    </tr>\n",
       "    <tr>\n",
       "      <th>4</th>\n",
       "      <td>2019-08-01 00:04:00</td>\n",
       "      <td>-0.706877</td>\n",
       "    </tr>\n",
       "  </tbody>\n",
       "</table>\n",
       "</div>"
      ],
      "text/plain": [
       "                   ds         y\n",
       "0 2019-08-01 00:00:00 -0.706877\n",
       "1 2019-08-01 00:01:00 -0.706877\n",
       "2 2019-08-01 00:02:00 -0.706877\n",
       "3 2019-08-01 00:03:00 -0.706877\n",
       "4 2019-08-01 00:04:00 -0.706877"
      ]
     },
     "execution_count": 3,
     "metadata": {},
     "output_type": "execute_result"
    }
   ],
   "source": [
    "dataset.head()"
   ]
  },
  {
   "cell_type": "code",
   "execution_count": 4,
   "metadata": {},
   "outputs": [
    {
     "name": "stdout",
     "output_type": "stream",
     "text": [
      "(5600, 2) (1400, 2)\n"
     ]
    }
   ],
   "source": [
    "training_data_len = math.ceil(len(dataset) * .8)\n",
    "training_data_len\n",
    " \n",
    "#Splitting the dataset\n",
    "train_data = dataset[:training_data_len]\n",
    "test_data = dataset[training_data_len:]\n",
    "print(train_data.shape, test_data.shape)"
   ]
  },
  {
   "cell_type": "code",
   "execution_count": 5,
   "metadata": {},
   "outputs": [
    {
     "data": {
      "text/plain": [
       "(5600, 1)"
      ]
     },
     "execution_count": 5,
     "metadata": {},
     "output_type": "execute_result"
    }
   ],
   "source": [
    "dataset_train = train_data.y.values\n",
    "# Reshaping 1D to 2D array\n",
    "dataset_train = np.reshape(dataset_train, (-1,1))\n",
    "dataset_train.shape"
   ]
  },
  {
   "cell_type": "code",
   "execution_count": 6,
   "metadata": {},
   "outputs": [
    {
     "data": {
      "text/plain": [
       "(1400, 1)"
      ]
     },
     "execution_count": 6,
     "metadata": {},
     "output_type": "execute_result"
    }
   ],
   "source": [
    "# Selecting Open Price values\n",
    "dataset_test = test_data.y.values\n",
    "# Reshaping 1D to 2D array\n",
    "dataset_test = np.reshape(dataset_test, (-1,1))\n",
    "dataset_test.shape"
   ]
  },
  {
   "cell_type": "code",
   "execution_count": 7,
   "metadata": {},
   "outputs": [
    {
     "data": {
      "text/plain": [
       "array([[0.65164154],\n",
       "       [0.59300044],\n",
       "       [0.51725568],\n",
       "       ...,\n",
       "       [1.28203336],\n",
       "       [1.29913701],\n",
       "       [1.32112742]])"
      ]
     },
     "execution_count": 7,
     "metadata": {},
     "output_type": "execute_result"
    }
   ],
   "source": [
    "dataset_test"
   ]
  },
  {
   "cell_type": "code",
   "execution_count": 8,
   "metadata": {},
   "outputs": [
    {
     "name": "stdout",
     "output_type": "stream",
     "text": [
      "[[0.]\n",
      " [0.]\n",
      " [0.]\n",
      " [0.]\n",
      " [0.]]\n",
      "[0.4881475] [0.46707638] [0.43985953] [0.41791045] [0.4143986]\n"
     ]
    }
   ],
   "source": [
    "from sklearn.preprocessing import MinMaxScaler\n",
    "scaler = MinMaxScaler(feature_range=(0,1))\n",
    "# scaling dataset\n",
    "scaled_train = scaler.fit_transform(dataset_train)\n",
    "\n",
    "print(scaled_train[:5])\n",
    "# Normalizing values between 0 and 1\n",
    "scaled_test = scaler.transform(dataset_test)\n",
    "print(*scaled_test[:5]) #prints the first 5 rows of scaled_test\n"
   ]
  },
  {
   "cell_type": "code",
   "execution_count": 9,
   "metadata": {},
   "outputs": [
    {
     "data": {
      "text/plain": [
       "(torch.Size([5552, 48, 1]), torch.Size([5552, 48, 1]))"
      ]
     },
     "execution_count": 9,
     "metadata": {},
     "output_type": "execute_result"
    }
   ],
   "source": [
    "# Create sequences and labels for training data\n",
    "sequence_length = 48 # Number of time steps to look back\n",
    "X_train, y_train = [], []\n",
    "for i in range(len(scaled_train) - sequence_length):\n",
    "\tX_train.append(scaled_train[i:i+sequence_length])\n",
    "\ty_train.append(scaled_train[i+1:i+sequence_length+1])\n",
    "X_train, y_train = np.array(X_train), np.array(y_train)\n",
    "\n",
    "# Convert data to PyTorch tensors\n",
    "X_train = torch.tensor(X_train, dtype=torch.float32)\n",
    "y_train = torch.tensor(y_train, dtype=torch.float32)\n",
    "X_train.shape,y_train.shape\n"
   ]
  },
  {
   "cell_type": "code",
   "execution_count": 10,
   "metadata": {},
   "outputs": [
    {
     "data": {
      "text/plain": [
       "(torch.Size([1370, 30, 1]), torch.Size([1370, 30, 1]))"
      ]
     },
     "execution_count": 10,
     "metadata": {},
     "output_type": "execute_result"
    }
   ],
   "source": [
    "# Create sequences and labels for testing data\n",
    "sequence_length = 30 # Number of time steps to look back\n",
    "X_test, y_test = [], []\n",
    "for i in range(len(scaled_test) - sequence_length):\n",
    "\tX_test.append(scaled_test[i:i+sequence_length])\n",
    "\ty_test.append(scaled_test[i+1:i+sequence_length+1])\n",
    "X_test, y_test = np.array(X_test), np.array(y_test)\n",
    "\n",
    "# Convert data to PyTorch tensors\n",
    "X_test = torch.tensor(X_test, dtype=torch.float32)\n",
    "y_test = torch.tensor(y_test, dtype=torch.float32)\n",
    "X_test.shape, y_test.shape\n"
   ]
  },
  {
   "cell_type": "code",
   "execution_count": 11,
   "metadata": {},
   "outputs": [],
   "source": [
    "import torch\n",
    "import torch.nn as nn\n",
    "\n",
    "class RNNModel(nn.Module):\n",
    "    def __init__(self, input_size, hidden_size, num_layers):\n",
    "        super(RNNModel, self).__init__()\n",
    "        self.rnn = nn.RNN(input_size, hidden_size, num_layers, batch_first=True)\n",
    "        self.linear = nn.Linear(hidden_size, 1)\n",
    "\n",
    "    def forward(self, x):\n",
    "        # x shape: (batch_size, sequence_length, input_size)\n",
    "        out, _ = self.rnn(x)\n",
    "        # out shape: (batch_size, sequence_length, hidden_size)\n",
    "        out = self.linear(out[:, -1, :])  # Take the last time step's output\n",
    "        # out shape: (batch_size, 1)\n",
    "        return out"
   ]
  },
  {
   "cell_type": "code",
   "execution_count": 12,
   "metadata": {},
   "outputs": [
    {
     "name": "stdout",
     "output_type": "stream",
     "text": [
      "cpu\n"
     ]
    }
   ],
   "source": [
    "device = torch.device('cuda' if torch.cuda.is_available() else 'cpu')\n",
    "print(device)"
   ]
  },
  {
   "cell_type": "code",
   "execution_count": 13,
   "metadata": {},
   "outputs": [
    {
     "name": "stdout",
     "output_type": "stream",
     "text": [
      "RNNModel(\n",
      "  (rnn): RNN(1, 256, num_layers=2, batch_first=True)\n",
      "  (linear): Linear(in_features=256, out_features=1, bias=True)\n",
      ")\n"
     ]
    }
   ],
   "source": [
    "input_size = 1\n",
    "num_layers = 2\n",
    "hidden_size = 256\n",
    "output_size = 1\n",
    "\n",
    "# Define the model, loss function, and optimizer\n",
    "model = RNNModel(input_size, hidden_size, num_layers).to(device)\n",
    "\n",
    "loss_fn = torch.nn.MSELoss(reduction='mean')\n",
    "\n",
    "optimizer = torch.optim.Adam(model.parameters(), lr=1e-4)\n",
    "print(model)\n"
   ]
  },
  {
   "cell_type": "code",
   "execution_count": 14,
   "metadata": {},
   "outputs": [],
   "source": [
    "batch_size = 128\n",
    "# Create DataLoader for batch training\n",
    "train_dataset = torch.utils.data.TensorDataset(X_train, y_train)\n",
    "train_loader = torch.utils.data.DataLoader(train_dataset, batch_size=batch_size, shuffle=True)\n",
    "\n",
    "# Create DataLoader for batch training\n",
    "test_dataset = torch.utils.data.TensorDataset(X_test, y_test)\n",
    "test_loader = torch.utils.data.DataLoader(test_dataset, batch_size=batch_size, shuffle=False)\n"
   ]
  },
  {
   "cell_type": "code",
   "execution_count": 15,
   "metadata": {},
   "outputs": [
    {
     "name": "stdout",
     "output_type": "stream",
     "text": [
      "0. Total Loss: 3.282719833776355\n",
      "1. Total Loss: 0.10213090275647119\n",
      "2. Total Loss: 0.07368396835227031\n",
      "3. Total Loss: 0.0671154475712683\n",
      "4. Total Loss: 0.06576814461732283\n",
      "5. Total Loss: 0.06290467202779837\n",
      "6. Total Loss: 0.06114489908213727\n",
      "7. Total Loss: 0.056612014945130795\n",
      "8. Total Loss: 0.054559663170948625\n",
      "9. Total Loss: 0.05228691980300937\n",
      "Epoch [10/100] - Training Loss: 0.0012, Test Loss: 0.0004\n",
      "10. Total Loss: 0.05144046952773351\n",
      "11. Total Loss: 0.049311499431496486\n",
      "12. Total Loss: 0.04817815027490724\n",
      "13. Total Loss: 0.04744581975683104\n",
      "14. Total Loss: 0.045164232069510035\n",
      "15. Total Loss: 0.043419309848104604\n",
      "16. Total Loss: 0.042700369958765805\n",
      "17. Total Loss: 0.040232043858850375\n",
      "18. Total Loss: 0.040825542993843555\n",
      "19. Total Loss: 0.03996671723143663\n",
      "Epoch [20/100] - Training Loss: 0.0009, Test Loss: 0.0003\n",
      "20. Total Loss: 0.0364059561106842\n",
      "21. Total Loss: 0.03605792921007378\n",
      "22. Total Loss: 0.03515803104164661\n",
      "23. Total Loss: 0.03447187844722066\n",
      "24. Total Loss: 0.03459935147111537\n",
      "25. Total Loss: 0.03262068431649823\n",
      "26. Total Loss: 0.03213233641872648\n",
      "27. Total Loss: 0.02981894978802302\n",
      "28. Total Loss: 0.030163552553858608\n",
      "29. Total Loss: 0.029566560973762535\n",
      "Epoch [30/100] - Training Loss: 0.0007, Test Loss: 0.0002\n",
      "30. Total Loss: 0.029346669456572272\n",
      "31. Total Loss: 0.02886843401938677\n",
      "32. Total Loss: 0.027608418233285192\n",
      "33. Total Loss: 0.0279124478038284\n",
      "34. Total Loss: 0.027713788877008483\n",
      "35. Total Loss: 0.026910676460829563\n",
      "36. Total Loss: 0.025284966817707755\n",
      "37. Total Loss: 0.024982141789223533\n",
      "38. Total Loss: 0.02442382715526037\n",
      "39. Total Loss: 0.023914876102935523\n",
      "Epoch [40/100] - Training Loss: 0.0005, Test Loss: 0.0002\n",
      "40. Total Loss: 0.023187547410998377\n",
      "41. Total Loss: 0.022713160862622317\n",
      "42. Total Loss: 0.022109106474090368\n",
      "43. Total Loss: 0.022249962377827615\n",
      "44. Total Loss: 0.02229299164173426\n",
      "45. Total Loss: 0.020810795771467383\n",
      "46. Total Loss: 0.02224839285190683\n",
      "47. Total Loss: 0.021140451528481208\n",
      "48. Total Loss: 0.01990963138996449\n",
      "49. Total Loss: 0.019857185452565318\n",
      "Epoch [50/100] - Training Loss: 0.0005, Test Loss: 0.0001\n",
      "50. Total Loss: 0.01968508688878501\n",
      "51. Total Loss: 0.01985770812461851\n",
      "52. Total Loss: 0.01888443723146338\n",
      "53. Total Loss: 0.01790498745685909\n",
      "54. Total Loss: 0.017400608656316763\n",
      "55. Total Loss: 0.017889923074108083\n",
      "56. Total Loss: 0.01708512840559706\n",
      "57. Total Loss: 0.01801719448485528\n",
      "58. Total Loss: 0.016321418657753384\n",
      "59. Total Loss: 0.017026894143782556\n",
      "Epoch [60/100] - Training Loss: 0.0004, Test Loss: 0.0001\n",
      "60. Total Loss: 0.01620830078536528\n",
      "61. Total Loss: 0.015943325317493873\n",
      "62. Total Loss: 0.015468733050511219\n",
      "63. Total Loss: 0.017258491388929542\n",
      "64. Total Loss: 0.015005663741249009\n",
      "65. Total Loss: 0.015050516580231488\n",
      "66. Total Loss: 0.014827201910520671\n",
      "67. Total Loss: 0.015352345038991189\n",
      "68. Total Loss: 0.014149908114632126\n",
      "69. Total Loss: 0.014429186183406273\n",
      "Epoch [70/100] - Training Loss: 0.0003, Test Loss: 0.0002\n",
      "70. Total Loss: 0.01507408596080495\n",
      "71. Total Loss: 0.01450364133779658\n",
      "72. Total Loss: 0.013662319619470509\n",
      "73. Total Loss: 0.013257335907837842\n",
      "74. Total Loss: 0.013808630210405681\n",
      "75. Total Loss: 0.01289399993402185\n",
      "76. Total Loss: 0.013379521864408161\n",
      "77. Total Loss: 0.013081624187179841\n",
      "78. Total Loss: 0.012928196658322122\n",
      "79. Total Loss: 0.012743916864565108\n",
      "Epoch [80/100] - Training Loss: 0.0003, Test Loss: 0.0002\n",
      "80. Total Loss: 0.01252877955630538\n",
      "81. Total Loss: 0.012750365520332707\n",
      "82. Total Loss: 0.012682576740189688\n",
      "83. Total Loss: 0.0123342500810395\n",
      "84. Total Loss: 0.012194916009320877\n",
      "85. Total Loss: 0.01234446946909884\n",
      "86. Total Loss: 0.012149336085713003\n",
      "87. Total Loss: 0.011993152071227087\n",
      "88. Total Loss: 0.01267110932894866\n",
      "89. Total Loss: 0.012355153441603761\n",
      "Epoch [90/100] - Training Loss: 0.0003, Test Loss: 0.0002\n",
      "90. Total Loss: 0.01220688352623256\n",
      "91. Total Loss: 0.01311544468262582\n",
      "92. Total Loss: 0.013128505961503834\n",
      "93. Total Loss: 0.012526173501100857\n",
      "94. Total Loss: 0.012264702751053846\n",
      "95. Total Loss: 0.011998728488833876\n",
      "96. Total Loss: 0.01236535539283068\n",
      "97. Total Loss: 0.011604452283791034\n",
      "98. Total Loss: 0.01183964655501768\n",
      "99. Total Loss: 0.01214520848589018\n",
      "Epoch [100/100] - Training Loss: 0.0003, Test Loss: 0.0002\n"
     ]
    }
   ],
   "source": [
    "num_epochs = 100\n",
    "train_hist =[]\n",
    "test_hist =[]\n",
    "# Training loop\n",
    "for epoch in range(num_epochs):\n",
    "\ttotal_loss = 0.0\n",
    "\n",
    "\t# Training\n",
    "\tmodel.train()\n",
    "\tfor batch_X, batch_y in train_loader:\n",
    "\t\tbatch_X, batch_y = batch_X.to(device), batch_y.to(device)\n",
    "\t\tpredictions = model(batch_X)\n",
    "\n",
    "\t\t# print(batch_y.shape)\n",
    "\t\t# print(predictions.shape)\n",
    "\n",
    "\t\ty_batch = batch_y[:, -1, :]  # Take the last time step's value\n",
    "\t\ty_batch = y_batch.view(-1, 1)  # Shape: (batch_size, 1)\n",
    "\t\t\n",
    "\t\tloss = loss_fn(predictions, y_batch)\n",
    "\t\t\n",
    "\n",
    "\t\toptimizer.zero_grad()\n",
    "\t\tloss.backward()\n",
    "\t\toptimizer.step()\n",
    "\n",
    "\t\ttotal_loss += loss.item()\n",
    "\n",
    "\tprint(\"{}. Total Loss: {}\".format(epoch, total_loss))\n",
    "\n",
    "\t# Calculate average training loss and accuracy\n",
    "\taverage_loss = total_loss / len(train_loader)\n",
    "\ttrain_hist.append(average_loss)\n",
    "\n",
    "\t# Validation on test data\n",
    "\tmodel.eval()\n",
    "\twith torch.no_grad():\n",
    "\t\ttotal_test_loss = 0.0\n",
    "\n",
    "\t\tfor batch_X_test, batch_y_test in test_loader:\n",
    "\t\t\tbatch_X_test, batch_y_test = batch_X_test.to(device), batch_y_test.to(device)\n",
    "\t\t\tpredictions_test = model(batch_X_test)\n",
    "\n",
    "\t\t\ty_test_batch = batch_y_test[:, -1, :]  # Take the last time step's value\n",
    "\t\t\ty_test_batch = y_test_batch.view(-1, 1)  # Shape: (batch_size, 1)\n",
    "\n",
    "\t\t\ttest_loss = loss_fn(predictions_test, y_test_batch)\n",
    "\n",
    "\t\t\ttotal_test_loss += test_loss.item()\n",
    "\n",
    "\t\t# Calculate average test loss and accuracy\n",
    "\t\taverage_test_loss = total_test_loss / len(test_loader)\n",
    "\t\ttest_hist.append(average_test_loss)\n",
    "\tif (epoch+1)%10==0:\n",
    "\t\tprint(f'Epoch [{epoch+1}/{num_epochs}] - Training Loss: {average_loss:.4f}, Test Loss: {average_test_loss:.4f}')\n"
   ]
  },
  {
   "cell_type": "code",
   "execution_count": 20,
   "metadata": {},
   "outputs": [
    {
     "data": {
      "image/png": "[encoded data removed]",
      "text/plain": [
       "<Figure size 1400x400 with 1 Axes>"
      ]
     },
     "metadata": {},
     "output_type": "display_data"
    }
   ],
   "source": [
    "x = np.linspace(1,num_epochs,num_epochs)\n",
    "plt.plot(x,train_hist,scalex=True, label=\"Training loss\")\n",
    "plt.plot(x, test_hist, label=\"Test loss\")\n",
    "plt.legend()\n",
    "plt.show()"
   ]
  },
  {
   "cell_type": "code",
   "execution_count": 21,
   "metadata": {},
   "outputs": [
    {
     "name": "stdout",
     "output_type": "stream",
     "text": [
      "(30,)\n",
      "Int64Index([7000, 7001, 7002, 7003, 7004, 7005, 7006, 7007, 7008, 7009, 7010,\n",
      "            7011, 7012, 7013, 7014, 7015, 7016, 7017, 7018, 7019, 7020, 7021,\n",
      "            7022, 7023, 7024, 7025, 7026, 7027, 7028, 7029],\n",
      "           dtype='int64')\n"
     ]
    }
   ],
   "source": [
    "# Define the number of future time steps to forecast\n",
    "num_forecast_steps = 30\n",
    "\n",
    "# Convert to NumPy and remove singleton dimensions\n",
    "sequence_to_plot = X_test.squeeze().cpu().numpy()\n",
    "\n",
    "# Use the last 30 data points as the starting point\n",
    "historical_data = sequence_to_plot[-1]\n",
    "print(historical_data.shape)\n",
    "\n",
    "# Initialize a list to store the forecasted values\n",
    "forecasted_values = []\n",
    "\n",
    "# Use the trained model to forecast future values\n",
    "with torch.no_grad():\n",
    "\tfor _ in range(num_forecast_steps):\n",
    "\t\t# Prepare the historical_data tensor\n",
    "\t\thistorical_data_tensor = torch.as_tensor(historical_data).view(1, -1, 1).float().to(device)\n",
    "\t\t# Use the model to predict the next value\n",
    "\t\tpredicted_value = model(historical_data_tensor).cpu().numpy()[0, 0]\n",
    "\n",
    "\t\t# Append the predicted value to the forecasted_values list\n",
    "\t\tforecasted_values.append(predicted_value)\n",
    "\n",
    "\t\t# Update the historical_data sequence by removing the oldest value and adding the predicted value\n",
    "\t\thistorical_data = np.roll(historical_data, shift=-1)\n",
    "\t\thistorical_data[-1] = predicted_value\n",
    "\n",
    "\t\t\n",
    "# Generate futute indices\n",
    "last_index = test_data.index[-1]\n",
    "\n",
    "# Generate the next 30 dates\n",
    "future_index = pd.Index([last_index + i for i in range(1, 31)])\n",
    "\n",
    "print(future_index)\n",
    "# Concatenate the original index with the future dates\n",
    "combined_index = test_data.index.append(future_index)\n"
   ]
  },
  {
   "cell_type": "code",
   "execution_count": 22,
   "metadata": {},
   "outputs": [
    {
     "data": {
      "text/plain": [
       "(30,)"
      ]
     },
     "execution_count": 22,
     "metadata": {},
     "output_type": "execute_result"
    }
   ],
   "source": [
    "future_index.shape"
   ]
  },
  {
   "cell_type": "code",
   "execution_count": 23,
   "metadata": {},
   "outputs": [
    {
     "data": {
      "image/png": "[encoded data removed]",
      "text/plain": [
       "<Figure size 1400x400 with 1 Axes>"
      ]
     },
     "metadata": {},
     "output_type": "display_data"
    }
   ],
   "source": [
    "#set the size of the plot \n",
    "plt.rcParams['figure.figsize'] = [14, 4] \n",
    "\n",
    "\n",
    "#Test data\n",
    "plt.plot(test_data.index[-100:-30], test_data.y[-100:-30], label = \"test_data\", color = \"b\") \n",
    "#reverse the scaling transformation\n",
    "original_cases = scaler.inverse_transform(np.expand_dims(sequence_to_plot[-1], axis=0)).flatten() \n",
    "\n",
    "#the historical data used as input for forecasting\n",
    "plt.plot(test_data.index[-30:], original_cases, label='actual values', color='green') \n",
    "\n",
    "#Forecasted Values \n",
    "#reverse the scaling transformation\n",
    "forecasted_cases = scaler.inverse_transform(np.expand_dims(forecasted_values, axis=0)).flatten() \n",
    "# plotting the forecasted values\n",
    "plt.plot(test_data.index[-30:], forecasted_cases, label='forecasted values', color='red') \n",
    "\n",
    "plt.xlabel('Time Step')\n",
    "plt.ylabel('Value')\n",
    "plt.legend()\n",
    "plt.title('Time Series Forecasting')\n",
    "plt.grid(True)\n"
   ]
  },
  {
   "cell_type": "code",
   "execution_count": null,
   "metadata": {},
   "outputs": [],
   "source": []
  }
 ],
 "metadata": {
  "kernelspec": {
   "display_name": "streamkernel",
   "language": "python",
   "name": "streamkernel"
  },
  "language_info": {
   "codemirror_mode": {
    "name": "ipython",
    "version": 3
   },
   "file_extension": ".py",
   "mimetype": "text/x-python",
   "name": "python",
   "nbconvert_exporter": "python",
   "pygments_lexer": "ipython3",
   "version": "3.10.6"
  },
  "orig_nbformat": 4
 },
 "nbformat": 4,
 "nbformat_minor": 2
}
